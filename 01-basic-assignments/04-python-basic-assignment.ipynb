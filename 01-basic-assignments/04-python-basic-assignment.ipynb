{
 "cells": [
  {
   "cell_type": "markdown",
   "metadata": {},
   "source": [
    "1. What exactly is []?\n",
    "\n",
    "    This is the notation for a list which contains no elements in it.\n"
   ]
  },
  {
   "cell_type": "markdown",
   "metadata": {},
   "source": [
    "2. In a list of values stored in a variable called spam, how would you assign the value 'hello' as the\n",
    "third value? (Assume [2, 4, 6, 8, 10] are in spam.)\n",
    "\n",
    "    spam[2] = 'hello'\n"
   ]
  },
  {
   "cell_type": "markdown",
   "metadata": {},
   "source": [
    "Let's pretend the spam includes the list ['a','b','c','d'] for the next three queries.\n",
    "3. What is the value of spam[int(int('3' * 2) / 11)]?\n",
    "\n",
    "    '3' * 2 -> '33'\n",
    "    int('33') -> 33\n",
    "    33 / 11 -> 3.0\n",
    "    int(3.0) -> 3\n",
    "\n",
    "    spam[3] -> 'd' \n",
    "\n"
   ]
  },
  {
   "cell_type": "markdown",
   "metadata": {},
   "source": [
    "4. What is the value of spam[-1]?\n",
    "\n",
    "    'd'. -1 returns the last value in the list\n"
   ]
  },
  {
   "cell_type": "markdown",
   "metadata": {},
   "source": [
    "5. What is the value of spam[:2]?\n",
    "\n",
    "    ['a','b']. spam[:2] will return the list with values starting from index 0 till 1\n"
   ]
  },
  {
   "cell_type": "markdown",
   "metadata": {},
   "source": [
    "Let's pretend bacon has the list [3.14, 'cat', 11, 'cat', True] for the next three questions.\n",
    "6. What is the value of bacon.index('cat')?\n",
    "\n",
    "    1\n"
   ]
  },
  {
   "cell_type": "markdown",
   "metadata": {},
   "source": [
    "7. How does bacon.append(99) change the look of the list value in bacon?\n",
    "\n",
    "    [3.14, 'cat', 11, 'cat', True,99]\n"
   ]
  },
  {
   "cell_type": "markdown",
   "metadata": {},
   "source": [
    "8. How does bacon.remove('cat') change the look of the list in bacon?\n",
    "\n",
    "    [3.14, 11, 'cat', True, 99]. This will remove only the first occurence of 'cat'\n"
   ]
  },
  {
   "cell_type": "markdown",
   "metadata": {},
   "source": [
    "9. What are the list concatenation and list replication operators?\n",
    "\n",
    "    + is the list concatentaion operator. It will concatenate two list and return as a single list. * is the list replication operator. It will replicate the elements of list given number of times\n",
    "\n",
    "    l1 = [1,2,3,4]\n",
    "    l2 = [5,6,7,8]\n",
    "    l3 = l1+l2      => [1,2,3,4,5,6,7,8]\n",
    "    l4 = l1*3       => [1,2,3,4,1,2,3,4,1,2,3,4]\n"
   ]
  },
  {
   "cell_type": "markdown",
   "metadata": {},
   "source": [
    "10. What is difference between the list methods append() and insert()?\n",
    "\n",
    "    append() adds elements to end of the list whereas insert() can add elements anywhere in the list using list index\n",
    "\n",
    "    l = [1,2,3,4]\n",
    "    l.append(2)     => [1,2,3,4,2]\n",
    "    l.insert(2,4)   => [1,2,4,3,4,2]\n"
   ]
  },
  {
   "cell_type": "markdown",
   "metadata": {},
   "source": [
    "11. What are the two methods for removing items from a list?\n",
    "\n",
    "    del and remove() are the two methods to remove items from a list. In remove method we have to mention the value we want to remove from the list, and the first occurence of the value will be removed from the list. In del method we have to mention the list name along with index to remove the values\n",
    "\n",
    "    l = [1,2,3,4,2]\n",
    "\n",
    "    del(l[0])       => [2,3,4,2]\n",
    "    l.remove(2)     => [3,4,2]\n",
    "\n",
    "\n"
   ]
  },
  {
   "cell_type": "markdown",
   "metadata": {},
   "source": [
    "12. Describe how list values and string values are identical.\n",
    "\n",
    "    Both the list and strings are iterable. So it has index and can be used with in or not in, can be passed to len(), can be concatenated or replicated.\n"
   ]
  },
  {
   "cell_type": "markdown",
   "metadata": {},
   "source": [
    "13. What's the difference between tuples and lists?\n",
    "\n",
    "    Lists are mutable so the values can be added or removed or replaced. Where as tuples are immutable so once intialised the values cannot be changed.\n"
   ]
  },
  {
   "cell_type": "markdown",
   "metadata": {},
   "source": [
    "14. How do you type a tuple value that only contains the integer 42?\n",
    "\n",
    "    (42,)\n"
   ]
  },
  {
   "cell_type": "markdown",
   "metadata": {},
   "source": [
    "15. How do you get a list value's tuple form? How do you get a tuple value's list form?\n",
    "\n",
    "    tuple() is used for converting values into tuple form. list() is used for converting values into list form\n"
   ]
  },
  {
   "cell_type": "markdown",
   "metadata": {},
   "source": [
    "16. Variables that \"contain\" list values are not necessarily lists themselves. Instead, what do they\n",
    "contain?\n",
    "\n",
    "    They contain references to the list values.\n"
   ]
  },
  {
   "cell_type": "markdown",
   "metadata": {},
   "source": [
    "17. How do you distinguish between copy.copy() and copy.deepcopy()?\n",
    "\n",
    "    copy.copy() creates a shallow copy of the list. Which means that it creates an object which stores the reference to orginal list elements. In shallow copy if the element is a nested list, it won't create a copy. Any changes made inside the nested list will get reflected in the orginal list.\n",
    "\n",
    "    copy.deepcopy() creates an object and recursively add copies of nested object present in the orginal list. In deep copy, since it creates the copy of the nested list, any changes made inside the nested list will not get reflected in the orginal list.\n",
    "\n",
    "    l = [[1,2],3,4]\n",
    "\n",
    "    l2 = copy.copy(l)          => [[1,2],3,4]\n",
    "    l3 = copy.deepcopy(l)      => [[1,2],3,4] \n",
    "\n",
    "    l2.append(5)               => [[1,2],3,4,5]\n",
    "    l                          => [[1,2],3,4] \n",
    "\n",
    "    l2[0][0] = 0               => [[0,2],3,4,5]\n",
    "    l                          => [[0,2],3,4]\n",
    "\n",
    "\n",
    "    l3.append(5)               => [[1,2],3,4,5]\n",
    "    l                          => [[0,2],3,4] \n",
    "\n",
    "    l3[0][0] = 1               => [[1,2],3,4,5]\n",
    "    l                          => [[0,2],3,4]"
   ]
  }
 ],
 "metadata": {
  "interpreter": {
   "hash": "b3ba2566441a7c06988d0923437866b63cedc61552a5af99d1f4fb67d367b25f"
  },
  "kernelspec": {
   "display_name": "Python 3.8.8 ('base')",
   "language": "python",
   "name": "python3"
  },
  "language_info": {
   "codemirror_mode": {
    "name": "ipython",
    "version": 3
   },
   "file_extension": ".py",
   "mimetype": "text/x-python",
   "name": "python",
   "nbconvert_exporter": "python",
   "pygments_lexer": "ipython3",
   "version": "3.8.8"
  },
  "orig_nbformat": 4
 },
 "nbformat": 4,
 "nbformat_minor": 2
}
