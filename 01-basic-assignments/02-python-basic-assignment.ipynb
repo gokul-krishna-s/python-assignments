{
 "cells": [
  {
   "cell_type": "markdown",
   "metadata": {},
   "source": [
    "1. What are the two values of the Boolean data type? How do you write them?\n",
    "\n",
    "    The two values of the boolean data type are True and False."
   ]
  },
  {
   "cell_type": "code",
   "execution_count": 2,
   "metadata": {},
   "outputs": [
    {
     "name": "stdout",
     "output_type": "stream",
     "text": [
      "True\n"
     ]
    }
   ],
   "source": [
    "boolean = False\n",
    "print(boolean)"
   ]
  },
  {
   "cell_type": "markdown",
   "metadata": {},
   "source": [
    "2. What are the three different types of Boolean operators?\n",
    "\n",
    "    The three different boolean operators are AND, OR, NOT"
   ]
  },
  {
   "cell_type": "markdown",
   "metadata": {},
   "source": [
    "3. Make a list of each Boolean operator's truth tables (i.e. every possible combination of Boolean values for the operator and what it   evaluate ).\n",
    "\n",
    "    AND\n",
    "\n",
    "    A\tB\tQ\n",
    "    0\t0\t0\n",
    "    0\t1\t0\n",
    "    1\t0\t0\n",
    "    1\t1\t1\n",
    "\n",
    "    OR\n",
    "\n",
    "    A\tB\tQ\n",
    "    0\t0\t0\n",
    "    0\t1\t1\n",
    "    1\t0\t1\n",
    "    1\t1\t1\n",
    "\n",
    "    NOT\n",
    "\n",
    "    A\tQ\n",
    "    0\t1\n",
    "    1\t0\n",
    "\n"
   ]
  },
  {
   "cell_type": "markdown",
   "metadata": {},
   "source": [
    "4. What are the values of the following expressions?\n",
    "\n",
    "    (5 > 4) and (3 == 5)                        False\n",
    "    not (5 > 4)                                 False\n",
    "    (5 > 4) or (3 == 5)                         True\n",
    "    not ((5 > 4) or (3 == 5))                   False                                              \n",
    "    (True and True) and (True == False)         False\n",
    "    (not False) or (not True)                   True\n"
   ]
  },
  {
   "cell_type": "markdown",
   "metadata": {},
   "source": [
    "5. What are the six comparison operators?\n",
    "\n",
    "    The following are the six comparison operators:\n",
    "\n",
    "    Less than ( < )\n",
    "    Less than or equal to (<=)\n",
    "    Greater than (>)\n",
    "    Greater than or equal to (>=)\n",
    "    Equal to ( == )\n",
    "    Not equal to ( != )"
   ]
  },
  {
   "cell_type": "markdown",
   "metadata": {},
   "source": [
    "6. How do you tell the difference between the equal to and assignment operators?Describe a condition and when you would use one.\n",
    "\n",
    "    equal to(==) is used to compare the left side variable's or expression's value to right side variable's or expression's value whereas the assignment operator is used to assign the right side expression's or variables's value to the left side variable.\n",
    "\n",
    "    eg:\n",
    "    x=5\n",
    "    y=6 \n",
    "    In the above example the values 5,6 is assigned to the variables x,y respectively\n",
    "\n",
    "    x==y\n",
    "    This will return compare the values of x and y and returns True or False. In this example it will return False. \n"
   ]
  },
  {
   "cell_type": "markdown",
   "metadata": {},
   "source": [
    "7. Identify the three blocks in this code:\n",
    "    spam = 0\n",
    "    if spam == 10:\n",
    "    print('eggs')\n",
    "    if spam > 5:\n",
    "    print('bacon')\n",
    "    else:\n",
    "    print('ham')\n",
    "    print('spam')\n",
    "    print('spam')\n",
    "\n",
    "\n",
    "    spam = 0\n",
    "    if spam == 10:              block1\n",
    "        print('eggs')\n",
    "    if spam > 5:                block2\n",
    "        print('bacon')\n",
    "    else:                       block3\n",
    "        print('ham')\n",
    "        print('spam')\n",
    "        print('spam')\n",
    "\n"
   ]
  },
  {
   "cell_type": "markdown",
   "metadata": {},
   "source": [
    "8. Write code that prints Hello if 1 is stored in spam, prints Howdy if 2 is stored in spam, and prints Greetings! if anything else is stored in spam.\n",
    "\n",
    "spam  = int(input())\n",
    "if spam == 1:\n",
    "    print('Hello)\n",
    "elif spam == 2:\n",
    "    print('Howdy')\n",
    "else:\n",
    "    print('Greetings!')\n"
   ]
  },
  {
   "cell_type": "markdown",
   "metadata": {},
   "source": [
    "\n",
    "\n",
    "9. If your programme is stuck in an endless loop, what keys you’ll press?\n",
    "\n",
    "    Ctrl + C\n"
   ]
  },
  {
   "cell_type": "markdown",
   "metadata": {},
   "source": [
    "10. How can you tell the difference between break and continue?\n",
    "\n",
    "    The break statement will terminate the loop whereas continue statement will skip the rest of the loop and start the next iteration.\n"
   ]
  },
  {
   "cell_type": "markdown",
   "metadata": {},
   "source": [
    "11. In a for loop, what is the difference between range(10), range(0, 10), and range(0, 10, 1)?\n",
    "\n",
    "    range(10) - In this a single parameter is passed to the method. This will iterate the loop starting from 0 to 9. By default the value starts from 0 and iterate through the loop with a step size of 1.\n",
    "    range(0,10) - This also will iterate the loop starting from 0 till 9. Here we are explictly mentioning the starting value.\n",
    "    range(0,10,1) - This also will iterate the loop starting from 0 till 9. Here we are explictly mentioning the starting value and the step size.\n"
   ]
  },
  {
   "cell_type": "markdown",
   "metadata": {},
   "source": [
    "12. Write a short program that prints the numbers 1 to 10 using a for loop. Then write an equivalent program that prints the numbers 1 to 10 using a while loop.\n",
    "\n",
    "    for i in range(1,11,1):\n",
    "        print(i)\n",
    "\n",
    "    i = 1\n",
    "    while i<11:\n",
    "        print(i)\n",
    "        I+=1\n"
   ]
  },
  {
   "cell_type": "markdown",
   "metadata": {},
   "source": [
    "13. If you had a function named bacon() inside a module named spam, how would you call it after importing spam?\n",
    "\n",
    "    spam.bacon()\n"
   ]
  },
  {
   "cell_type": "code",
   "execution_count": 1,
   "metadata": {},
   "outputs": [],
   "source": [
    "for i in range(3,10):\n",
    "    open('PythonBasicAssignment{}.ipynb'.format(i),mode='w')"
   ]
  }
 ],
 "metadata": {
  "interpreter": {
   "hash": "b3ba2566441a7c06988d0923437866b63cedc61552a5af99d1f4fb67d367b25f"
  },
  "kernelspec": {
   "display_name": "Python 3.8.8 64-bit ('base': conda)",
   "language": "python",
   "name": "python3"
  },
  "language_info": {
   "codemirror_mode": {
    "name": "ipython",
    "version": 3
   },
   "file_extension": ".py",
   "mimetype": "text/x-python",
   "name": "python",
   "nbconvert_exporter": "python",
   "pygments_lexer": "ipython3",
   "version": "3.8.8"
  },
  "orig_nbformat": 4
 },
 "nbformat": 4,
 "nbformat_minor": 2
}
