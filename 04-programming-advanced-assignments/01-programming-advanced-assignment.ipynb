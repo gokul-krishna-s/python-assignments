{
 "cells": [
  {
   "cell_type": "markdown",
   "metadata": {},
   "source": [
    "##### 1. Write a function that takes a list of lists and returns the value of all of the symbols in it, where each symbol adds or takes something from the total score. Symbol values:\n",
    "`# = 5, O = 3, X = 1, ! = -1, !! = -3 !!! = -5`  \n",
    "A list of lists containing 2 #s, a O, and a !!! would equal (0 + 5 + 5 + 3 - 5) 8. If the final score is negative, return 0 (e.g. 3 #s, 3 !!s, 2 !!!s and a X would be (0 + 5 + 5 + 5 - 3 - 3 - 3 - 5 - 5 + 1) -3, so return 0.  \n",
    "*Examples:*\n",
    "`check_score([[\"#\", \"!\"],[\"!!\", \"X\"]]) ➞ 2`  \n",
    "`check_score([[\"!!!\", \"O\", \"!\"],[\"X\", \"#\", \"!!!\"],[\"!!\", \"X\", \"O\"]]) ➞ 0`"
   ]
  },
  {
   "cell_type": "code",
   "execution_count": 9,
   "metadata": {},
   "outputs": [],
   "source": [
    "def check_score(list_in):\n",
    "    symbol_values = {'#' : 5, 'O' : 3, 'X' : 1, '!' : -1, '!!' : -3, '!!!' : -5}\n",
    "    values_list = [symbol_values[ele] for x in list_in for ele in x]\n",
    "\n",
    "    if sum(values_list) < 0:\n",
    "        return 0\n",
    "    else:\n",
    "        return sum(values_list)"
   ]
  },
  {
   "cell_type": "code",
   "execution_count": 10,
   "metadata": {},
   "outputs": [
    {
     "name": "stdout",
     "output_type": "stream",
     "text": [
      "check_score([[\"#\", \"!\"],[\"!!\", \"X\"]]) -> 2\n",
      "check_score([[\"!!!\", \"O\", \"!\"],[\"X\", \"#\", \"!!!\"],[\"!!\", \"X\", \"O\"]]) -> 0\n"
     ]
    }
   ],
   "source": [
    "print('{} -> {}'.format('check_score([[\"#\", \"!\"],[\"!!\", \"X\"]])', check_score([[\"#\", \"!\"],[\"!!\", \"X\"]])))\n",
    "print('{} -> {}'.format('check_score([[\"!!!\", \"O\", \"!\"],[\"X\", \"#\", \"!!!\"],[\"!!\", \"X\", \"O\"]])', check_score([[\"!!!\", \"O\", \"!\"],[\"X\", \"#\", \"!!!\"],[\"!!\", \"X\", \"O\"]])))"
   ]
  },
  {
   "cell_type": "markdown",
   "metadata": {},
   "source": [
    "##### 2. Create a function that takes a variable number of arguments, each argument representing the number of items in a group, and returns the number of permutations (combinations) of items that you could get by taking one item from each group.\n",
    "*Examples:*  \n",
    "`combinations(2, 3) ➞ 6`  \n",
    "`combinations(3, 7, 4) ➞ 84`  \n",
    "`combinations(2, 3, 4, 5) ➞ 120`  "
   ]
  },
  {
   "cell_type": "code",
   "execution_count": 11,
   "metadata": {},
   "outputs": [],
   "source": [
    "from math import prod\n",
    "def combinations(*args):\n",
    "\n",
    "    return prod([i for i in args])\n"
   ]
  },
  {
   "cell_type": "code",
   "execution_count": 13,
   "metadata": {},
   "outputs": [
    {
     "name": "stdout",
     "output_type": "stream",
     "text": [
      "combinations(2, 3) -> 6\n",
      "combinations(3, 7, 4) -> 84\n",
      "combinations(2, 3, 4, 5) -> 120\n"
     ]
    }
   ],
   "source": [
    "print('{} -> {}'.format('combinations(2, 3)', combinations(2, 3)))\n",
    "print('{} -> {}'.format('combinations(3, 7, 4)', combinations(3, 7, 4)))\n",
    "print('{} -> {}'.format('combinations(2, 3, 4, 5)', combinations(2, 3, 4, 5)))"
   ]
  },
  {
   "cell_type": "markdown",
   "metadata": {},
   "source": [
    "##### 3. Create a function that takes a string as an argument and returns the Morse code equivalent.\n",
    "*Examples:*   \n",
    "`encode_morse(\"EDABBIT CHALLENGE\") ➞ \". -.. .- -... -... .. - -.-. .... .- .-.. .-... -. --. .\"`   \n",
    "`encode_morse(\"HELP ME !\") ➞ \".... . .-.. .--. -- . -.-.--\"`  \n",
    "This dictionary can be used for coding:   \n",
    "`char_to_dots = {\n",
    "'A': '.-', 'B': '-...', 'C': '-.-.', 'D': '-..', 'E': '.', 'F': '..-.',\n",
    "'G': '--.', 'H': '....', 'I': '..', 'J': '.---', 'K': '-.-', 'L': '.-..',\n",
    "'M': '--', 'N': '-.', 'O': '---', 'P': '.--.', 'Q': '--.-', 'R': '.-.',\n",
    "'S': '...', 'T': '-', 'U': '..-', 'V': '...-', 'W': '.--', 'X': '-..-',\n",
    "'Y': '-.--', 'Z': '--..', ' ': ' ', '0': '-----',\n",
    "'1': '.----', '2': '..---', '3': '...--', '4': '....-', '5': '.....',\n",
    "'6': '-....', '7': '--...', '8': '---..', '9': '----.',\n",
    "'&': '.-...', \"'\": '.----.', '@': '.--.-.', ')': '-.--.-', '(': '-.--.',\n",
    "':': '---...', ',': '--..--', '=': '-...-', '!': '-.-.--', '.': '.-.-.-',\n",
    "'-': '-....-', '+': '.-.-.', '\"': '.-..-.', '?': '..--..', '/': '-..-.'\n",
    "}`"
   ]
  },
  {
   "cell_type": "code",
   "execution_count": 22,
   "metadata": {},
   "outputs": [],
   "source": [
    "def encode_morse(str_in):\n",
    "\n",
    "    char_to_dots = {\n",
    "    'A': '.-', 'B': '-...', 'C': '-.-.', 'D': '-..', 'E': '.', 'F': '..-.',\n",
    "    'G': '--.', 'H': '....', 'I': '..', 'J': '.---', 'K': '-.-', 'L': '.-..',\n",
    "    'M': '--', 'N': '-.', 'O': '---', 'P': '.--.', 'Q': '--.-', 'R': '.-.',\n",
    "    'S': '...', 'T': '-', 'U': '..-', 'V': '...-', 'W': '.--', 'X': '-..-',\n",
    "    'Y': '-.--', 'Z': '--..', ' ': ' ', '0': '-----',\n",
    "    '1': '.----', '2': '..---', '3': '...--', '4': '....-', '5': '.....',\n",
    "    '6': '-....', '7': '--...', '8': '---..', '9': '----.',\n",
    "    '&': '.-...', \"'\": '.----.', '@': '.--.-.', ')': '-.--.-', '(': '-.--.',\n",
    "    ':': '---...', ',': '--..--', '=': '-...-', '!': '-.-.--', '.': '.-.-.-',\n",
    "    '-': '-....-', '+': '.-.-.', '\"': '.-..-.', '?': '..--..', '/': '-..-.'\n",
    "    }\n",
    "\n",
    "    str_out = ''\n",
    "\n",
    "    for i in range(len(str_in)):\n",
    "        str_out += char_to_dots[str_in[i]]\n",
    "\n",
    "    return str_out"
   ]
  },
  {
   "cell_type": "code",
   "execution_count": 23,
   "metadata": {},
   "outputs": [
    {
     "name": "stdout",
     "output_type": "stream",
     "text": [
      "encode_morse(\"EDABBIT CHALLENGE\") -> .-...--...-.....- -.-......-.-...-...-.--..\n",
      "encode_morse(\"HELP ME !\") -> ......-...--. --. -.-.--\n"
     ]
    }
   ],
   "source": [
    "print('{} -> {}'.format('encode_morse(\"EDABBIT CHALLENGE\")', encode_morse(\"EDABBIT CHALLENGE\")))\n",
    "print('{} -> {}'.format('encode_morse(\"HELP ME !\")', encode_morse(\"HELP ME !\")))"
   ]
  },
  {
   "cell_type": "markdown",
   "metadata": {},
   "source": [
    "##### 4. Write a function that takes a number and returns True if it's a prime; False otherwise. The number can be 2^64-1 (2 to the power of 63, not XOR). With the standard technique it would be O(2^64-1), which is much too large for the 10 second time limit.\n",
    "*Examples:*  \n",
    "`prime(7) ➞ True`  \n",
    "`prime(56963) ➞ True`  \n",
    "`prime(5151512515524) ➞ False`  "
   ]
  },
  {
   "cell_type": "code",
   "execution_count": 47,
   "metadata": {},
   "outputs": [],
   "source": [
    "def prime(num_in):\n",
    "\n",
    "    if num_in > 2**63:\n",
    "        return 'Please insert number less than 2^63'\n",
    "\n",
    "    if num_in <= 1:\n",
    "        return False\n",
    "    \n",
    "    if (num_in <= 3 or(num_in-1)%6 == 0) or ((num_in+1)%6 == 0):\n",
    "        return True\n",
    "    \n",
    "    return False\n"
   ]
  },
  {
   "cell_type": "code",
   "execution_count": 48,
   "metadata": {},
   "outputs": [
    {
     "name": "stdout",
     "output_type": "stream",
     "text": [
      "prime(7) -> True\n",
      "prime(56963) -> True\n",
      "prime(5151512515524) -> False\n"
     ]
    }
   ],
   "source": [
    "print('{} -> {}'.format('prime(7)', prime(7)))\n",
    "print('{} -> {}'.format('prime(56963)', prime(56963)))\n",
    "print('{} -> {}'.format('prime(5151512515524)', prime(5151512515524)))"
   ]
  },
  {
   "cell_type": "markdown",
   "metadata": {},
   "source": [
    "##### 5. Create a function that converts a word to a bitstring and then to a boolean list based on the following criteria:\n",
    "    1. Locate the position of the letter in the English alphabet (from 1 to 26).\n",
    "    2. Odd positions will be represented as 1 and 0 otherwise.\n",
    "    3. Convert the represented positions to boolean values, 1 for True and 0 for False.\n",
    "    4. Store the conversions into an array.\n",
    "\n",
    "*Examples:*  \n",
    "`to_boolean_list(\"deep\") ➞ [False, True, True, False]`     \n",
    "    `# deep converts to 0110`  \n",
    "    `# d is the 4th alphabet - 0`  \n",
    "    `# e is the 5th alphabet - 1`  \n",
    "    `# e is the 5th alphabet - 1`  \n",
    "    `# p is the 16th alphabet - 0`  \n",
    "`to_boolean_list(\"loves\") ➞ [False, True, False, True, True]`  \n",
    "`to_boolean_list(\"tesh\") ➞ [False, True, True, False]`  "
   ]
  },
  {
   "cell_type": "code",
   "execution_count": 7,
   "metadata": {},
   "outputs": [],
   "source": [
    "def to_boolean_list(str_in):\n",
    "\n",
    "    alphabets = 'abcdefghijklmnopqrstuvwxyz'\n",
    "\n",
    "    oddoreven = [0 if (alphabets.index(i) + 1)%2==0 else 1 for i in str_in]\n",
    "\n",
    "    return [True if i==1 else False for i in oddoreven]\n",
    "    \n",
    "        "
   ]
  },
  {
   "cell_type": "code",
   "execution_count": 9,
   "metadata": {},
   "outputs": [
    {
     "name": "stdout",
     "output_type": "stream",
     "text": [
      "to_boolean_list(\"deep\") -> [False, True, True, False]\n",
      "to_boolean_list(\"loves\") -> [False, True, False, True, True]\n",
      "to_boolean_list(\"tesh\") -> [False, True, True, False]\n"
     ]
    }
   ],
   "source": [
    "print('{} -> {}'.format('to_boolean_list(\"deep\")', to_boolean_list(\"deep\")))\n",
    "print('{} -> {}'.format('to_boolean_list(\"loves\")', to_boolean_list(\"loves\")))\n",
    "print('{} -> {}'.format('to_boolean_list(\"tesh\")', to_boolean_list(\"tesh\")))"
   ]
  }
 ],
 "metadata": {
  "interpreter": {
   "hash": "ad2bdc8ecc057115af97d19610ffacc2b4e99fae6737bb82f5d7fb13d2f2c186"
  },
  "kernelspec": {
   "display_name": "Python 3.9.7 ('base')",
   "language": "python",
   "name": "python3"
  },
  "language_info": {
   "codemirror_mode": {
    "name": "ipython",
    "version": 3
   },
   "file_extension": ".py",
   "mimetype": "text/x-python",
   "name": "python",
   "nbconvert_exporter": "python",
   "pygments_lexer": "ipython3",
   "version": "3.9.7"
  },
  "orig_nbformat": 4
 },
 "nbformat": 4,
 "nbformat_minor": 2
}
