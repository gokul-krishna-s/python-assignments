{
 "cells": [
  {
   "attachments": {},
   "cell_type": "markdown",
   "id": "9af2cc2c",
   "metadata": {},
   "source": [
    "Q1. Given a sentence as txt, return True if any two adjacent words have this property: One word ends with a vowel, while the word immediately after begins with a vowel (a e i o u).\n",
    "\n",
    "*Examples:*  \n",
    "`vowel_links(\"a very large appliance\") ➞ True`  \n",
    "`vowel_links(\"go to edabit\") ➞ True`  \n",
    "`vowel_links(\"an open fire\") ➞ False`  \n",
    "`vowel_links(\"a sudden applause\") ➞ False`  "
   ]
  },
  {
   "cell_type": "code",
   "execution_count": 1,
   "id": "d334d210",
   "metadata": {},
   "outputs": [],
   "source": [
    "def vowel_links(in_string):\n",
    "\n",
    "    in_list = in_string.split(\" \")\n",
    "    vowel_list = ['a','e','i','o','u']\n",
    "    end,start,output = False, False,False\n",
    "    \n",
    "    for ele in range(len(in_list)):\n",
    "        temp = True if in_list[ele][-1] in vowel_list else False\n",
    "        start = True if in_list[ele][0] in vowel_list else False\n",
    "        if start == end == True:\n",
    "            output=True\n",
    "            break\n",
    "        end=temp\n",
    "\n",
    "    return output"
   ]
  },
  {
   "cell_type": "code",
   "execution_count": 2,
   "id": "f3d1aea7",
   "metadata": {},
   "outputs": [
    {
     "name": "stdout",
     "output_type": "stream",
     "text": [
      "vowel_links(\"a very large appliance\") -> True\n",
      "vowel_links(\"go to edabit\") -> True\n",
      "vowel_links(\"an open fire\") -> False\n",
      "vowel_links(\"a sudden applause\") -> False\n"
     ]
    }
   ],
   "source": [
    "print(f'vowel_links(\"a very large appliance\") -> {vowel_links(\"a very large appliance\")}')\n",
    "print(f'vowel_links(\"go to edabit\") -> {vowel_links(\"go to edabit\")}')\n",
    "print(f'vowel_links(\"an open fire\") -> {vowel_links(\"an open fire\")}')\n",
    "print(f'vowel_links(\"a sudden applause\") -> {vowel_links(\"a sudden applause\")}')"
   ]
  },
  {
   "attachments": {},
   "cell_type": "markdown",
   "id": "9fab466a",
   "metadata": {},
   "source": [
    "Q2. You are given three inputs: a string, one letter, and a second letter. Write a function that returns True if every instance of the first letter occurs before every instance of the second letter.\n",
    "\n",
    "*Examples:*    \n",
    "`first_before_second(\"a rabbit jumps joyfully\", \"a\", \"j\") ➞ True`      \n",
    "`# Every instance of \"a\" occurs before every instance of \"j\".`       \n",
    "\n",
    "`first_before_second(\"knaves knew about waterfalls\", \"k\", \"w\") ➞  True`     \n",
    "\n",
    "`first_before_second(\"happy birthday\", \"a\", \"y\") ➞ False`  \n",
    "`# The \"a\" in \"birthday\" occurs after the \"y\" in \"happy\".`  \n",
    "\n",
    "`first_before_second(\"precarious kangaroos\", \"k\", \"a\") ➞ False`   "
   ]
  },
  {
   "cell_type": "code",
   "execution_count": 3,
   "id": "00b6de59",
   "metadata": {},
   "outputs": [],
   "source": [
    "def first_before_second(in_string,in_first,in_second):\n",
    "    last_occur_first = in_string.rfind(in_first)\n",
    "    first_occur_second = in_string.find(in_second)\n",
    "    output = True if last_occur_first < first_occur_second else False\n",
    "    return output"
   ]
  },
  {
   "cell_type": "code",
   "execution_count": 4,
   "id": "a465c3e3",
   "metadata": {},
   "outputs": [
    {
     "name": "stdout",
     "output_type": "stream",
     "text": [
      "first_before_second(\"a rabbit jumps joyfully\", \"a\", \"j\") -> True\n",
      "first_before_second(\"knaves knew about waterfalls\", \"k\", \"w\") -> True\n",
      "first_before_second(\"happy birthday\", \"a\", \"y\") -> False\n",
      "first_before_second(\"precarious kangaroos\", \"k\", \"a\") -> False\n"
     ]
    }
   ],
   "source": [
    "print(f'first_before_second(\"a rabbit jumps joyfully\", \"a\", \"j\") -> {first_before_second(\"a rabbit jumps joyfully\", \"a\", \"j\")}')\n",
    "print(f'first_before_second(\"knaves knew about waterfalls\", \"k\", \"w\") -> {first_before_second(\"knaves knew about waterfalls\", \"k\", \"w\")}')\n",
    "print(f'first_before_second(\"happy birthday\", \"a\", \"y\") -> {first_before_second(\"happy birthday\", \"a\", \"y\")}')\n",
    "print(f'first_before_second(\"precarious kangaroos\", \"k\", \"a\") -> {first_before_second(\"precarious kangaroos\", \"k\", \"a\")}')"
   ]
  },
  {
   "attachments": {},
   "cell_type": "markdown",
   "id": "848113ea",
   "metadata": {},
   "source": [
    "Q3. Create a function that returns the characters from a list or string r on odd or even positions, depending on the specifier s. The specifier will be \"odd\" for items on odd positions (1, 3, 5, ...) and \"even\" for items on even positions (2, 4, 6, ...).\n",
    "\n",
    "*Examples:*  \n",
    "`char_at_pos([2, 4, 6, 8, 10], \"even\") ➞ [4, 8]`  \n",
    "`# 4 & 8 occupy the 2nd & 4th positions`  \n",
    "\n",
    "`char_at_pos(\"EDABIT\", \"odd\") ➞ \"EAI\"`   \n",
    "`# \"E\", \"A\" and \"I\" occupy the 1st, 3rd and 5th positions`  \n",
    "\n",
    "`char_at_pos([\"A\", \"R\", \"B\", \"I\", \"T\", \"R\", \"A\", \"R\", \"I\", \"L\", \"Y\"], \"odd\") ➞ [\"A\", \"B\", \"T\", \"A\", \"I\", \"Y\"]`  "
   ]
  },
  {
   "cell_type": "code",
   "execution_count": 5,
   "id": "22dfe4b4",
   "metadata": {},
   "outputs": [],
   "source": [
    "def char_at_pos(in_list,mode):\n",
    "    out_list = []\n",
    "    for ele in range(len(in_list)):\n",
    "        if mode == 'even' and (ele+1)%2 == 0:\n",
    "            out_list.append(in_list[ele])\n",
    "        elif mode == 'odd' and (ele+1)%2 != 0:\n",
    "            out_list.append(in_list[ele])            \n",
    "    return out_list"
   ]
  },
  {
   "cell_type": "code",
   "execution_count": 8,
   "id": "1c3578d4",
   "metadata": {},
   "outputs": [
    {
     "name": "stdout",
     "output_type": "stream",
     "text": [
      "char_at_pos([2, 4, 6, 8, 10], \"even\") -> [4, 8]\n",
      "char_at_pos(\"EDABIT\", \"odd\") -> ['E', 'A', 'I']\n",
      "char_at_pos([\"A\", \"R\", \"B\", \"I\", \"T\", \"R\", \"A\", \"R\", \"I\", \"L\", \"Y\"], \"odd\") -> ['A', 'B', 'T', 'A', 'I', 'Y']\n"
     ]
    }
   ],
   "source": [
    "print(f'char_at_pos([2, 4, 6, 8, 10], \"even\") -> {char_at_pos([2, 4, 6, 8, 10], \"even\")}')\n",
    "print(f'char_at_pos(\"EDABIT\", \"odd\") -> {char_at_pos(\"EDABIT\", \"odd\")}')\n",
    "print(f'char_at_pos([\"A\", \"R\", \"B\", \"I\", \"T\", \"R\", \"A\", \"R\", \"I\", \"L\", \"Y\"], \"odd\") -> {char_at_pos([\"A\", \"R\", \"B\", \"I\", \"T\", \"R\", \"A\", \"R\", \"I\", \"L\", \"Y\"], \"odd\")}')"
   ]
  },
  {
   "attachments": {},
   "cell_type": "markdown",
   "id": "e6d53fb2",
   "metadata": {},
   "source": [
    "Q4. Write a function that returns the greatest common divisor of all list elements. If the greatest common divisor is 1, return 1.\n",
    "\n",
    "*Examples:*   \n",
    "`GCD([10, 20, 40]) ➞ 10`  \n",
    "`GCD([1, 2, 3, 100]) ➞ 1`  \n",
    "`GCD([1024, 192, 2048, 512]) ➞ 64`  "
   ]
  },
  {
   "cell_type": "code",
   "execution_count": 9,
   "id": "94be635c",
   "metadata": {},
   "outputs": [],
   "source": [
    "def GCD(in_list):\n",
    "    small = min(in_list)\n",
    "    gcd = -1\n",
    "    for i in range(1, small+1):\n",
    "        output = []\n",
    "        for ele in in_list:\n",
    "            output.append(ele%i)\n",
    "        if len(set(output)) == 1 and list(set(output))[0] == 0:\n",
    "            gcd = i\n",
    "    return gcd"
   ]
  },
  {
   "cell_type": "code",
   "execution_count": 10,
   "id": "1379121b",
   "metadata": {},
   "outputs": [
    {
     "name": "stdout",
     "output_type": "stream",
     "text": [
      "GCD([10, 20, 40]) -> 10\n",
      "GCD([1, 2, 3, 100]) -> 1\n",
      "GCD([1024, 192, 2048, 512]) -> 64\n"
     ]
    }
   ],
   "source": [
    "print(f'GCD([10, 20, 40]) -> {GCD([10, 20, 40])}')\n",
    "print(f'GCD([1, 2, 3, 100]) -> {GCD([1, 2, 3, 100])}')\n",
    "print(f'GCD([1024, 192, 2048, 512]) -> {GCD([1024, 192, 2048, 512])}')"
   ]
  },
  {
   "attachments": {},
   "cell_type": "markdown",
   "id": "c1dc0d46",
   "metadata": {},
   "source": [
    "Q5. A number/string is a palindrome if the digits/characters are the same when read both forward and backward. Examples include \"racecar\" and 12321. Given a positive number n, check if n or the binary representation of n is palindromic. Return the following:\n",
    "\n",
    "- \"Decimal only.\" if only n is a palindrome.\n",
    "- \"Binary only.\" if only the binary representation of n is a palindrome.\n",
    "- \"Decimal and binary.\" if both are palindromes.\n",
    "- \"Neither!\" if neither are palindromes.\n",
    "\n",
    "*Examples:*   \n",
    "\n",
    "`palindrome_type(1306031) ➞ \"Decimal only.\"`   \n",
    "`# decimal = 1306031`   \n",
    "`# binary  = \"100111110110110101111\"`   \n",
    "\n",
    "`palindrome_type(427787) ➞ \"Binary only.\"`   \n",
    "`# decimal = 427787`   \n",
    "`# binary  = \"1101000011100001011\"`   \n",
    "\n",
    "`palindrome_type(313) ➞ \"Decimal and binary.\"`  \n",
    "`# decimal = 313`  \n",
    "`# binary  = 100111001`  \n",
    "\n",
    "`palindrome_type(934) ➞ \"Neither!\"`   \n",
    "`# decimal = 934`  \n",
    "`# binary  = \"1110100110\"`  "
   ]
  },
  {
   "cell_type": "code",
   "execution_count": 11,
   "id": "d49e53e5",
   "metadata": {},
   "outputs": [],
   "source": [
    "def palindrome_type(in_num):\n",
    "    output = None\n",
    "    if str(in_num) == str(in_num)[::-1] and str(bin(in_num)[2:]) == str(bin(in_num)[2:])[::-1]:\n",
    "        output = 'Decimal and binary.'\n",
    "    elif str(in_num) == str(in_num)[::-1] and str(bin(in_num)[2:]) != str(bin(in_num)[2:])[::-1]:\n",
    "        output = 'Decimal only.'\n",
    "    elif str(bin(in_num)[2:]) != str(bin(in_num)[2:])[::-1] and str(in_num) == str(in_num)[::-1]:\n",
    "        output = 'Binary only.'\n",
    "    else:\n",
    "        output = 'Neither!'\n",
    "    return output"
   ]
  },
  {
   "cell_type": "code",
   "execution_count": 12,
   "id": "981f508c",
   "metadata": {},
   "outputs": [
    {
     "name": "stdout",
     "output_type": "stream",
     "text": [
      "palindrome_type(1306031) -> Decimal only.\n",
      "palindrome_type(427787) -> Neither!\n",
      "palindrome_type(313) -> Decimal and binary.\n",
      "palindrome_type(934) -> Neither!\n"
     ]
    }
   ],
   "source": [
    "print(f'palindrome_type(1306031) -> {palindrome_type(1306031)}')\n",
    "print(f'palindrome_type(427787) -> {palindrome_type(427787)}')\n",
    "print(f'palindrome_type(313) -> {palindrome_type(313)}')\n",
    "print(f'palindrome_type(934) -> {palindrome_type(934)}')"
   ]
  }
 ],
 "metadata": {
  "kernelspec": {
   "display_name": "base",
   "language": "python",
   "name": "python3"
  },
  "language_info": {
   "codemirror_mode": {
    "name": "ipython",
    "version": 3
   },
   "file_extension": ".py",
   "mimetype": "text/x-python",
   "name": "python",
   "nbconvert_exporter": "python",
   "pygments_lexer": "ipython3",
   "version": "3.9.13"
  },
  "vscode": {
   "interpreter": {
    "hash": "ad2bdc8ecc057115af97d19610ffacc2b4e99fae6737bb82f5d7fb13d2f2c186"
   }
  }
 },
 "nbformat": 4,
 "nbformat_minor": 5
}
