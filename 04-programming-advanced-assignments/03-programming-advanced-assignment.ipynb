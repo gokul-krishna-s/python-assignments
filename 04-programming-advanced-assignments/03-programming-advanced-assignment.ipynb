{
 "cells": [
  {
   "cell_type": "markdown",
   "metadata": {},
   "source": [
    "##### 1. Create a function to perform basic arithmetic operations that includes addition, subtraction, multiplication and division on a string number (e.g. \"12 + 24\" or \"23 - 21\" or \"12 // 12\" or \"12 * 21\").\n",
    "Here, we have 1 followed by a space, operator followed by another space and 2. For the challenge, we are going to have only two numbers between 1 valid operator. The return value should be a number.  \n",
    "eval() is not allowed. In case of division, whenever the second number equals \"0\" return -1.   \n",
    "For example:  `\"15 // 0\"  ➞ -1`   \n",
    "*Examples:*  \n",
    "`arithmetic_operation(\"12 + 12\") ➞ 24 // 12 + 12 = 24`  \n",
    "`arithmetic_operation(\"12 - 12\") ➞ 24 // 12 - 12 = 0`  \n",
    "`arithmetic_operation(\"12 * 12\") ➞ 144 // 12 * 12 = 144`  \n",
    "`arithmetic_operation(\"12 // 0\") ➞ -1 // 12 / 0 = -1`  "
   ]
  },
  {
   "cell_type": "code",
   "execution_count": 3,
   "metadata": {},
   "outputs": [],
   "source": [
    "def arithmetic_operation(string_in):\n",
    "    terms = string_in.split(' ')\n",
    "    opd1 = int(terms[0])\n",
    "    opd2 = int(terms[2])\n",
    "    operator = terms[1]\n",
    "\n",
    "    if operator == '+':\n",
    "        return opd1 + opd2\n",
    "    elif operator == '-':\n",
    "        return opd1 - opd2\n",
    "    elif operator == '*':\n",
    "        return opd1 * opd2\n",
    "    else:\n",
    "        if opd2 == 0:\n",
    "            return -1\n",
    "        else:\n",
    "            return opd1 // opd2"
   ]
  },
  {
   "cell_type": "code",
   "execution_count": 5,
   "metadata": {},
   "outputs": [
    {
     "name": "stdout",
     "output_type": "stream",
     "text": [
      "arithmetic_operation(\"12 + 12\") -> 24\n",
      "arithmetic_operation(\"12 - 12\") -> 0\n",
      "arithmetic_operation(\"12 * 12\") -> 144\n",
      "arithmetic_operation(\"12 // 0\") -> -1\n"
     ]
    }
   ],
   "source": [
    "print('{} -> {}'.format('arithmetic_operation(\"12 + 12\")',arithmetic_operation(\"12 + 12\")))\n",
    "print('{} -> {}'.format('arithmetic_operation(\"12 - 12\")',arithmetic_operation(\"12 - 12\")))\n",
    "print('{} -> {}'.format('arithmetic_operation(\"12 * 12\")',arithmetic_operation(\"12 * 12\")))\n",
    "print('{} -> {}'.format('arithmetic_operation(\"12 // 0\")',arithmetic_operation(\"12 // 0\")))"
   ]
  },
  {
   "cell_type": "markdown",
   "metadata": {},
   "source": [
    "##### 2. Write a function that takes the coordinates of three points in the form of a 2d array and returns the perimeter of the triangle. The given points are the vertices of a triangle on a two-dimensional plane.\n",
    "*Examples:* \n",
    "\n",
    "`perimeter( [ [15, 7], [5, 22], [11, 1] ] ) ➞ 47.08`  \n",
    "`perimeter( [ [0, 0], [0, 1], [1, 0] ] ) ➞ 3.42`  \n",
    "`perimeter( [ [-10, -10], [10, 10 ], [-10, 10] ] ) ➞ 68.28`  "
   ]
  },
  {
   "cell_type": "code",
   "execution_count": 7,
   "metadata": {},
   "outputs": [],
   "source": [
    "import math\n",
    "def perimeter(list2d_in : list):\n",
    "    a = list2d_in[0]\n",
    "    b = list2d_in[1]\n",
    "    c = list2d_in[2]\n",
    "\n",
    "    ab = math.sqrt((b[0]-a[0])**2 + (b[1]-a[1])**2)\n",
    "    bc = math.sqrt((c[0]-b[0])**2 + (c[1]-b[1])**2)\n",
    "    ac = math.sqrt((c[0]-a[0])**2 + (c[1]-a[1])**2)\n",
    "\n",
    "    return round(ab + bc + ac, 2)\n"
   ]
  },
  {
   "cell_type": "code",
   "execution_count": 9,
   "metadata": {},
   "outputs": [
    {
     "name": "stdout",
     "output_type": "stream",
     "text": [
      "perimeter( [ [15, 7], [5, 22], [11, 1] ] ) -> 47.08\n",
      "perimeter( [ [0, 0], [0, 1], [1, 0] ] ) -> 3.41\n",
      "perimeter( [ [-10, -10], [10, 10 ], [-10, 10] ] ] ) -> 68.28\n"
     ]
    }
   ],
   "source": [
    "print('{} -> {}'.format('perimeter( [ [15, 7], [5, 22], [11, 1] ] )',perimeter( [ [15, 7], [5, 22], [11, 1] ] )))\n",
    "print('{} -> {}'.format('perimeter( [ [0, 0], [0, 1], [1, 0] ] )',perimeter( [ [0, 0], [0, 1], [1, 0] ] )))\n",
    "print('{} -> {}'.format('perimeter( [ [-10, -10], [10, 10 ], [-10, 10] ] ] )',perimeter( [ [-10, -10], [10, 10 ], [-10, 10] ] )))"
   ]
  },
  {
   "cell_type": "markdown",
   "metadata": {},
   "source": [
    "##### 3. A city skyline can be represented as a 2-D list with 1s representing buildings. In the example below, the height of the tallest building is 4 (second-most right column).\n",
    "`[[0, 0, 0, 0, 0, 0],\n",
    "[0, 0, 0, 0, 1, 0],\n",
    "[0, 0, 1, 0, 1, 0],\n",
    "[0, 1, 1, 1, 1, 0],\n",
    "[1, 1, 1, 1, 1, 1]]`   \n",
    "\n",
    "Create a function that takes a skyline (2-D list of 0's and 1's) and returns the height of the tallest skyscraper.  \n",
    " \n",
    "*Examples:*  \n",
    "\n",
    "`tallest_skyscraper([[0, 0, 0, 0],[0, 1, 0, 0],[0, 1, 1, 0],[1, 1, 1, 1]]) ➞ 3`  \n",
    "`tallest_skyscraper([[0, 1, 0, 0],[0, 1, 0, 0],[0, 1, 1, 0],[1, 1, 1, 1]]) ➞ 4`  \n",
    "`tallest_skyscraper([[0, 0, 0, 0],[0, 0, 0, 0],[1, 1, 1, 0],[1, 1, 1, 1]]) ➞ 2` "
   ]
  },
  {
   "cell_type": "code",
   "execution_count": 15,
   "metadata": {},
   "outputs": [],
   "source": [
    "def tallest_skyscraper(in_list):\n",
    "    out_list = []\n",
    "    for num in range(len(in_list)):\n",
    "        count = 0\n",
    "        for ele in range(len(in_list[num])):\n",
    "            count += in_list[ele][num]\n",
    "        out_list.append(count)\n",
    "    return max(out_list)"
   ]
  },
  {
   "cell_type": "code",
   "execution_count": 17,
   "metadata": {},
   "outputs": [
    {
     "name": "stdout",
     "output_type": "stream",
     "text": [
      "tallest_skyscraper([[0, 0, 0, 0],[0, 1, 0, 0],[0, 1, 1, 0],[1, 1, 1, 1]]) -> 3\n",
      "tallest_skyscraper([[0, 1, 0, 0],[0, 1, 0, 0],[0, 1, 1, 0],[1, 1, 1, 1]]) -> 4\n",
      "tallest_skyscraper([[0, 0, 0, 0],[0, 0, 0, 0],[1, 1, 1, 0],[1, 1, 1, 1]]) -> 2\n"
     ]
    }
   ],
   "source": [
    "print('{} -> {}'.format('tallest_skyscraper([[0, 0, 0, 0],[0, 1, 0, 0],[0, 1, 1, 0],[1, 1, 1, 1]])',tallest_skyscraper([[0, 0, 0, 0],[0, 1, 0, 0],[0, 1, 1, 0],[1, 1, 1, 1]])))\n",
    "print('{} -> {}'.format('tallest_skyscraper([[0, 1, 0, 0],[0, 1, 0, 0],[0, 1, 1, 0],[1, 1, 1, 1]])',tallest_skyscraper([[0, 1, 0, 0],[0, 1, 0, 0],[0, 1, 1, 0],[1, 1, 1, 1]])))\n",
    "print('{} -> {}'.format('tallest_skyscraper([[0, 0, 0, 0],[0, 0, 0, 0],[1, 1, 1, 0],[1, 1, 1, 1]])',tallest_skyscraper([[0, 0, 0, 0],[0, 0, 0, 0],[1, 1, 1, 0],[1, 1, 1, 1]])))"
   ]
  },
  {
   "cell_type": "markdown",
   "metadata": {},
   "source": [
    "##### 4. A financial institution provides professional services to banks and claims charges from the customers based on the number of man-days provided. Internally, it has set a scheme to motivate and reward staff to meet and exceed targeted billable utilization and revenues by paying a bonus for each day claimed from customers in excess of a threshold target.\n",
    "\n",
    "This quarterly scheme is calculated with a threshold target of 32 days per quarter, and the incentive payment for each billable day in excess of such threshold target is shown as follows:\n",
    "\n",
    "Days                  |              Bonus  \n",
    "0 to 32 days          |               Zero  \n",
    "33 to 40 days         |  SGD$325 per billable day  \n",
    "41 to 48 days         |  SGD$550 per billable day  \n",
    "Greater than 48 days  |    SGD$600 per billable day\n",
    "\n",
    "Please note that incentive payment is calculated progressively. As an example, if an employee reached total billable days of 45 in a quarter, his/her incentive payment is computed as follows:  \n",
    "`32*0 + 8*325 + 5*550 = 5350`  \n",
    "Write a function to read the billable days of an employee and return the bonus he/she has obtained in that quarter.\n",
    "\n",
    "*Examples:*  \n",
    "`bonus(15) ➞ 0`  \n",
    "`bonus(37) ➞ 1625`  \n",
    "`bonus(50) ➞ 8200`  "
   ]
  },
  {
   "cell_type": "code",
   "execution_count": 24,
   "metadata": {},
   "outputs": [],
   "source": [
    "def bonus(int_num: int) -> int:\n",
    "    \n",
    "    if int_num > 48:\n",
    "        incentive = 0+(8*325)+(8*550)+((int_num-48)*600)\n",
    "    elif int_num < 48 and int_num >= 41:\n",
    "        incentive = 0+(8*325)+((int_num-41+1)*550)\n",
    "    elif int_num >33 and int_num <= 40:\n",
    "        incentive = 0+((int_num-33+1)*325)\n",
    "    else:\n",
    "        incentive = 0\n",
    "\n",
    "    return incentive\n",
    "        "
   ]
  },
  {
   "cell_type": "code",
   "execution_count": 23,
   "metadata": {},
   "outputs": [
    {
     "name": "stdout",
     "output_type": "stream",
     "text": [
      "bonus(15) -> 0\n",
      "bonus(37) -> 1625\n",
      "bonus(50) -> 8200\n"
     ]
    }
   ],
   "source": [
    "print('{} -> {}'.format('bonus(15)',bonus(15)))\n",
    "print('{} -> {}'.format('bonus(37)',bonus(37)))\n",
    "print('{} -> {}'.format('bonus(50)',bonus(50)))"
   ]
  },
  {
   "cell_type": "markdown",
   "metadata": {},
   "source": [
    "##### 5. A number is said to be Disarium if the sum of its digits raised to their respective positions is the number itself.\n",
    "Create a function that determines whether a number is a Disarium or not.  \n",
    "\n",
    "*Examples:* \n",
    "\n",
    "`is_disarium(75) ➞ False`    \n",
    "    `# 7^1 + 5^2 = 7 + 25 = 32`  \n",
    "`is_disarium(135) ➞ True`  \n",
    "    `# 1^1 + 3^2 + 5^3 = 1 + 9 + 125 = 135`  \n",
    "`is_disarium(544) ➞ False`  \n",
    "`is_disarium(518) ➞ True`  \n",
    "`is_disarium(466) ➞ False`  \n",
    "`is_disarium(8) ➞ True`  "
   ]
  },
  {
   "cell_type": "code",
   "execution_count": 41,
   "metadata": {},
   "outputs": [],
   "source": [
    "def is_disarium(in_num:int) -> bool:\n",
    "    temp = str(in_num)\n",
    "    sum  = 0\n",
    "    pow = 1\n",
    "    for digit in temp:\n",
    "        sum += int(digit)** pow\n",
    "        pow +=1\n",
    "    \n",
    "    return sum == in_num"
   ]
  },
  {
   "cell_type": "code",
   "execution_count": 42,
   "metadata": {},
   "outputs": [
    {
     "name": "stdout",
     "output_type": "stream",
     "text": [
      "is_disarium(75) -> False\n",
      "is_disarium(135) -> True\n",
      "is_disarium(544) -> False\n",
      "is_disarium(518) -> True\n",
      "is_disarium(466) -> False\n",
      "is_disarium(8) -> True\n"
     ]
    }
   ],
   "source": [
    "print('{} -> {}'.format('is_disarium(75)',is_disarium(75)))\n",
    "print('{} -> {}'.format('is_disarium(135)',is_disarium(135)))\n",
    "print('{} -> {}'.format('is_disarium(544)',is_disarium(544)))\n",
    "print('{} -> {}'.format('is_disarium(518)',is_disarium(518)))\n",
    "print('{} -> {}'.format('is_disarium(466)',is_disarium(466)))\n",
    "print('{} -> {}'.format('is_disarium(8)',is_disarium(8)))"
   ]
  }
 ],
 "metadata": {
  "kernelspec": {
   "display_name": "Python 3.9.7 ('base')",
   "language": "python",
   "name": "python3"
  },
  "language_info": {
   "codemirror_mode": {
    "name": "ipython",
    "version": 3
   },
   "file_extension": ".py",
   "mimetype": "text/x-python",
   "name": "python",
   "nbconvert_exporter": "python",
   "pygments_lexer": "ipython3",
   "version": "3.9.7"
  },
  "orig_nbformat": 4,
  "vscode": {
   "interpreter": {
    "hash": "ad2bdc8ecc057115af97d19610ffacc2b4e99fae6737bb82f5d7fb13d2f2c186"
   }
  }
 },
 "nbformat": 4,
 "nbformat_minor": 2
}
