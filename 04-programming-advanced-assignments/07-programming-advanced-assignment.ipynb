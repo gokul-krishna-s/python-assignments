{
 "cells": [
  {
   "attachments": {},
   "cell_type": "markdown",
   "id": "6e188120",
   "metadata": {},
   "source": [
    "Q1. Write a function that counts how many concentric layers a rug.\n",
    "\n",
    "*Examples:*    \n",
    "`count_layers([\"AAAA\",\"ABBA\",\"AAAA\"]) ➞ 2`  \n",
    "`count_layers([\"AAAAAAAAA\",\"ABBBBBBBA\",\"ABBAAABBA\",\"ABBBBBBBA\",\"AAAAAAAAA\"]) ➞ 3`  \n",
    "`count_layers([\"AAAAAAAAAAA\",\"AABBBBBBBAA\",\"AABCCCCCBAA\",\"AABCAAACBAA\",\"AABCADACBAA\",\"AABCAAACBAA\",\"AABCCCCCBAA\",\"AABBBBBBBAA\",\"AAAAAAAAAAA\"]) ➞ 5`  "
   ]
  },
  {
   "cell_type": "code",
   "execution_count": 3,
   "id": "791df7b3",
   "metadata": {},
   "outputs": [],
   "source": [
    "def count_layers(list_in):\n",
    "    out = []\n",
    "    [out.append(ele) for ele in list_in if ele not in out]\n",
    "\n",
    "    return len(out)\n"
   ]
  },
  {
   "cell_type": "code",
   "execution_count": 4,
   "id": "9f56fb55",
   "metadata": {},
   "outputs": [
    {
     "name": "stdout",
     "output_type": "stream",
     "text": [
      "count_layers([\"AAAA\",\"ABBA\",\"AAAA\"]) -> \"2\"\n",
      "count_layers([\"AAAAAAAAA\",\"ABBBBBBBA\",\"ABBAAABBA\",\"ABBBBBBBA\",\"AAAAAAAAA\"]) -> \"3\"\n",
      "count_layers([\"AAAAAAAAAAA\",\"AABBBBBBBAA\",\"AABCCCCCBAA\",\"AABCAAACBAA\",\"AABCADACBAA\",\"AABCAAACBAA\",\"AABCCCCCBAA\",\"AABBBBBBBAA\",\"AAAAAAAAAAA\"]) -> \"5\"\n"
     ]
    }
   ],
   "source": [
    "print(f'count_layers([\"AAAA\",\"ABBA\",\"AAAA\"]) -> \"{count_layers([\"AAAA\",\"ABBA\",\"AAAA\"])}\"')\n",
    "print(f'count_layers([\"AAAAAAAAA\",\"ABBBBBBBA\",\"ABBAAABBA\",\"ABBBBBBBA\",\"AAAAAAAAA\"]) -> \"{count_layers([\"AAAAAAAAA\",\"ABBBBBBBA\",\"ABBAAABBA\",\"ABBBBBBBA\",\"AAAAAAAAA\"])}\"')\n",
    "print(f'count_layers([\"AAAAAAAAAAA\",\"AABBBBBBBAA\",\"AABCCCCCBAA\",\"AABCAAACBAA\",\"AABCADACBAA\",\"AABCAAACBAA\",\"AABCCCCCBAA\",\"AABBBBBBBAA\",\"AAAAAAAAAAA\"]) -> \"{count_layers([\"AAAAAAAAAAA\",\"AABBBBBBBAA\",\"AABCCCCCBAA\",\"AABCAAACBAA\",\"AABCADACBAA\",\"AABCAAACBAA\",\"AABCCCCCBAA\",\"AABBBBBBBAA\",\"AAAAAAAAAAA\"])}\"')"
   ]
  },
  {
   "attachments": {},
   "cell_type": "markdown",
   "id": "f1524480",
   "metadata": {},
   "source": [
    "Q2. There are many different styles of music and many albums exhibit multiple styles. Create a function that takes a list of musical styles from albums and returns how many styles are unique.\n",
    "\n",
    "*Examples:*    \n",
    "`unique_styles([\n",
    "  \"Dub,Dancehall\",\n",
    "  \"Industrial,Heavy Metal\",\n",
    "  \"Techno,Dubstep\",\n",
    "  \"Synth-pop,Euro-Disco\",\n",
    "  \"Industrial,Techno,Minimal\"\n",
    "]) ➞ 9`  \n",
    "`unique_styles([\n",
    "  \"Soul\",\n",
    "  \"House,Folk\",\n",
    "  \"Trance,Downtempo,Big Beat,House\",\n",
    "  \"Deep House\",\n",
    "  \"Soul\"\n",
    "]) ➞ 7` "
   ]
  },
  {
   "cell_type": "code",
   "execution_count": 13,
   "id": "fc0e90d2",
   "metadata": {},
   "outputs": [],
   "source": [
    "def unique_styles(musical_styles):\n",
    "    unique_styles = []\n",
    "    [unique_styles.append(sub_ele) for ele in musical_styles for sub_ele in ele.split(',')]\n",
    "    return len(set(unique_styles))"
   ]
  },
  {
   "cell_type": "code",
   "execution_count": 14,
   "id": "001fd7ef",
   "metadata": {},
   "outputs": [
    {
     "name": "stdout",
     "output_type": "stream",
     "text": [
      "unique_styles([\"Dub,Dancehall\",\"Industrial,Heavy Metal\",\"Techno,Dubstep\",\"Synth-pop,Euro-Disco\",\"Industrial,Techno,Minimal\"])  -> \"9\"\n",
      "unique_styles([\"Soul\",\"House,Folk\",\"Trance,Downtempo,Big Beat,House\",\"Deep House\",\"Soul\"])  -> \"7\"\n"
     ]
    }
   ],
   "source": [
    "print(f'unique_styles([\"Dub,Dancehall\",\"Industrial,Heavy Metal\",\"Techno,Dubstep\",\"Synth-pop,Euro-Disco\",\"Industrial,Techno,Minimal\"])  -> \"{unique_styles([\"Dub,Dancehall\",\"Industrial,Heavy Metal\",\"Techno,Dubstep\",\"Synth-pop,Euro-Disco\",\"Industrial,Techno,Minimal\"]) }\"')\n",
    "print(f'unique_styles([\"Soul\",\"House,Folk\",\"Trance,Downtempo,Big Beat,House\",\"Deep House\",\"Soul\"])  -> \"{unique_styles([\"Soul\",\"House,Folk\",\"Trance,Downtempo,Big Beat,House\",\"Deep House\",\"Soul\"]) }\"')\n"
   ]
  },
  {
   "attachments": {},
   "cell_type": "markdown",
   "id": "58194a2d",
   "metadata": {},
   "source": [
    "Q3. Create a function that finds a target number in a list of prime numbers. Implement a binary search algorithm in your function. The target number will be from 2 through 97. If the target is prime then return \"yes\" else return \"no\".\n",
    "\n",
    "*Examples:*    \n",
    "`primes = [2, 3, 5, 7, 11, 13, 17, 19, 23, 29, 31, 37, 41, 43, 47, 53, 59, 61, 67, 71, 73, 79, 83, 89, 97]`  \n",
    "`is_prime(primes, 3) ➞ \"yes\"`  \n",
    "`is_prime(primes, 4) ➞ \"no\"`  \n",
    "`is_prime(primes, 67) ➞ \"yes\"`  \n",
    "`is_prime(primes, 36) ➞ \"no\"`  "
   ]
  },
  {
   "cell_type": "code",
   "execution_count": 19,
   "id": "62984d84",
   "metadata": {},
   "outputs": [],
   "source": [
    "primes = [2, 3, 5, 7, 11, 13, 17, 19, 23, 29, 31, 37, 41, 43, 47, 53, 59, 61, 67, 71, 73, 79, 83, 89, 97]\n",
    "\n",
    "def is_prime(primes,target):\n",
    "    out = 'no'\n",
    "    start = 0\n",
    "    end = len(primes) - 1\n",
    "    mid = 0\n",
    "    while start <= end:\n",
    "        mid = (end+start)//2\n",
    "        if primes[mid] == target:\n",
    "            out = 'yes'\n",
    "            break\n",
    "        if primes[mid] < target:\n",
    "            start = mid + 1\n",
    "        elif primes[mid] > target:\n",
    "            end = mid - 1\n",
    "            \n",
    "    return out"
   ]
  },
  {
   "cell_type": "code",
   "execution_count": 20,
   "id": "7d90d5fa",
   "metadata": {},
   "outputs": [
    {
     "name": "stdout",
     "output_type": "stream",
     "text": [
      "is_prime(primes, 3) -> \"yes\"\n",
      "is_prime(primes, 4) -> \"no\"\n",
      "is_prime(primes, 67) -> \"yes\"\n",
      "is_prime(primes, 36) -> \"no\"\n"
     ]
    }
   ],
   "source": [
    "print(f'is_prime(primes, 3) -> \"{is_prime(primes, 3)}\"')\n",
    "print(f'is_prime(primes, 4) -> \"{is_prime(primes, 4)}\"')\n",
    "print(f'is_prime(primes, 67) -> \"{is_prime(primes, 67)}\"')\n",
    "print(f'is_prime(primes, 36) -> \"{is_prime(primes, 36)}\"')"
   ]
  },
  {
   "attachments": {},
   "cell_type": "markdown",
   "id": "5ba7696f",
   "metadata": {},
   "source": [
    "Q4. Create a function that takes in n, a, b and returns the number of positive values raised to the nth power that lie in the range [a, b], inclusive.\n",
    "\n",
    "*Examples:*    \n",
    "`power_ranger(2, 49, 65) ➞ 2`   \n",
    "`# 2 squares (n^2) lie between 49 and 65, 49 (7^2) and 64 (8^2)`   \n",
    "\n",
    "`power_ranger(3, 1, 27) ➞ 3`   \n",
    "`# 3 cubes (n^3) lie between 1 and 27, 1 (1^3), 8 (2^3) and 27 (3^3)`   \n",
    "\n",
    "`power_ranger(10, 1, 5) ➞ 1`  \n",
    "`# 1 value raised to the 10th power lies between 1 and 5, 1 (1^10)`  \n",
    "\n",
    "`power_ranger(5, 31, 33) ➞ 1`  \n",
    "`power_ranger(4, 250, 1300) ➞ 3`  "
   ]
  },
  {
   "cell_type": "code",
   "execution_count": 22,
   "id": "65e1a02e",
   "metadata": {},
   "outputs": [],
   "source": [
    "import math\n",
    "def power_ranger(n,a,b):\n",
    "    \n",
    "    output = []\n",
    "\n",
    "    for ele in range(a,b+1):\n",
    "        root = round(math.exp(math.log(ele)/n),1)\n",
    "        if str(root).split(\".\")[1] == '0':\n",
    "            output.append(int(root))\n",
    "\n",
    "    return len(set(output))"
   ]
  },
  {
   "cell_type": "code",
   "execution_count": 24,
   "id": "45592455",
   "metadata": {},
   "outputs": [
    {
     "name": "stdout",
     "output_type": "stream",
     "text": [
      "power_ranger(2, 49, 65) -> 2\n",
      "power_ranger(3, 1, 27) -> 3\n",
      "power_ranger(10, 1, 5) -> 1\n",
      "power_ranger(5, 31, 33) -> 1\n",
      "power_ranger(4, 250, 1300) -> 3\n"
     ]
    }
   ],
   "source": [
    "print(f'power_ranger(2, 49, 65) -> {power_ranger(2, 49, 65)}')\n",
    "print(f'power_ranger(3, 1, 27) -> {power_ranger(3, 1, 27)}')\n",
    "print(f'power_ranger(10, 1, 5) -> {power_ranger(10, 1, 5)}')\n",
    "print(f'power_ranger(5, 31, 33) -> {power_ranger(5, 31, 33)}')\n",
    "print(f'power_ranger(4, 250, 1300) -> {power_ranger(4, 250, 1300)}')"
   ]
  },
  {
   "cell_type": "markdown",
   "id": "0625a8f8",
   "metadata": {},
   "source": [
    "#### 5. Given a number, return the difference between the maximum and minimum numbers that can be formed when the digits are rearranged.\n",
    "**Examples:**    \n",
    "`rearranged_difference(972882) ➞ 760833`  \n",
    "`# 988722 - 227889 = 760833`  \n",
    "`rearranged_difference(3320707) ➞ 7709823`  \n",
    "`# 7733200 - 23377 = 7709823`  \n",
    "`rearranged_difference(90010) ➞ 90981`  \n",
    "`# 91000 - 19 = 90981`  "
   ]
  },
  {
   "cell_type": "code",
   "execution_count": 27,
   "id": "9d864b13",
   "metadata": {},
   "outputs": [],
   "source": [
    "def rearranged_difference(num):\n",
    "\n",
    "    digits = []\n",
    "   \n",
    "    [digits.append(ele) for ele in str(num)]\n",
    "    min = int(''.join(sorted(digits))) \n",
    "    max = int(''.join(sorted(digits, reverse=True)))\n",
    "\n",
    "    return max-min"
   ]
  },
  {
   "cell_type": "code",
   "execution_count": 28,
   "id": "9a3d113c",
   "metadata": {},
   "outputs": [
    {
     "name": "stdout",
     "output_type": "stream",
     "text": [
      "rearranged_difference(972882) -> 760833\n",
      "rearranged_difference(3320707) -> 7709823\n",
      "rearranged_difference(90010) -> 90981\n"
     ]
    }
   ],
   "source": [
    "print(f'rearranged_difference(972882) -> {rearranged_difference(972882)}')\n",
    "print(f'rearranged_difference(3320707) -> {rearranged_difference(3320707)}')\n",
    "print(f'rearranged_difference(90010) -> {rearranged_difference(90010)}')"
   ]
  },
  {
   "cell_type": "code",
   "execution_count": null,
   "id": "5c5ef1fe",
   "metadata": {},
   "outputs": [],
   "source": []
  }
 ],
 "metadata": {
  "kernelspec": {
   "display_name": "base",
   "language": "python",
   "name": "python3"
  },
  "language_info": {
   "codemirror_mode": {
    "name": "ipython",
    "version": 3
   },
   "file_extension": ".py",
   "mimetype": "text/x-python",
   "name": "python",
   "nbconvert_exporter": "python",
   "pygments_lexer": "ipython3",
   "version": "3.9.13"
  },
  "vscode": {
   "interpreter": {
    "hash": "ad2bdc8ecc057115af97d19610ffacc2b4e99fae6737bb82f5d7fb13d2f2c186"
   }
  }
 },
 "nbformat": 4,
 "nbformat_minor": 5
}
