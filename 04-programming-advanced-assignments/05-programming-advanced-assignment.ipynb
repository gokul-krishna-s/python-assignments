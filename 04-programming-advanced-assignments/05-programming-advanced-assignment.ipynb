{
 "cells": [
  {
   "cell_type": "markdown",
   "id": "a1b117a0",
   "metadata": {},
   "source": [
    "Q1. Create a function that takes a number n (integer greater than zero) as an argument, and returns 2 if n is odd and 8 if n is even. \n",
    "You can only use the following arithmetic operators:  \n",
    "  -  addition of numbers +  \n",
    "  -  subtraction of numbers -  \n",
    "  -  multiplication of number *  \n",
    "  -  division of number /  \n",
    "  -  exponentiation **\n",
    "     \n",
    "You are not allowed to use any other methods in this challenge (i.e. no if statements, comparison operators, etc).  \n",
    "*Examples:*   \n",
    "\n",
    "`f(1) ➞ 2`  \n",
    "`f(2) ➞ 8`  \n",
    "`f(3) ➞ 2` "
   ]
  },
  {
   "cell_type": "code",
   "execution_count": 4,
   "id": "0c3f23e7",
   "metadata": {},
   "outputs": [],
   "source": [
    "def f(num_in):\n",
    "    output = [8,2]\n",
    "    return 8 if (num_in//2)*2 == num_in else  2"
   ]
  },
  {
   "cell_type": "code",
   "execution_count": 6,
   "id": "a7edfd8d",
   "metadata": {},
   "outputs": [
    {
     "name": "stdout",
     "output_type": "stream",
     "text": [
      "f(1) -> 2\n",
      "f(2) -> 8\n",
      "f(3) -> 2\n"
     ]
    }
   ],
   "source": [
    "print('{} -> {}'.format('f(1)',f(1)))\n",
    "print('{} -> {}'.format('f(2)',f(2)))\n",
    "print('{} -> {}'.format('f(3)',f(3)))"
   ]
  },
  {
   "cell_type": "markdown",
   "id": "1201e3a6",
   "metadata": {},
   "source": [
    "Q2. Create a function that returns the majority vote in a list. A majority vote is an element that occurs > N/2 times in a list (where N is the length of the list).\n",
    "\n",
    "*Examples:*   \n",
    "`majority_vote([\"A\", \"A\", \"B\"]) ➞ \"A\"`  \n",
    "`majority_vote([\"A\", \"A\", \"A\", \"B\", \"C\", \"A\"]) ➞ \"A\"`  \n",
    "`majority_vote([\"A\", \"B\", \"B\", \"A\", \"C\", \"C\"]) ➞ None`  "
   ]
  },
  {
   "cell_type": "code",
   "execution_count": 10,
   "id": "34ea855b",
   "metadata": {},
   "outputs": [],
   "source": [
    "def majority_vote(list_in):\n",
    "    major_vote = None\n",
    "    for ele in set(list_in):\n",
    "        if list_in.count(ele) > (len(list_in)/2):\n",
    "            major_vote = ele\n",
    "    return major_vote"
   ]
  },
  {
   "cell_type": "code",
   "execution_count": 11,
   "id": "1b703482",
   "metadata": {},
   "outputs": [
    {
     "name": "stdout",
     "output_type": "stream",
     "text": [
      "majority_vote([\"A\", \"A\", \"B\"]) -> A\n",
      "majority_vote([\"A\", \"A\", \"A\", \"B\", \"C\", \"A\"]) -> A\n",
      "majority_vote([\"A\", \"B\", \"B\", \"A\", \"C\", \"C\"]) -> None\n"
     ]
    }
   ],
   "source": [
    "print('{} -> {}'.format('majority_vote([\"A\", \"A\", \"B\"])',majority_vote([\"A\", \"A\", \"B\"])))\n",
    "print('{} -> {}'.format('majority_vote([\"A\", \"A\", \"A\", \"B\", \"C\", \"A\"])',majority_vote([\"A\", \"A\", \"A\", \"B\", \"C\", \"A\"])))\n",
    "print('{} -> {}'.format('majority_vote([\"A\", \"B\", \"B\", \"A\", \"C\", \"C\"])',majority_vote([\"A\", \"B\", \"B\", \"A\", \"C\", \"C\"])))"
   ]
  },
  {
   "cell_type": "markdown",
   "id": "3438eb6a",
   "metadata": {},
   "source": [
    "Q3. Create a function that takes a string txt and censors any word from a given list lst. The text removed must be replaced by the given character char.\n",
    "\n",
    "*Examples:*   \n",
    "`censor_string(\"Today is a Wednesday!\", [\"Today\", \"a\"], \"-\") ➞ \"----- is - Wednesday!\"`  \n",
    "`censor_string(\"The cow jumped over the moon.\", [\"cow\", \"over\"], \"*\"), \"The *** jumped **** the moon.\")`  \n",
    "`censor_string(\"Why did the chicken cross the road ?\", [\"Did\", \"chicken\", \"road\"], \"*\") ➞ \"Why *** the ******* cross the ****?\"`  "
   ]
  },
  {
   "cell_type": "code",
   "execution_count": 3,
   "id": "4eef5ed7",
   "metadata": {},
   "outputs": [],
   "source": [
    "def censor_string(string_1, string_2, rep_char):\n",
    "    out_string = []\n",
    "    for ele in string_1.split():\n",
    "        if ele.title() in string_2 or ele.lower() in string_2 or ele.upper() in string_2:\n",
    "            out_string.append(rep_char*len(ele))\n",
    "        else:\n",
    "            out_string.append(ele)\n",
    "    return \" \".join(out_string)"
   ]
  },
  {
   "cell_type": "code",
   "execution_count": 4,
   "id": "5760b42a",
   "metadata": {},
   "outputs": [
    {
     "name": "stdout",
     "output_type": "stream",
     "text": [
      "censor_string(\"Today is a Wednesday!\", [\"Today\", \"a\"], \"-\") -> ----- is - Wednesday!\n",
      "censor_string(\"The cow jumped over the moon.\", [\"cow\", \"over\"], \"*\") -> The *** jumped **** the moon.\n",
      "censor_string(\"Why did the chicken cross the road ?\", [\"Did\", \"chicken\", \"road\"], \"*\") -> Why *** the ******* cross the **** ?\n"
     ]
    }
   ],
   "source": [
    "print('{} -> {}'.format('censor_string(\"Today is a Wednesday!\", [\"Today\", \"a\"], \"-\")',censor_string(\"Today is a Wednesday!\", [\"Today\", \"a\"], \"-\")))\n",
    "print('{} -> {}'.format('censor_string(\"The cow jumped over the moon.\", [\"cow\", \"over\"], \"*\")',censor_string(\"The cow jumped over the moon.\", [\"cow\", \"over\"], \"*\")))\n",
    "print('{} -> {}'.format('censor_string(\"Why did the chicken cross the road ?\", [\"Did\", \"chicken\", \"road\"], \"*\")',censor_string(\"Why did the chicken cross the road ?\", [\"Did\", \"chicken\", \"road\"], \"*\")))"
   ]
  },
  {
   "cell_type": "markdown",
   "id": "898c3847",
   "metadata": {},
   "source": [
    "Q4. In mathematics a Polydivisible Number (or magic number) is a number in a given number base with digits abcde... that has the following properties:\n",
    "- Its first digit a is not 0.\n",
    "- The number formed by its first two digits ab is a multiple of 2.\n",
    "- The number formed by its first three digits abc is a multiple of 3.\n",
    "- The number formed by its first four digits abcd is a multiple of 4.  \n",
    "\n",
    "Create a function which takes an integer n and returns True if the given number is a Polydivisible Number and False otherwise. \n",
    "\n",
    "*Examples:*  \n",
    " \n",
    "is_polydivisible(1232) ➞ True   \n",
    "    1     / 1 = 1   \n",
    "    12    / 2 = 6  \n",
    "    123   / 3 = 41  \n",
    "    1232  / 4 = 308  \n",
    "is_polydivisible(123220 ) ➞ False \n",
    "    1   / 1 = 1  \n",
    "    12   / 2 = 6  \n",
    "    123   / 3 = 41  \n",
    "    1232   / 4 = 308  \n",
    "    12322   / 5 = 2464.4           # Not a Whole Number\n",
    "    123220   /6 = 220536.333...    # Not a Whole Number"
   ]
  },
  {
   "cell_type": "code",
   "execution_count": 9,
   "id": "16300760",
   "metadata": {},
   "outputs": [],
   "source": [
    "def is_polydivisible(num_in):\n",
    "\n",
    "    num_str = str(num_in)\n",
    "    flag = 0\n",
    "    for ele in range(len(num_str)):\n",
    "        if(int(num_str[:ele+1])%(ele+1) != 0):\n",
    "           flag = 1\n",
    "        \n",
    "    return False if flag == 1 else True\n",
    "        "
   ]
  },
  {
   "cell_type": "code",
   "execution_count": 10,
   "id": "e9f52dc7",
   "metadata": {},
   "outputs": [
    {
     "name": "stdout",
     "output_type": "stream",
     "text": [
      "is_polydivisible(1232) -> True\n",
      "is_polydivisible(123220) -> False\n"
     ]
    }
   ],
   "source": [
    "print('{} -> {}'.format('is_polydivisible(1232)',is_polydivisible(1232)))\n",
    "print('{} -> {}'.format('is_polydivisible(123220)',is_polydivisible(123220)))"
   ]
  },
  {
   "cell_type": "markdown",
   "id": "23b50918",
   "metadata": {},
   "source": [
    "Q5. Create a function that takes a list of numbers and returns the sum of all prime numbers in the list.\n",
    "**Examples:**   \n",
    "`sum_primes([1, 2, 3, 4, 5, 6, 7, 8, 9, 10]) ➞ 17`   \n",
    "`sum_primes([2, 3, 4, 11, 20, 50, 71]) ➞ 87`  \n",
    "`sum_primes([]) ➞ None`"
   ]
  },
  {
   "cell_type": "code",
   "execution_count": 18,
   "id": "675cc028",
   "metadata": {},
   "outputs": [],
   "source": [
    "def sum_primes(list_of_numbers):\n",
    "    \n",
    "    prime_list = []\n",
    "    for ele in list_of_numbers:\n",
    "        if ele in [2,3] or ele in [6*n-1 for n in range(0,ele)] or ele in [6*n+1 for n in range(0,ele)]:\n",
    "            prime_list.append(ele)\n",
    "        \n",
    "    if 1 in prime_list:\n",
    "        prime_list.remove(1)\n",
    "\n",
    "    return sum(prime_list) if len(prime_list) > 0 else None\n",
    "        "
   ]
  },
  {
   "cell_type": "code",
   "execution_count": 19,
   "id": "49c6d94e",
   "metadata": {},
   "outputs": [
    {
     "name": "stdout",
     "output_type": "stream",
     "text": [
      "sum_primes([1, 2, 3, 4, 5, 6, 7, 8, 9, 10]) -> 17\n",
      "sum_primes([2, 3, 4, 11, 20, 50, 71]) -> 87\n",
      "sum_primes([]) -> None\n"
     ]
    }
   ],
   "source": [
    "print('{} -> {}'.format('sum_primes([1, 2, 3, 4, 5, 6, 7, 8, 9, 10])',sum_primes([1, 2, 3, 4, 5, 6, 7, 8, 9, 10])))\n",
    "print('{} -> {}'.format('sum_primes([2, 3, 4, 11, 20, 50, 71])',sum_primes([2, 3, 4, 11, 20, 50, 71])))\n",
    "print('{} -> {}'.format('sum_primes([])',sum_primes([])))"
   ]
  }
 ],
 "metadata": {
  "kernelspec": {
   "display_name": "Python 3.9.7 ('base')",
   "language": "python",
   "name": "python3"
  },
  "language_info": {
   "codemirror_mode": {
    "name": "ipython",
    "version": 3
   },
   "file_extension": ".py",
   "mimetype": "text/x-python",
   "name": "python",
   "nbconvert_exporter": "python",
   "pygments_lexer": "ipython3",
   "version": "3.9.7"
  },
  "vscode": {
   "interpreter": {
    "hash": "ad2bdc8ecc057115af97d19610ffacc2b4e99fae6737bb82f5d7fb13d2f2c186"
   }
  }
 },
 "nbformat": 4,
 "nbformat_minor": 5
}
