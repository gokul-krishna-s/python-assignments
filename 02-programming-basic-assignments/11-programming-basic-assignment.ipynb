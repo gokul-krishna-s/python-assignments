{
 "cells": [
  {
   "cell_type": "markdown",
   "metadata": {},
   "source": [
    "1. Write a Python program to find words which are greater than given length k?\n"
   ]
  },
  {
   "cell_type": "code",
   "execution_count": 6,
   "metadata": {},
   "outputs": [
    {
     "data": {
      "text/plain": [
       "['program', 'greater']"
      ]
     },
     "execution_count": 6,
     "metadata": {},
     "output_type": "execute_result"
    }
   ],
   "source": [
    "def findLongerWords(str,n):\n",
    "    longerWords = []\n",
    "    words = [words for words in str.split()]\n",
    "    for i in range(len(words)):\n",
    "        if len(words[i]) > n:\n",
    "            longerWords.append(words[i])\n",
    "    return longerWords\n",
    "\n",
    "str = 'Write a Python program to find words which are greater than given length k?'\n",
    "n = 6\n",
    "words = findLongerWords(str,n)\n",
    "words\n"
   ]
  },
  {
   "cell_type": "markdown",
   "metadata": {},
   "source": [
    "2. Write a Python program for removing i-th character from a string?\n"
   ]
  },
  {
   "cell_type": "code",
   "execution_count": 10,
   "metadata": {},
   "outputs": [
    {
     "data": {
      "text/plain": [
       "'Write  Python program for removing i-th character from a string?'"
      ]
     },
     "execution_count": 10,
     "metadata": {},
     "output_type": "execute_result"
    }
   ],
   "source": [
    "def removeCharacter(str,i):\n",
    "\n",
    "    temp1 = str[:i]\n",
    "    temp2 = str[i+1:]\n",
    "\n",
    "    return temp1+temp2\n",
    "\n",
    "str = 'Write a Python program for removing i-th character from a string?'\n",
    "i = 6\n",
    "\n",
    "str2 = removeCharacter(str,i)\n",
    "str2"
   ]
  },
  {
   "cell_type": "markdown",
   "metadata": {},
   "source": [
    "3. Write a Python program to split and join a string?\n"
   ]
  },
  {
   "cell_type": "code",
   "execution_count": 9,
   "metadata": {},
   "outputs": [
    {
     "name": "stdout",
     "output_type": "stream",
     "text": [
      "string after splitting: ['Write', 'a', 'Python', 'program', 'for', 'removing', 'i-th', 'character', 'from', 'a', 'string?']\n",
      "After joining: Write_a_Python_program_for_removing_i-th_character_from_a_string?\n"
     ]
    }
   ],
   "source": [
    "def splitAndJoin(strn):\n",
    "\n",
    "    list_str = strn.split(' ')\n",
    "    print('string after splitting: {}'.format(list_str))\n",
    "\n",
    "    strn = '_'.join(list_str)\n",
    "\n",
    "    return strn\n",
    "    \n",
    "\n",
    "    return temp1+temp2\n",
    "\n",
    "str = 'Write a Python program for removing i-th character from a string?'\n",
    "i = 6\n",
    "\n",
    "str2 = splitAndJoin(str)\n",
    "print('After joining: {}'.format(str2))"
   ]
  },
  {
   "cell_type": "markdown",
   "metadata": {},
   "source": [
    "4. Write a Python to check if a given string is binary string or not?\n"
   ]
  },
  {
   "cell_type": "code",
   "execution_count": 7,
   "metadata": {},
   "outputs": [
    {
     "name": "stdout",
     "output_type": "stream",
     "text": [
      "False\n",
      "True\n"
     ]
    }
   ],
   "source": [
    "def isBinaryString(strn):\n",
    "\n",
    "    result = True\n",
    "    for i in strn:\n",
    "        if i != '0' and i != '1':\n",
    "            result = False\n",
    "            return result\n",
    "\n",
    "    return result\n",
    "\n",
    "str1 = 'Write a Python to check if a given string is binary string or not?'\n",
    "str2 = '0101'\n",
    "print(isBinaryString(str1))\n",
    "print(isBinaryString(str2))"
   ]
  },
  {
   "cell_type": "markdown",
   "metadata": {},
   "source": [
    "5. Write a Python program to find uncommon words from two Strings?\n"
   ]
  },
  {
   "cell_type": "code",
   "execution_count": 11,
   "metadata": {},
   "outputs": [
    {
     "data": {
      "text/plain": [
       "['program',\n",
       " 'find',\n",
       " 'uncommon',\n",
       " 'words',\n",
       " 'from',\n",
       " 'two',\n",
       " 'Strings?',\n",
       " 'check',\n",
       " 'if',\n",
       " 'given',\n",
       " 'string',\n",
       " 'is',\n",
       " 'binary',\n",
       " 'string',\n",
       " 'or',\n",
       " 'not?']"
      ]
     },
     "execution_count": 11,
     "metadata": {},
     "output_type": "execute_result"
    }
   ],
   "source": [
    "def getUncommonWords(str1,str2):\n",
    "\n",
    "    list_a = str1.split()\n",
    "    list_b = str2.split()\n",
    "    uc = []\n",
    "    for i in list_a:\n",
    "        if i not in list_b:\n",
    "            uc.append(i)\n",
    "    for j in list_b:\n",
    "        if j not in list_a:\n",
    "            uc.append(j)\n",
    "  \n",
    "    return uc\n",
    "\n",
    "str1 = 'Write a Python program to find uncommon words from two Strings?'\n",
    "str2 = 'Write a Python to check if a given string is binary string or not?'\n",
    "\n",
    "uncommonWords = getUncommonWords(str1,str2)\n",
    "uncommonWords"
   ]
  },
  {
   "cell_type": "markdown",
   "metadata": {},
   "source": [
    "6. Write a Python to find all duplicate characters in string?\n"
   ]
  },
  {
   "cell_type": "code",
   "execution_count": 12,
   "metadata": {},
   "outputs": [
    {
     "data": {
      "text/plain": [
       "['c', 'a', 'r']"
      ]
     },
     "execution_count": 12,
     "metadata": {},
     "output_type": "execute_result"
    }
   ],
   "source": [
    "def getDuplicateCharacter(strn):\n",
    "    duplicates = []\n",
    "    for i in strn:\n",
    "        if strn.count(i) > 1:\n",
    "            if i not in duplicates:\n",
    "                duplicates.append(i)\n",
    "\n",
    "    return duplicates\n",
    "\n",
    "str1 = 'characters'\n",
    "duplicates = getDuplicateCharacter(str1)\n",
    "duplicates"
   ]
  },
  {
   "cell_type": "markdown",
   "metadata": {},
   "source": [
    "7. Write a Python Program to check if a string contains any special character?. "
   ]
  },
  {
   "cell_type": "code",
   "execution_count": 14,
   "metadata": {},
   "outputs": [
    {
     "name": "stdout",
     "output_type": "stream",
     "text": [
      "True\n",
      "False\n"
     ]
    }
   ],
   "source": [
    "def ifContainsSpecialCharacter(strn):\n",
    "    special_characters = '[@_!#$%^&*()<>?/\\|}{~:]'\n",
    "\n",
    "    for i in strn:\n",
    "        if i in special_characters:\n",
    "            return True\n",
    "\n",
    "    return False\n",
    "\n",
    "str1 = 'Write a Python Program to check if a string contains any special character?'\n",
    "result1 = ifContainsSpecialCharacter(str1)\n",
    "print(result1)\n",
    "\n",
    "str2 = 'Write a Python Program to check if a string contains any special character'\n",
    "result2 = ifContainsSpecialCharacter(str2)\n",
    "print(result2)"
   ]
  }
 ],
 "metadata": {
  "interpreter": {
   "hash": "b3ba2566441a7c06988d0923437866b63cedc61552a5af99d1f4fb67d367b25f"
  },
  "kernelspec": {
   "display_name": "Python 3.8.8 ('base')",
   "language": "python",
   "name": "python3"
  },
  "language_info": {
   "codemirror_mode": {
    "name": "ipython",
    "version": 3
   },
   "file_extension": ".py",
   "mimetype": "text/x-python",
   "name": "python",
   "nbconvert_exporter": "python",
   "pygments_lexer": "ipython3",
   "version": "3.8.8"
  },
  "orig_nbformat": 4
 },
 "nbformat": 4,
 "nbformat_minor": 2
}
