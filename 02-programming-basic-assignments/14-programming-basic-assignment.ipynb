{
 "cells": [
  {
   "cell_type": "markdown",
   "metadata": {},
   "source": [
    "Question 1:\n",
    "Define a class with a generator which can iterate the numbers, which are divisible by\n",
    "7, between a given range 0 and n.\n",
    "\n"
   ]
  },
  {
   "cell_type": "code",
   "execution_count": 9,
   "metadata": {},
   "outputs": [
    {
     "name": "stdout",
     "output_type": "stream",
     "text": [
      "0\n",
      "7\n",
      "14\n",
      "21\n",
      "28\n",
      "35\n",
      "42\n",
      "49\n"
     ]
    }
   ],
   "source": [
    "class DivisibleBy7:\n",
    "\n",
    "    def __init__(self,n):\n",
    "        self.n = n\n",
    "        \n",
    "\n",
    "    def gen(self):\n",
    "        i = 0\n",
    "        while i<self.n:\n",
    "            if i%7==0:\n",
    "                yield i\n",
    "            i += 1\n",
    "\n",
    "\n",
    "for i in DivisibleBy7(50).gen():\n",
    "    print(i)"
   ]
  },
  {
   "cell_type": "markdown",
   "metadata": {},
   "source": [
    "Question 2:\n",
    "Write a program to compute the frequency of the words from the input. The output\n",
    "should output after sorting the key alphanumerically.\n",
    "Suppose the following input is supplied to the program:\n",
    "New to Python or choosing between Python 2 and Python 3? Read Python 2 or\n",
    "Python 3.\n",
    "Then, the output should be:\n",
    "2:2\n",
    "3.:1\n",
    "3?:1\n",
    "New:1\n",
    "Python:5\n",
    "Read:1\n",
    "and:1\n",
    "between:1\n",
    "choosing:1\n",
    "or:2\n",
    "to:1\n",
    "\n"
   ]
  },
  {
   "cell_type": "code",
   "execution_count": 8,
   "metadata": {},
   "outputs": [
    {
     "name": "stdout",
     "output_type": "stream",
     "text": [
      "2:2\n",
      "3.:1\n",
      "3?:1\n",
      "New:1\n",
      "Python:5\n",
      "Read:1\n",
      "and:1\n",
      "between:1\n",
      "choosing:1\n",
      "or:2\n",
      "to:1\n"
     ]
    }
   ],
   "source": [
    "words = [words for words in input().split(' ')]\n",
    "\n",
    "dict_words = dict.fromkeys(words,0)\n",
    "\n",
    "for i in dict_words.keys():\n",
    "    for j in words:\n",
    "        if i == j:\n",
    "            dict_words[i] += 1\n",
    "\n",
    "dict_words = dict(sorted(dict_words.items(), key =\n",
    "             lambda kv:(kv[0], kv[1])))\n",
    "\n",
    "\n",
    "for key,value in dict_words.items():\n",
    "    print('{}:{}'.format(key,value))"
   ]
  },
  {
   "cell_type": "markdown",
   "metadata": {},
   "source": [
    "Question 3:\n",
    "\n",
    "Define a class Person and its two child classes: Male and Female. All classes have a\n",
    "method \"getGender\" which can print \"Male\" for Male class and \"Female\" for Female\n",
    "class.\n",
    "\n"
   ]
  },
  {
   "cell_type": "code",
   "execution_count": 17,
   "metadata": {},
   "outputs": [],
   "source": [
    "class Person:\n",
    "    def __init__(self,gender:str):\n",
    "        self.gender = gender\n",
    "\n",
    "    def getgender(self):\n",
    "        return self.gender\n",
    "\n",
    "class Male(Person):\n",
    "    def __init__(self):\n",
    "        super().__init__('Male')\n",
    "\n",
    "class Female(Person):\n",
    "    def __init__(self):\n",
    "        super().__init__('Female')        \n"
   ]
  },
  {
   "cell_type": "code",
   "execution_count": 18,
   "metadata": {},
   "outputs": [
    {
     "name": "stdout",
     "output_type": "stream",
     "text": [
      "Male\n",
      "Female\n"
     ]
    }
   ],
   "source": [
    "m = Male()\n",
    "print(m.getgender())\n",
    "\n",
    "f = Female()\n",
    "print(f.getgender())"
   ]
  },
  {
   "cell_type": "markdown",
   "metadata": {},
   "source": [
    "Question 4:\n",
    "Please write a program to generate all sentences where subject is in [\"I\", \"You\"] and\n",
    "verb is in [\"Play\", \"Love\"] and the object is in [\"Hockey\",\"Football\"].\n",
    "\n"
   ]
  },
  {
   "cell_type": "code",
   "execution_count": 7,
   "metadata": {},
   "outputs": [
    {
     "name": "stdout",
     "output_type": "stream",
     "text": [
      "I Play Hockey\n",
      "You Play Hockey\n",
      "I Love Hockey\n",
      "You Love Hockey\n",
      "I Play Football\n",
      "You Play Football\n",
      "I Love Football\n",
      "You Love Football\n"
     ]
    }
   ],
   "source": [
    "sub = [\"I\",\"You\"]\n",
    "obj = [\"Hockey\",\"Football\"]\n",
    "verb = [\"Play\",\"Love\"]\n",
    "\n",
    "result = [(s,v,o) for o in obj\n",
    "                    for v in verb\n",
    "                    for s in sub]\n",
    "\n",
    "for s,v,o in result:\n",
    "    print(\"{} {} {}\".format(s,v,o))"
   ]
  },
  {
   "cell_type": "markdown",
   "metadata": {},
   "source": [
    "Question 5:\n",
    "Please write a program to compress and decompress the string \"hello world!hello\n",
    "world!hello world!hello world!\".\n",
    "\n"
   ]
  },
  {
   "cell_type": "code",
   "execution_count": 8,
   "metadata": {},
   "outputs": [
    {
     "name": "stdout",
     "output_type": "stream",
     "text": [
      "b'x\\x9c\\xcbH\\xcd\\xc9\\xc9W(\\xcf/\\xcaIQ\\xcc \\x82\\r\\x00\\xbd[\\x11\\xf5'\n",
      "b'hello world!hello world!hello world!hello world!'\n"
     ]
    }
   ],
   "source": [
    "import zlib\n",
    "\n",
    "strn = 'hello world!hello world!hello world!hello world!'.encode()\n",
    "compressed = zlib.compress(strn)\n",
    "\n",
    "print(compressed)\n",
    "print(zlib.decompress(compressed))"
   ]
  },
  {
   "cell_type": "markdown",
   "metadata": {},
   "source": [
    "Question 6:\n",
    "Please write a binary search function which searches an item in a sorted list. The\n",
    "function should return the index of element to be searched in the list."
   ]
  },
  {
   "cell_type": "code",
   "execution_count": 15,
   "metadata": {},
   "outputs": [
    {
     "name": "stdout",
     "output_type": "stream",
     "text": [
      "5 present at index 2\n"
     ]
    }
   ],
   "source": [
    "def binarySearch(lst,n):\n",
    "    \n",
    "    start = 0\n",
    "    end = len(lst) - 1\n",
    "\n",
    "    while (start<=end):\n",
    "        mid = (start + end) // 2\n",
    "\n",
    "        if(lst[mid] == n):\n",
    "            return mid\n",
    "        elif(lst[mid]<n):\n",
    "            start = mid+1\n",
    "            \n",
    "        elif(lst[mid]>n):\n",
    "            end = mid -1\n",
    "\n",
    "    return None\n",
    "            \n",
    "            \n",
    "\n",
    "lst = [1,3,5,7,8,11]\n",
    "n = 5\n",
    "result = binarySearch(lst,n)\n",
    "if result:\n",
    "    print(\"{} present at index {}\".format(n,result))\n",
    "else:\n",
    "    print(\"{} not present in the list\".format(n))"
   ]
  }
 ],
 "metadata": {
  "interpreter": {
   "hash": "b3ba2566441a7c06988d0923437866b63cedc61552a5af99d1f4fb67d367b25f"
  },
  "kernelspec": {
   "display_name": "Python 3.8.8 ('base')",
   "language": "python",
   "name": "python3"
  },
  "language_info": {
   "codemirror_mode": {
    "name": "ipython",
    "version": 3
   },
   "file_extension": ".py",
   "mimetype": "text/x-python",
   "name": "python",
   "nbconvert_exporter": "python",
   "pygments_lexer": "ipython3",
   "version": "3.8.8"
  },
  "orig_nbformat": 4
 },
 "nbformat": 4,
 "nbformat_minor": 2
}
