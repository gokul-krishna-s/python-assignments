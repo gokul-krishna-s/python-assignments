{
 "cells": [
  {
   "cell_type": "markdown",
   "metadata": {},
   "source": [
    "##### 1. Create a function that takes a string and returns a string in which each character is repeated once.\n",
    "*Examples:*  \n",
    "`double_char(\"String\") ➞ \"SSttrriinngg\"`  \n",
    "`double_char(\"Hello World!\") ➞ \"HHeelllloo WWoorrlldd!!\"`  \n",
    "`doublechar(\"1234!_\") ➞ \"11223344!!__\"`  "
   ]
  },
  {
   "cell_type": "code",
   "execution_count": 3,
   "metadata": {},
   "outputs": [],
   "source": [
    "def double_char(str_in):\n",
    "    str_out = ''\n",
    "    for char in str_in:\n",
    "        str_out += char * 2\n",
    "\n",
    "    return str_out"
   ]
  },
  {
   "cell_type": "code",
   "execution_count": 6,
   "metadata": {},
   "outputs": [
    {
     "name": "stdout",
     "output_type": "stream",
     "text": [
      "double_char(\"String\") -> SSttrriinngg\n",
      "double_char(\"Hello World!\") -> HHeelllloo  WWoorrlldd!!\n",
      "double_char(\"1234!_\") -> 11223344!!__\n"
     ]
    }
   ],
   "source": [
    "print('{} -> {}'.format('double_char(\"String\")',double_char(\"String\")))\n",
    "print('{} -> {}'.format('double_char(\"Hello World!\")',double_char(\"Hello World!\")))\n",
    "print('{} -> {}'.format('double_char(\"1234!_\")',double_char(\"1234!_\")))"
   ]
  },
  {
   "cell_type": "markdown",
   "metadata": {},
   "source": [
    "##### 2. Create a function that reverses a boolean value and returns the string \"boolean expected\" if another variable type is given.\n",
    "*Examples:*  \n",
    "`reverse(True) ➞ False`  \n",
    "`reverse(False) ➞ True`  \n",
    "`reverse(0) ➞ \"boolean expected\"`  \n",
    "`reverse(None) ➞ \"boolean expected\"`  "
   ]
  },
  {
   "cell_type": "code",
   "execution_count": 11,
   "metadata": {},
   "outputs": [],
   "source": [
    "def reverse(boolean):\n",
    "    if type(boolean) != bool:\n",
    "        return 'boolean expected'\n",
    "\n",
    "    elif boolean == True:\n",
    "        return False\n",
    "\n",
    "    else:\n",
    "        return True"
   ]
  },
  {
   "cell_type": "code",
   "execution_count": 12,
   "metadata": {},
   "outputs": [
    {
     "name": "stdout",
     "output_type": "stream",
     "text": [
      "reverse(True) -> False\n",
      "reverse(False) -> True\n",
      "reverse(0) -> boolean expected\n",
      "reverse(None) -> boolean expected\n"
     ]
    }
   ],
   "source": [
    "print('{} -> {}'.format('reverse(True)',reverse(True)))\n",
    "print('{} -> {}'.format('reverse(False)',reverse(False)))\n",
    "print('{} -> {}'.format('reverse(0)',reverse(0)))\n",
    "print('{} -> {}'.format('reverse(None)',reverse(None)))"
   ]
  },
  {
   "cell_type": "markdown",
   "metadata": {},
   "source": [
    "##### 3. Create a function that returns the thickness (in meters) of a piece of paper after folding it n number of times. The paper starts off with a thickness of 0.5mm.\n",
    "*Examples:*  \n",
    "`num_layers(1) ➞ \"0.001m\" # Paper folded once is 1mm (equal to 0.001m)`  \n",
    "`num_layers(4) ➞ \"0.008m\" # Paper folded 4 times is 8mm (equal to 0.008m)`  \n",
    "`num_layers(21) ➞ \"1048.576m\" # Paper folded 21 times is 1048576mm (equal to 1048.576m)`  "
   ]
  },
  {
   "cell_type": "code",
   "execution_count": 18,
   "metadata": {},
   "outputs": [],
   "source": [
    "def num_layers(n):\n",
    "    thickness = 0.5\n",
    "    for i in range(n):\n",
    "        thickness *= 2\n",
    "    \n",
    "    return str(thickness/1000) + 'm'"
   ]
  },
  {
   "cell_type": "code",
   "execution_count": 20,
   "metadata": {},
   "outputs": [
    {
     "name": "stdout",
     "output_type": "stream",
     "text": [
      "num_layers(1) -> 0.001m\n",
      "num_layers(4) -> 0.008m\n",
      "num_layers(21) -> 1048.576m\n"
     ]
    }
   ],
   "source": [
    "print('{} -> {}'.format('num_layers(1)',num_layers(1)))\n",
    "print('{} -> {}'.format('num_layers(4)',num_layers(4)))\n",
    "print('{} -> {}'.format('num_layers(21)',num_layers(21)))"
   ]
  },
  {
   "cell_type": "markdown",
   "metadata": {},
   "source": [
    "##### 4. Create a function that takes a single string as argument and returns an ordered list containing the indices of all capital letters in the string.\n",
    "*Examples:*  \n",
    "`index_of_caps(\"eDaBiT\") ➞ [1, 3, 5]`  \n",
    "`index_of_caps(\"eQuINoX\") ➞ [1, 3, 4, 6]`  \n",
    "`index_of_caps(\"determine\") ➞ []`  \n",
    "`index_of_caps(\"STRIKE\") ➞ [0, 1, 2, 3, 4, 5]`  \n",
    "`index_of_caps(\"sUn\") ➞ [1]`  "
   ]
  },
  {
   "cell_type": "code",
   "execution_count": 30,
   "metadata": {},
   "outputs": [],
   "source": [
    "def index_of_caps(str_in):\n",
    "    list_out = []\n",
    "\n",
    "    for index in range(len(str_in)):\n",
    "        if str_in[index].isupper() == True:\n",
    "            list_out.append(index) \n",
    "\n",
    "    return list_out   "
   ]
  },
  {
   "cell_type": "code",
   "execution_count": 32,
   "metadata": {},
   "outputs": [
    {
     "name": "stdout",
     "output_type": "stream",
     "text": [
      "index_of_caps(\"eDaBiT\") -> [1, 3, 5]\n",
      "index_of_caps(\"eQuINoX\") -> [1, 3, 4, 6]\n",
      "index_of_caps(\"determine\") -> []\n",
      "index_of_caps(\"STRIKE\") -> [0, 1, 2, 3, 4, 5]\n",
      "index_of_caps(\"sUn\") -> [1]\n"
     ]
    }
   ],
   "source": [
    "print('{} -> {}'.format('index_of_caps(\"eDaBiT\")',index_of_caps(\"eDaBiT\")))\n",
    "print('{} -> {}'.format('index_of_caps(\"eQuINoX\")',index_of_caps(\"eQuINoX\")))\n",
    "print('{} -> {}'.format('index_of_caps(\"determine\")',index_of_caps(\"determine\")))\n",
    "print('{} -> {}'.format('index_of_caps(\"STRIKE\")',index_of_caps(\"STRIKE\")))\n",
    "print('{} -> {}'.format('index_of_caps(\"sUn\")',index_of_caps(\"sUn\")))"
   ]
  },
  {
   "cell_type": "markdown",
   "metadata": {},
   "source": [
    "##### 5. Using list comprehensions, create a function that finds all even numbers from 1 to the given number.\n",
    "*Examples:*  \n",
    "`find_even_nums(8) ➞ [2, 4, 6, 8]`  \n",
    "`find_even_nums(4) ➞ [2, 4]`   \n",
    "`find_even_nums(2) ➞ [2]`  "
   ]
  },
  {
   "cell_type": "code",
   "execution_count": 35,
   "metadata": {},
   "outputs": [],
   "source": [
    "def find_even_nums(n):\n",
    "\n",
    "    return [x for x in range(1,n+1) if x%2 == 0]"
   ]
  },
  {
   "cell_type": "code",
   "execution_count": 36,
   "metadata": {},
   "outputs": [
    {
     "name": "stdout",
     "output_type": "stream",
     "text": [
      "find_even_nums(8) -> [2, 4, 6, 8]\n",
      "find_even_nums(4) -> [2, 4]\n",
      "find_even_nums(2) -> [2]\n"
     ]
    }
   ],
   "source": [
    "print('{} -> {}'.format('find_even_nums(8)',find_even_nums(8)))\n",
    "print('{} -> {}'.format('find_even_nums(4)',find_even_nums(4)))\n",
    "print('{} -> {}'.format('find_even_nums(2)',find_even_nums(2)))"
   ]
  }
 ],
 "metadata": {
  "interpreter": {
   "hash": "b3ba2566441a7c06988d0923437866b63cedc61552a5af99d1f4fb67d367b25f"
  },
  "kernelspec": {
   "display_name": "Python 3.9.7 ('base')",
   "language": "python",
   "name": "python3"
  },
  "language_info": {
   "codemirror_mode": {
    "name": "ipython",
    "version": 3
   },
   "file_extension": ".py",
   "mimetype": "text/x-python",
   "name": "python",
   "nbconvert_exporter": "python",
   "pygments_lexer": "ipython3",
   "version": "3.9.7"
  },
  "orig_nbformat": 4
 },
 "nbformat": 4,
 "nbformat_minor": 2
}
