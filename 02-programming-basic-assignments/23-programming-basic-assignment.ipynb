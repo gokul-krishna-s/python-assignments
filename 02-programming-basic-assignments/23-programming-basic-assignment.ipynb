{
 "cells": [
  {
   "cell_type": "markdown",
   "metadata": {},
   "source": [
    "##### 1. Create a function that takes a number as an argument and returns True or False depending on whether the number is symmetrical or not. A number is symmetrical when it is the same as its reverse.\n",
    "*Examples:*    \n",
    "`is_symmetrical(7227) ➞ True`  \n",
    "`is_symmetrical(12567) ➞ False`  \n",
    "`is_symmetrical(44444444) ➞ True`  \n",
    "`is_symmetrical(9939) ➞ False`  \n",
    "`is_symmetrical(1112111) ➞ True`  "
   ]
  },
  {
   "cell_type": "code",
   "execution_count": 7,
   "metadata": {},
   "outputs": [],
   "source": [
    "def is_symmetrical(num_in):\n",
    "    num_in = str(num_in)\n",
    "    \n",
    "    return num_in == num_in[::-1]"
   ]
  },
  {
   "cell_type": "code",
   "execution_count": 9,
   "metadata": {},
   "outputs": [
    {
     "name": "stdout",
     "output_type": "stream",
     "text": [
      "is_symmetrical(7227) -> True\n",
      "is_symmetrical(12567) -> False\n",
      "is_symmetrical(44444444) -> True\n",
      "is_symmetrical(9939) -> False\n",
      "is_symmetrical(1112111) -> True\n"
     ]
    }
   ],
   "source": [
    "print('{} -> {}'.format('is_symmetrical(7227)', is_symmetrical(7227)))\n",
    "print('{} -> {}'.format('is_symmetrical(12567)', is_symmetrical(12567)))\n",
    "print('{} -> {}'.format('is_symmetrical(44444444)', is_symmetrical(44444444)))\n",
    "print('{} -> {}'.format('is_symmetrical(9939)', is_symmetrical(9939)))\n",
    "print('{} -> {}'.format('is_symmetrical(1112111)', is_symmetrical(1112111)))"
   ]
  },
  {
   "cell_type": "markdown",
   "metadata": {},
   "source": [
    "##### 2. Given a string of numbers separated by a comma and space, return the product of the numbers.\n",
    "*Examples:*  \n",
    "`multiply_nums(\"2, 3\") ➞ 6`  \n",
    "`multiply_nums(\"1, 2, 3, 4\") ➞ 24`  \n",
    "`multiply_nums(\"54, 75, 453, 0\") ➞ 0`  \n",
    "`multiply_nums(\"10, -2\") ➞ -20`  "
   ]
  },
  {
   "cell_type": "code",
   "execution_count": 28,
   "metadata": {},
   "outputs": [],
   "source": [
    "def multiply_nums(str_in):\n",
    "    l = list(map(int, str_in.split(', ')))\n",
    "\n",
    "    product = 1\n",
    "    for i in range(len(l)):\n",
    "        product *= l[i]\n",
    "\n",
    "    return product"
   ]
  },
  {
   "cell_type": "code",
   "execution_count": 29,
   "metadata": {},
   "outputs": [
    {
     "name": "stdout",
     "output_type": "stream",
     "text": [
      "multiply_nums(\"2, 3\") -> 6\n",
      "multiply_nums(\"1, 2, 3, 4\") -> 24\n",
      "multiply_nums(\"54, 75, 453, 0\") -> 0\n",
      "multiply_nums(\"10, -2\") -> -20\n"
     ]
    }
   ],
   "source": [
    "print('{} -> {}'.format('multiply_nums(\"2, 3\")', multiply_nums(\"2, 3\")))\n",
    "print('{} -> {}'.format('multiply_nums(\"1, 2, 3, 4\")', multiply_nums(\"1, 2, 3, 4\")))\n",
    "print('{} -> {}'.format('multiply_nums(\"54, 75, 453, 0\")', multiply_nums(\"54, 75, 453, 0\")))\n",
    "print('{} -> {}'.format('multiply_nums(\"10, -2\")', multiply_nums(\"10, -2\")))"
   ]
  },
  {
   "cell_type": "markdown",
   "metadata": {},
   "source": [
    "##### 3. Create a function that squares every digit of a number.\n",
    "**Examples:**  \n",
    "`square_digits(9119) ➞ 811181`  \n",
    "`square_digits(2483) ➞ 416649`  \n",
    "`square_digits(3212) ➞ 9414`  \n",
    "\n",
    "*Notes:*   \n",
    "The function receives an integer and must return an integer."
   ]
  },
  {
   "cell_type": "code",
   "execution_count": 3,
   "metadata": {},
   "outputs": [],
   "source": [
    "def square_digits(num):\n",
    "    square = ''\n",
    "    str_num = str(num)\n",
    "    for digit in str_num:\n",
    "        squared_digit = (int(digit))**2\n",
    "        square += str(squared_digit)\n",
    "    return int(square)\n"
   ]
  },
  {
   "cell_type": "code",
   "execution_count": 6,
   "metadata": {},
   "outputs": [
    {
     "name": "stdout",
     "output_type": "stream",
     "text": [
      "square_digits(9119) -> 811181\n",
      "square_digits(2483) -> 416649\n",
      "square_digits(3212) -> 9414\n"
     ]
    }
   ],
   "source": [
    "print('{} -> {}'.format('square_digits(9119)', square_digits(9119)))\n",
    "print('{} -> {}'.format('square_digits(2483)', square_digits(2483)))\n",
    "print('{} -> {}'.format('square_digits(3212)', square_digits(3212)))"
   ]
  },
  {
   "cell_type": "markdown",
   "metadata": {},
   "source": [
    "##### 4. Create a function that sorts a list and removes all duplicate items from it.\n",
    "*Examples:*  \n",
    "`setify([1, 3, 3, 5, 5]) ➞ [1, 3, 5]`  \n",
    "`setify([4, 4, 4, 4]) ➞ [4]`  \n",
    "`setify([5, 7, 8, 9, 10, 15]) ➞ [5, 7, 8, 9, 10, 15]`  \n",
    "`setify([3, 3, 3, 2, 1]) ➞ [1, 2, 3]`  "
   ]
  },
  {
   "cell_type": "code",
   "execution_count": 1,
   "metadata": {},
   "outputs": [],
   "source": [
    "def setify(list_in):\n",
    "    list_sorted = sorted(list_in)\n",
    "    return list(set(list_sorted))"
   ]
  },
  {
   "cell_type": "code",
   "execution_count": 3,
   "metadata": {},
   "outputs": [
    {
     "name": "stdout",
     "output_type": "stream",
     "text": [
      "setify([1, 3, 3, 5, 5]) -> [1, 3, 5]\n",
      "setify([4, 4, 4, 4]) -> [4]\n",
      "setify([5, 7, 8, 9, 10, 15]) -> [5, 7, 8, 9, 10, 15]\n",
      "setify([3, 3, 3, 2, 1]) -> [1, 2, 3]\n"
     ]
    }
   ],
   "source": [
    "print('{} -> {}'.format('setify([1, 3, 3, 5, 5])', setify([1, 3, 3, 5, 5])))\n",
    "print('{} -> {}'.format('setify([4, 4, 4, 4])', setify([4, 4, 4, 4])))\n",
    "print('{} -> {}'.format('setify([5, 7, 8, 9, 10, 15])', setify([5, 7, 8, 9, 10, 15])))\n",
    "print('{} -> {}'.format('setify([3, 3, 3, 2, 1])', setify([3, 3, 3, 2, 1])))"
   ]
  },
  {
   "cell_type": "markdown",
   "metadata": {},
   "source": [
    "##### 5.Create a function that returns the mean of all digits.\n",
    "**Examples:**  \n",
    "`mean(42) ➞ 3`  \n",
    "`mean(12345) ➞ 3`  \n",
    "`mean(666) ➞ 6`  \n",
    "\n",
    "*Notes:*   \n",
    "    1.The mean of all digits is the sum of digits / how many digits there are (e.g. mean of digits in 512 is (5+1+2)/3(number of digits) = 8/3=2).  \n",
    "    2.The mean will always be an integer."
   ]
  },
  {
   "cell_type": "code",
   "execution_count": 11,
   "metadata": {},
   "outputs": [],
   "source": [
    "def mean(num_in):\n",
    "    num_str = str(num_in)\n",
    "    no_of_digits = len(num_str)\n",
    "    sum = 0\n",
    "    for i in num_str:\n",
    "        sum += int(i)\n",
    "    \n",
    "    return int(sum/no_of_digits)\n"
   ]
  },
  {
   "cell_type": "code",
   "execution_count": 12,
   "metadata": {},
   "outputs": [
    {
     "name": "stdout",
     "output_type": "stream",
     "text": [
      "mean(42) -> 3\n",
      "mean(12345) -> 3\n",
      "mean(666) -> 6\n"
     ]
    }
   ],
   "source": [
    "print('{} -> {}'.format('mean(42)', mean(42)))\n",
    "print('{} -> {}'.format('mean(12345)', mean(12345)))\n",
    "print('{} -> {}'.format('mean(666)', mean(666)))"
   ]
  }
 ],
 "metadata": {
  "interpreter": {
   "hash": "ad2bdc8ecc057115af97d19610ffacc2b4e99fae6737bb82f5d7fb13d2f2c186"
  },
  "kernelspec": {
   "display_name": "Python 3.9.7 ('base')",
   "language": "python",
   "name": "python3"
  },
  "language_info": {
   "codemirror_mode": {
    "name": "ipython",
    "version": 3
   },
   "file_extension": ".py",
   "mimetype": "text/x-python",
   "name": "python",
   "nbconvert_exporter": "python",
   "pygments_lexer": "ipython3",
   "version": "3.9.7"
  },
  "orig_nbformat": 4
 },
 "nbformat": 4,
 "nbformat_minor": 2
}
