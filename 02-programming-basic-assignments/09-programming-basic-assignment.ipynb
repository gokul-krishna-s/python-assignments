{
 "cells": [
  {
   "cell_type": "markdown",
   "metadata": {},
   "source": [
    "1. Write a Python program to check if the given number is a Disarium Number?\n"
   ]
  },
  {
   "cell_type": "code",
   "execution_count": 4,
   "metadata": {},
   "outputs": [
    {
     "name": "stdout",
     "output_type": "stream",
     "text": [
      "175 is a disarium number : True\n"
     ]
    }
   ],
   "source": [
    "def isDissarium(number):\n",
    "    \n",
    "    temp = number\n",
    "    length = len(str(number))\n",
    "    sum  = 0\n",
    "    while (temp!=0):\n",
    "        lastdigit = temp%10\n",
    "        sum += lastdigit**length\n",
    "        temp = temp // 10\n",
    "        length += -1\n",
    "\n",
    "    return sum == number   \n",
    "\n",
    "\n",
    "\n",
    "number = 175\n",
    "result = isDissarium(number)\n",
    "print(\"{} is a disarium number : {}\".format(number,result))"
   ]
  },
  {
   "cell_type": "markdown",
   "metadata": {},
   "source": [
    "2. Write a Python program to print all disarium numbers between 1 to 100?\n"
   ]
  },
  {
   "cell_type": "code",
   "execution_count": 6,
   "metadata": {},
   "outputs": [
    {
     "name": "stdout",
     "output_type": "stream",
     "text": [
      "0 1 2 3 4 5 6 7 8 9 89 135 175 518 598 "
     ]
    }
   ],
   "source": [
    "def printDissarium(start,end):\n",
    "\n",
    "    for number in range(start,end+1):\n",
    "        temp = number\n",
    "        length = len(str(number))\n",
    "        sum  = 0\n",
    "        while (temp!=0):\n",
    "            lastdigit = temp%10\n",
    "            sum += lastdigit**length\n",
    "            temp = temp // 10\n",
    "            length += -1\n",
    "\n",
    "        if (sum == number):\n",
    "            print(number,end=\" \")   \n",
    "\n",
    "\n",
    "\n",
    "start = 0\n",
    "end = 1000\n",
    "printDissarium(start,end)\n"
   ]
  },
  {
   "cell_type": "markdown",
   "metadata": {},
   "source": [
    "3. Write a Python program to check if the given number is Happy Number?\n"
   ]
  },
  {
   "cell_type": "code",
   "execution_count": 8,
   "metadata": {},
   "outputs": [
    {
     "name": "stdout",
     "output_type": "stream",
     "text": [
      "32 is a happy number: True\n"
     ]
    }
   ],
   "source": [
    "def isHappyNumber(number):\n",
    "    \n",
    "    temp = number\n",
    "    length = len(str(number))\n",
    "    sum  = 0\n",
    "    while (True):\n",
    "\n",
    "        sum = 0\n",
    "        for i in range(0,length):\n",
    "            lastdigit = temp%10\n",
    "            sum += lastdigit**2\n",
    "            temp = temp // 10\n",
    "        \n",
    "        length = len(str(sum))\n",
    "        temp = sum\n",
    "\n",
    "        if length == 1:\n",
    "            break\n",
    "\n",
    "    return sum==1\n",
    "\n",
    "number = 32\n",
    "result = isHappyNumber(number)\n",
    "print(\"{} is a happy number: {}\".format(number,result))"
   ]
  },
  {
   "cell_type": "markdown",
   "metadata": {},
   "source": [
    "4. Write a Python program to print all happy numbers between 1 and 100?\n"
   ]
  },
  {
   "cell_type": "code",
   "execution_count": 9,
   "metadata": {},
   "outputs": [
    {
     "name": "stdout",
     "output_type": "stream",
     "text": [
      "1 7 10 13 19 23 28 31 32 44 49 68 70 79 82 86 91 94 97 100 103 109 129 130 133 139 167 176 188 190 192 193 203 208 219 226 230 236 239 262 263 280 291 293 301 302 310 313 319 320 326 329 331 338 356 362 365 367 368 376 379 383 386 391 392 397 404 409 440 446 464 469 478 487 490 496 536 556 563 565 566 608 617 622 623 632 635 637 638 644 649 653 655 656 665 671 673 680 683 694 700 709 716 736 739 748 761 763 784 790 793 802 806 818 820 833 836 847 860 863 874 881 888 899 901 904 907 910 912 913 921 923 931 932 937 940 946 964 970 973 989 998 1000 "
     ]
    }
   ],
   "source": [
    "def printHappyNumber(start,end):\n",
    "\n",
    "    for number in range(start,end+1):\n",
    "    \n",
    "        temp = number\n",
    "        length = len(str(number))\n",
    "        sum  = 0\n",
    "        while (True):\n",
    "\n",
    "            sum = 0\n",
    "            for i in range(0,length):\n",
    "                lastdigit = temp%10\n",
    "                sum += lastdigit**2\n",
    "                temp = temp // 10\n",
    "            \n",
    "            length = len(str(sum))\n",
    "            temp = sum\n",
    "\n",
    "            if length == 1:\n",
    "                break\n",
    "\n",
    "        if sum == 1:\n",
    "            print(number,end=\" \")\n",
    "\n",
    "\n",
    "start = 0\n",
    "end = 1000\n",
    "printHappyNumber(start,end)"
   ]
  },
  {
   "cell_type": "markdown",
   "metadata": {},
   "source": [
    "5. Write a Python program to determine whether the given number is a Harshad Number?\n"
   ]
  },
  {
   "cell_type": "code",
   "execution_count": 11,
   "metadata": {},
   "outputs": [
    {
     "name": "stdout",
     "output_type": "stream",
     "text": [
      "54 is a Harshad number : True\n"
     ]
    }
   ],
   "source": [
    "def isHarshadNumber(number):\n",
    "    \n",
    "    temp = number\n",
    "    sum  = 0\n",
    "    while (temp!=0):\n",
    "        lastdigit = temp%10\n",
    "        sum += lastdigit\n",
    "        temp = temp // 10\n",
    "        \n",
    "\n",
    "    return number%sum == 0   \n",
    "\n",
    "\n",
    "\n",
    "number = 54\n",
    "result = isHarshadNumber(number)\n",
    "print(\"{} is a Harshad number : {}\".format(number,result))"
   ]
  },
  {
   "cell_type": "markdown",
   "metadata": {},
   "source": [
    "6. Write a Python program to print all pronic numbers between 1 and 100?"
   ]
  },
  {
   "cell_type": "code",
   "execution_count": 16,
   "metadata": {},
   "outputs": [
    {
     "name": "stdout",
     "output_type": "stream",
     "text": [
      "2 6 12 20 30 42 56 72 90 110 132 156 182 210 240 272 306 342 380 420 462 506 552 600 650 702 756 812 870 930 992 "
     ]
    }
   ],
   "source": [
    "def printPronicNumber(start,end):\n",
    "\n",
    "    for number in range(start,end+1):\n",
    "        for j in range(number):\n",
    "            if number == j*(j+1):\n",
    "                print(number,end=\" \")\n",
    "\n",
    "start = 0\n",
    "end = 1000\n",
    "printPronicNumber(start,end)"
   ]
  }
 ],
 "metadata": {
  "interpreter": {
   "hash": "b3ba2566441a7c06988d0923437866b63cedc61552a5af99d1f4fb67d367b25f"
  },
  "kernelspec": {
   "display_name": "Python 3.8.8 ('base')",
   "language": "python",
   "name": "python3"
  },
  "language_info": {
   "codemirror_mode": {
    "name": "ipython",
    "version": 3
   },
   "file_extension": ".py",
   "mimetype": "text/x-python",
   "name": "python",
   "nbconvert_exporter": "python",
   "pygments_lexer": "ipython3",
   "version": "3.8.8"
  },
  "orig_nbformat": 4
 },
 "nbformat": 4,
 "nbformat_minor": 2
}
