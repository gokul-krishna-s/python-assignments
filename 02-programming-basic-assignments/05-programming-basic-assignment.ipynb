{
 "cells": [
  {
   "cell_type": "markdown",
   "metadata": {},
   "source": [
    "Q1.\tWrite a Python Program to Find LCM?"
   ]
  },
  {
   "cell_type": "code",
   "execution_count": 6,
   "metadata": {},
   "outputs": [
    {
     "name": "stdout",
     "output_type": "stream",
     "text": [
      "LCM of 23, 32 = 736\n"
     ]
    }
   ],
   "source": [
    "num1 = int(input())\n",
    "num2 = int(input())\n",
    "\n",
    "larger = None\n",
    "if num1 > num2:\n",
    "    larger = num1\n",
    "else:\n",
    "    larger = num2\n",
    "\n",
    "lcm = None\n",
    "i = larger\n",
    "while(True):\n",
    "    if(i%num1==0 and i%num2==0):\n",
    "        lcm = i\n",
    "        break\n",
    "    i+=1\n",
    "\n",
    "print(\"LCM of {num1}, {num2} = {lcm}\".format(num1=num1,lcm=lcm,num2=num2))"
   ]
  },
  {
   "cell_type": "markdown",
   "metadata": {},
   "source": [
    "Q2.\tWrite a Python Program to Find HCF?"
   ]
  },
  {
   "cell_type": "code",
   "execution_count": 11,
   "metadata": {},
   "outputs": [
    {
     "name": "stdout",
     "output_type": "stream",
     "text": [
      "HCF of 3, 6 = 3\n"
     ]
    }
   ],
   "source": [
    "num1 = int(input())\n",
    "num2 = int(input())\n",
    "\n",
    "smaller = None\n",
    "if num1 > num2:\n",
    "    smaller = num1\n",
    "else:\n",
    "    smaller = num2\n",
    "\n",
    "hcf = None\n",
    "i = 1\n",
    "while(i<=smaller):\n",
    "    if(num1%i==0 and num2%i==0):\n",
    "        hcf = i\n",
    "    i+=1\n",
    "\n",
    "print(\"HCF of {num1}, {num2} = {hcf}\".format(num1=num1,hcf=hcf,num2=num2))"
   ]
  },
  {
   "cell_type": "markdown",
   "metadata": {},
   "source": [
    "Q3.\tWrite a Python Program to Convert Decimal to Binary, Octal and Hexadecimal?"
   ]
  },
  {
   "cell_type": "code",
   "execution_count": 23,
   "metadata": {},
   "outputs": [
    {
     "name": "stdout",
     "output_type": "stream",
     "text": [
      "10 is 0b1010 in binary\n",
      "10 is 0o12 in octal\n",
      "10 is 0xa in hexadecimal\n"
     ]
    }
   ],
   "source": [
    "decimal_value = int(input(\"enter the decimal value: \"))\n",
    "\n",
    "print(\"{} is {} in binary\".format(decimal_value,bin(decimal_value)))\n",
    "print(\"{} is {} in octal\".format(decimal_value,oct(decimal_value)))\n",
    "print(\"{} is {} in hexadecimal\".format(decimal_value,hex(decimal_value)))"
   ]
  },
  {
   "cell_type": "markdown",
   "metadata": {},
   "source": [
    "Q4.\tWrite a Python Program To Find ASCII value of a character?"
   ]
  },
  {
   "cell_type": "code",
   "execution_count": 14,
   "metadata": {},
   "outputs": [
    {
     "name": "stdout",
     "output_type": "stream",
     "text": [
      "The ASCII value of character A is 65\n"
     ]
    }
   ],
   "source": [
    "c = input()\n",
    "\n",
    "print(\"The ASCII value of character {} is {}\".format(c,ord(c)))"
   ]
  },
  {
   "cell_type": "markdown",
   "metadata": {},
   "source": [
    "Q5.\tWrite a Python Program to Make a Simple Calculator with 4 basic mathematical operations?"
   ]
  },
  {
   "cell_type": "code",
   "execution_count": 22,
   "metadata": {},
   "outputs": [
    {
     "name": "stdout",
     "output_type": "stream",
     "text": [
      "1. Addition\n",
      "2. Subtraction\n",
      "3. Multiplication\n",
      "4. Division\n",
      "The quotient of 2,3 is 0.6666666666666666\n"
     ]
    }
   ],
   "source": [
    "print(\"1. Addition\")\n",
    "print(\"2. Subtraction\")\n",
    "print(\"3. Multiplication\")\n",
    "print(\"4. Division\")\n",
    "\n",
    "choice = int(input(\"Enter Your Choice\"))\n",
    "num1 = int(input('Enter the first number'))\n",
    "num2 = int(input('Enter the second number'))\n",
    "\n",
    "if choice == 1:\n",
    "    print(\"The sum of {},{} is {}\".format(num1,num2,num1+num2))\n",
    "\n",
    "elif choice == 2:\n",
    "    print(\"The difference of {},{} is {}\".format(num1,num2,num1-num2))\n",
    "\n",
    "elif choice == 3:\n",
    "    print(\"The product of {},{} is {}\".format(num1,num2,num1*num2))\n",
    "elif choice == 4:\n",
    "    print(\"The quotient of {},{} is {}\".format(num1,num2,num1/num2))\n"
   ]
  }
 ],
 "metadata": {
  "interpreter": {
   "hash": "b3ba2566441a7c06988d0923437866b63cedc61552a5af99d1f4fb67d367b25f"
  },
  "kernelspec": {
   "display_name": "Python 3.8.8 ('base')",
   "language": "python",
   "name": "python3"
  },
  "language_info": {
   "codemirror_mode": {
    "name": "ipython",
    "version": 3
   },
   "file_extension": ".py",
   "mimetype": "text/x-python",
   "name": "python",
   "nbconvert_exporter": "python",
   "pygments_lexer": "ipython3",
   "version": "3.8.8"
  },
  "orig_nbformat": 4
 },
 "nbformat": 4,
 "nbformat_minor": 2
}
