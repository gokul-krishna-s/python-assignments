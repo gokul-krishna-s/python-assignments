{
 "cells": [
  {
   "cell_type": "markdown",
   "metadata": {},
   "source": [
    "Question 1:\n",
    "Please write a program using generator to print the numbers which can be divisible by 5 and\n",
    "7 between 0 and n in comma separated form while n is input by console.\n",
    "Example:\n",
    "If the following n is given as input to the program:\n",
    "100\n",
    "Then, the output of the program should be:\n",
    "0,35,70"
   ]
  },
  {
   "cell_type": "code",
   "execution_count": 5,
   "metadata": {},
   "outputs": [
    {
     "name": "stdout",
     "output_type": "stream",
     "text": [
      "0,35,70\n"
     ]
    }
   ],
   "source": [
    "class DivisibleBy5and7:\n",
    "\n",
    "    def __init__(self,n):\n",
    "        self.n = n\n",
    "        \n",
    "\n",
    "    def gen(self):\n",
    "        i = 0\n",
    "        while i<= self.n:\n",
    "            if i%7==0 and i%5==0:\n",
    "                yield i\n",
    "            i += 1\n",
    "\n",
    "\n",
    "n = int(input())\n",
    "result = []\n",
    "for i in DivisibleBy5and7(n).gen():\n",
    "    result.append(i)\n",
    "\n",
    "print(*result,sep=',')  \n"
   ]
  },
  {
   "cell_type": "markdown",
   "metadata": {},
   "source": [
    "Question 2:\n",
    "Please write a program using generator to print the even numbers between 0 and n in comma\n",
    "separated form while n is input by console.\n",
    "Example:\n",
    "If the following n is given as input to the program:\n",
    "10\n",
    "Then, the output of the program should be:\n",
    "0,2,4,6,8,10"
   ]
  },
  {
   "cell_type": "code",
   "execution_count": 38,
   "metadata": {},
   "outputs": [
    {
     "name": "stdout",
     "output_type": "stream",
     "text": [
      "0,2,4,6,8,10\n"
     ]
    }
   ],
   "source": [
    "class ReturnEven:\n",
    "\n",
    "    def __init__(self,n):\n",
    "        self.n = n\n",
    "        \n",
    "\n",
    "    def gen(self):\n",
    "        i = 0\n",
    "        while i<=self.n:\n",
    "            if i%2==0 :\n",
    "                yield i\n",
    "            i += 1\n",
    "\n",
    "\n",
    "n = int(input())\n",
    "result = []\n",
    "for i in ReturnEven(n).gen():\n",
    "    result.append(i)\n",
    "\n",
    "print(*result,sep=',') "
   ]
  },
  {
   "cell_type": "markdown",
   "metadata": {},
   "source": [
    "Question 3:\n",
    "The Fibonacci Sequence is computed based on the following formula:\n",
    "f(n)=0 if n=0\n",
    "f(n)=1 if n=1\n",
    "f(n)=f(n-1)+f(n-2) if n>1\n",
    "Please write a program using list comprehension to print the Fibonacci Sequence in comma\n",
    "separated form with a given n input by console.\n",
    "Example:\n",
    "If the following n is given as input to the program:\n",
    "7\n",
    "\n",
    "Then, the output of the program should be:\n",
    "0,1,1,2,3,5,8,13"
   ]
  },
  {
   "cell_type": "code",
   "execution_count": 24,
   "metadata": {},
   "outputs": [
    {
     "name": "stdout",
     "output_type": "stream",
     "text": [
      "0,1,1,2,3,5,8,13\n"
     ]
    }
   ],
   "source": [
    "n = int(input())\n",
    "\n",
    "result = []\n",
    "if n == 0:\n",
    "    result = [0]\n",
    "elif n == 1:\n",
    "    result = [0,1]\n",
    "else:\n",
    "    result = [0,1]\n",
    "    [result.append(result[-1]+result[-2]) for i in range(n+1) if i>1]\n",
    "\n",
    "print(*result,sep=',')"
   ]
  },
  {
   "cell_type": "markdown",
   "metadata": {},
   "source": [
    "Question 4:\n",
    "Assuming that we have some email addresses in the \"username@companyname.com\" format,\n",
    "please write program to print the user name of a given email address. Both user names and\n",
    "company names are composed of letters only.\n",
    "Example:\n",
    "If the following email address is given as input to the program:\n",
    "john@google.com\n",
    "Then, the output of the program should be:\n",
    "john"
   ]
  },
  {
   "cell_type": "code",
   "execution_count": 32,
   "metadata": {},
   "outputs": [
    {
     "name": "stdout",
     "output_type": "stream",
     "text": [
      "john\n"
     ]
    }
   ],
   "source": [
    "def getUserIdFromEmail(emailid):\n",
    "\n",
    "    userid = ''\n",
    "    for i in emailid:\n",
    "        if i == '@':\n",
    "            break\n",
    "        else:\n",
    "            userid = userid+i\n",
    "    return userid\n",
    "\n",
    "emailid = input()\n",
    "userid = getUserIdFromEmail(emailid)\n",
    "print(userid)"
   ]
  },
  {
   "cell_type": "markdown",
   "metadata": {},
   "source": [
    "Question 5:\n",
    "Define a class named Shape and its subclass Square. The Square class has an init function\n",
    "which takes a length as argument. Both classes have a area function which can print the area\n",
    "of the shape where Shape&#39;s area is 0 by default."
   ]
  },
  {
   "cell_type": "code",
   "execution_count": 37,
   "metadata": {},
   "outputs": [
    {
     "name": "stdout",
     "output_type": "stream",
     "text": [
      "16\n"
     ]
    }
   ],
   "source": [
    "class Shape:\n",
    "\n",
    "    def __init__(self):\n",
    "        pass\n",
    "    def area(self):\n",
    "        return 0\n",
    "\n",
    "\n",
    "class Square(Shape):\n",
    "    def __init__(self,length):\n",
    "        super().__init__()\n",
    "        self.length = length\n",
    "\n",
    "    def area(self):\n",
    "        return self.length ** 2\n",
    "\n",
    "length = int(input('Enter Length'))\n",
    "s = Square(length)\n",
    "print(s.area())\n",
    "\n",
    "    "
   ]
  }
 ],
 "metadata": {
  "interpreter": {
   "hash": "b3ba2566441a7c06988d0923437866b63cedc61552a5af99d1f4fb67d367b25f"
  },
  "kernelspec": {
   "display_name": "Python 3.8.8 ('base')",
   "language": "python",
   "name": "python3"
  },
  "language_info": {
   "codemirror_mode": {
    "name": "ipython",
    "version": 3
   },
   "file_extension": ".py",
   "mimetype": "text/x-python",
   "name": "python",
   "nbconvert_exporter": "python",
   "pygments_lexer": "ipython3",
   "version": "3.8.8"
  },
  "orig_nbformat": 4
 },
 "nbformat": 4,
 "nbformat_minor": 2
}
