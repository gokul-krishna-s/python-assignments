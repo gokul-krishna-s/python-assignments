{
 "cells": [
  {
   "cell_type": "markdown",
   "metadata": {},
   "source": [
    "1. Write a Python program to find sum of elements in list?\n"
   ]
  },
  {
   "cell_type": "code",
   "execution_count": 2,
   "metadata": {},
   "outputs": [
    {
     "data": {
      "text/plain": [
       "21"
      ]
     },
     "execution_count": 2,
     "metadata": {},
     "output_type": "execute_result"
    }
   ],
   "source": [
    "def sumOfElements(lst):\n",
    "    sum = 0\n",
    "    for elements in lst:\n",
    "        sum += elements\n",
    "    return sum\n",
    "\n",
    "lst = [1,4,7,9]\n",
    "sum = sumOfElements(lst)\n",
    "sum"
   ]
  },
  {
   "cell_type": "markdown",
   "metadata": {},
   "source": [
    "2. Write a Python program to Multiply all numbers in the list?\n"
   ]
  },
  {
   "cell_type": "code",
   "execution_count": 6,
   "metadata": {},
   "outputs": [
    {
     "data": {
      "text/plain": [
       "252"
      ]
     },
     "execution_count": 6,
     "metadata": {},
     "output_type": "execute_result"
    }
   ],
   "source": [
    "def productOfElements(lst):\n",
    "    product = 1\n",
    "    for elements in lst:\n",
    "        product *= elements\n",
    "    return product\n",
    "\n",
    "lst = [1,4,7,9]\n",
    "product = productOfElements(lst)\n",
    "product"
   ]
  },
  {
   "cell_type": "markdown",
   "metadata": {},
   "source": [
    "3. Write a Python program to find smallest number in a list?\n"
   ]
  },
  {
   "cell_type": "code",
   "execution_count": 13,
   "metadata": {},
   "outputs": [
    {
     "data": {
      "text/plain": [
       "4"
      ]
     },
     "execution_count": 13,
     "metadata": {},
     "output_type": "execute_result"
    }
   ],
   "source": [
    "def smallestElement(lst):\n",
    "    min = lst[0]\n",
    "    for i in range(1, len(lst)):\n",
    "        if lst[i] < min:\n",
    "            min = lst[i]\n",
    "    return min\n",
    "\n",
    "lst = [4,7,9]\n",
    "min = smallestElement(lst)\n",
    "min"
   ]
  },
  {
   "cell_type": "markdown",
   "metadata": {},
   "source": [
    "4. Write a Python program to find largest number in a list?\n"
   ]
  },
  {
   "cell_type": "code",
   "execution_count": 14,
   "metadata": {},
   "outputs": [
    {
     "data": {
      "text/plain": [
       "9"
      ]
     },
     "execution_count": 14,
     "metadata": {},
     "output_type": "execute_result"
    }
   ],
   "source": [
    "def largestElement(lst):\n",
    "    max = lst[0]\n",
    "    for i in range(1, len(lst)):\n",
    "        if lst[i] > max:\n",
    "            max = lst[i]\n",
    "    return max\n",
    "\n",
    "lst = [4,7,9]\n",
    "max = largestElement(lst)\n",
    "max"
   ]
  },
  {
   "cell_type": "markdown",
   "metadata": {},
   "source": [
    "5. Write a Python program to find second largest number in a list?\n"
   ]
  },
  {
   "cell_type": "code",
   "execution_count": 19,
   "metadata": {},
   "outputs": [
    {
     "data": {
      "text/plain": [
       "13"
      ]
     },
     "execution_count": 19,
     "metadata": {},
     "output_type": "execute_result"
    }
   ],
   "source": [
    "def secondlargestElement(lst):\n",
    "    secondmax = None\n",
    "    max = lst[0]\n",
    "    for i in range(1, len(lst)):\n",
    "        if lst[i] > max:\n",
    "            secondmax = max\n",
    "            max = lst[i]\n",
    "    return secondmax\n",
    "\n",
    "lst = [4,7,9,13,21]\n",
    "secondmax = secondlargestElement(lst)\n",
    "secondmax"
   ]
  },
  {
   "cell_type": "markdown",
   "metadata": {},
   "source": [
    "6. Write a Python program to find N largest elements from a list?\n"
   ]
  },
  {
   "cell_type": "code",
   "execution_count": 25,
   "metadata": {},
   "outputs": [
    {
     "data": {
      "text/plain": [
       "[32, 23, 17, 9]"
      ]
     },
     "execution_count": 25,
     "metadata": {},
     "output_type": "execute_result"
    }
   ],
   "source": [
    "def largestElement(lst,n):\n",
    "    min = None\n",
    "    nmax = []\n",
    "    l = len(lst)\n",
    "    for i in range(0, len(lst)-1):\n",
    "        min = i\n",
    "        for j in range(i+1,len(lst)):\n",
    "            if(lst[j]<lst[min]):\n",
    "                min = j\n",
    "        temp = lst[min]\n",
    "        lst[min] = lst[i]\n",
    "        lst[i] = temp\n",
    "\n",
    "    for i in range(n):\n",
    "        nmax.append(lst.pop(-1))\n",
    "\n",
    "    return nmax\n",
    "\n",
    "lst = [4,7,9,23,32,17]\n",
    "nmax = largestElement(lst,4)\n",
    "nmax"
   ]
  },
  {
   "cell_type": "markdown",
   "metadata": {},
   "source": [
    "7. Write a Python program to print even numbers in a list?\n"
   ]
  },
  {
   "cell_type": "code",
   "execution_count": 2,
   "metadata": {},
   "outputs": [
    {
     "name": "stdout",
     "output_type": "stream",
     "text": [
      "4 32 "
     ]
    }
   ],
   "source": [
    "def printEvenNumbers(lst):\n",
    "    for i in range(len(lst)):\n",
    "        if (lst[i]%2) == 0:\n",
    "            print(lst[i],end=\" \")\n",
    "\n",
    "lst = [4,7,9,23,32,17]\n",
    "printEvenNumbers(lst)"
   ]
  },
  {
   "cell_type": "markdown",
   "metadata": {},
   "source": [
    "8. Write a Python program to print odd numbers in a List?\n"
   ]
  },
  {
   "cell_type": "code",
   "execution_count": 3,
   "metadata": {},
   "outputs": [
    {
     "name": "stdout",
     "output_type": "stream",
     "text": [
      "7 9 23 17 "
     ]
    }
   ],
   "source": [
    "def printOddNumbers(lst):\n",
    "    for i in range(len(lst)):\n",
    "        if (lst[i]%2) != 0:\n",
    "            print(lst[i],end=\" \")\n",
    "\n",
    "lst = [4,7,9,23,32,17]\n",
    "printOddNumbers(lst)"
   ]
  },
  {
   "cell_type": "markdown",
   "metadata": {},
   "source": [
    "9. Write a Python program to Remove empty List from List?\n"
   ]
  },
  {
   "cell_type": "code",
   "execution_count": 22,
   "metadata": {},
   "outputs": [
    {
     "name": "stdout",
     "output_type": "stream",
     "text": [
      "[[], [23, 32]]\n",
      "[[23, 32]]\n"
     ]
    }
   ],
   "source": [
    "def removeEmptyList(lst):\n",
    "\n",
    "    len_list = len(lst)\n",
    "    i = 0\n",
    "    while(i < len_list):\n",
    "        length = len(lst[i])\n",
    "        if length == 0:\n",
    "            lst.pop(i)\n",
    "            len_list -= 1\n",
    "        i += 1\n",
    "\n",
    "lst = [[],[23,32]]\n",
    "print(lst)\n",
    "removeEmptyList(lst)\n",
    "print(lst)"
   ]
  },
  {
   "cell_type": "markdown",
   "metadata": {},
   "source": [
    "10. Write a Python program to Cloning or Copying a list?\n"
   ]
  },
  {
   "cell_type": "code",
   "execution_count": 30,
   "metadata": {},
   "outputs": [
    {
     "name": "stdout",
     "output_type": "stream",
     "text": [
      "[4, 7, 9, 23, 4, 32, 17]\n"
     ]
    }
   ],
   "source": [
    "def cloning(lst):\n",
    "    copy = lst[:]\n",
    "    return copy\n",
    "\n",
    "lst = [4,7,9,23,4,32,17]\n",
    "copy = cloning(lst)\n",
    "\n",
    "lst.pop(-1)\n",
    "print(copy)"
   ]
  },
  {
   "cell_type": "markdown",
   "metadata": {},
   "source": [
    "11. Write a Python program to Count occurrences of an element in a list?"
   ]
  },
  {
   "cell_type": "code",
   "execution_count": 31,
   "metadata": {},
   "outputs": [
    {
     "data": {
      "text/plain": [
       "2"
      ]
     },
     "execution_count": 31,
     "metadata": {},
     "output_type": "execute_result"
    }
   ],
   "source": [
    "def countOccurence(lst,n):\n",
    "    count = 0\n",
    "    for i in lst:\n",
    "        if i == n:\n",
    "            count += 1\n",
    "\n",
    "    return count\n",
    "\n",
    "lst = [4,7,9,23,4,32,17]\n",
    "n = 4\n",
    "count = countOccurence(lst,n)\n",
    "count"
   ]
  }
 ],
 "metadata": {
  "interpreter": {
   "hash": "b3ba2566441a7c06988d0923437866b63cedc61552a5af99d1f4fb67d367b25f"
  },
  "kernelspec": {
   "display_name": "Python 3.8.8 ('base')",
   "language": "python",
   "name": "python3"
  },
  "language_info": {
   "codemirror_mode": {
    "name": "ipython",
    "version": 3
   },
   "file_extension": ".py",
   "mimetype": "text/x-python",
   "name": "python",
   "nbconvert_exporter": "python",
   "pygments_lexer": "ipython3",
   "version": "3.8.8"
  },
  "orig_nbformat": 4
 },
 "nbformat": 4,
 "nbformat_minor": 2
}
