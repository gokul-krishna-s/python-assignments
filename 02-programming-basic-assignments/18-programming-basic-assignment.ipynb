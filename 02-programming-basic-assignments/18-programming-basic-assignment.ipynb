{
 "cells": [
  {
   "cell_type": "markdown",
   "metadata": {},
   "source": [
    "##### 1. Create a function that takes a list of non-negative integers and strings and return a new list without the strings ?\n",
    "*Examples:*  \n",
    "`filter_list([1, 2, \"a\", \"b\"]) ➞ [1, 2]`  \n",
    "`filter_list([1, \"a\", \"b\", 0, 15]) ➞ [1, 0, 15]`  \n",
    "`filter_list([1, 2, \"aasf\", \"1\", \"123\", 123]) ➞ [1, 2, 123]`  "
   ]
  },
  {
   "cell_type": "code",
   "execution_count": 1,
   "metadata": {},
   "outputs": [],
   "source": [
    "def filter_list(list_in):\n",
    "\n",
    "    list_out =[]\n",
    "    for item in list_in:\n",
    "        if isinstance(item, int) and item >= 0:\n",
    "            list_out.append(item)\n",
    "            \n",
    "    return list_out"
   ]
  },
  {
   "cell_type": "code",
   "execution_count": 2,
   "metadata": {},
   "outputs": [
    {
     "name": "stdout",
     "output_type": "stream",
     "text": [
      "filter_list([1, 2, \"a\", \"b\"]) -> [1, 2]\n",
      "filter_list([1, \"a\", \"b\", 0, 15]) -> [1, 0, 15]\n",
      "filter_list([1, 2, \"aasf\", \"1\", \"123\", 123]) -> [1, 2, 123]\n"
     ]
    }
   ],
   "source": [
    "print('{} -> {}'.format('filter_list([1, 2, \"a\", \"b\"])', filter_list([1, 2, \"a\", \"b\"])))\n",
    "print('{} -> {}'.format('filter_list([1, \"a\", \"b\", 0, 15])', filter_list([1, \"a\", \"b\", 0, 15])))\n",
    "print('{} -> {}'.format('filter_list([1, 2, \"aasf\", \"1\", \"123\", 123])', filter_list([1, 2, \"aasf\", \"1\", \"123\", 123])))"
   ]
  },
  {
   "cell_type": "markdown",
   "metadata": {},
   "source": [
    "##### 2. The \"Reverser\" takes a string as input and returns that string in reverse order, with the opposite case ?\n",
    "*Examples:*  \n",
    "`reverse(\"Hello World\") ➞ \"DLROw OLLEh\"`  \n",
    "`reverse(\"ReVeRsE\") ➞ \"eSrEvEr\"`  \n",
    "`reverse(\"Radar\") ➞ \"RADAr\"`  "
   ]
  },
  {
   "cell_type": "code",
   "execution_count": 5,
   "metadata": {},
   "outputs": [],
   "source": [
    "def reverse(str):\n",
    "    return str[::-1].swapcase() "
   ]
  },
  {
   "cell_type": "code",
   "execution_count": 7,
   "metadata": {},
   "outputs": [
    {
     "name": "stdout",
     "output_type": "stream",
     "text": [
      "reverse(\"Hello World\") -> DLROw OLLEh\n",
      "reverse(\"ReVeRsE\") -> eSrEvEr\n",
      "reverse(\"Radar\") -> RADAr\n"
     ]
    }
   ],
   "source": [
    "print('{} -> {}'.format('reverse(\"Hello World\")', reverse(\"Hello World\")))\n",
    "print('{} -> {}'.format('reverse(\"ReVeRsE\")', reverse(\"ReVeRsE\")))\n",
    "print('{} -> {}'.format('reverse(\"Radar\")', reverse(\"Radar\")))"
   ]
  },
  {
   "cell_type": "markdown",
   "metadata": {},
   "source": [
    "##### 3. You can assign variables from lists like this:\n",
    "`lst = [1, 2, 3, 4, 5, 6]` \\\n",
    "`first = lst[0]` \\\n",
    "`middle = lst[1:-1]` \\\n",
    "`last = lst[-1]` \n",
    "\n",
    "`print(first) ➞ outputs 1` \\\n",
    "`print(middle) ➞ outputs [2, 3, 4, 5]` \\\n",
    "`print(last) ➞ outputs 6`  \n",
    "\n",
    "With Python 3, you can assign variables from lists in a much more succinct way. Create variables first, middle and last from the given list using destructuring assignment  (check the Resources tab for some examples), where: \n",
    "\n",
    "`first ➞ 1` \\\n",
    "`middle ➞ [2, 3, 4, 5]` \\\n",
    "`last ➞ 6` \n",
    "  \n",
    "Your task is to unpack the list writeyourcodehere into three variables, being first, middle, and last, with middle being everything in between the first and last element. Then print all three variables."
   ]
  },
  {
   "cell_type": "code",
   "execution_count": 12,
   "metadata": {},
   "outputs": [
    {
     "name": "stdout",
     "output_type": "stream",
     "text": [
      "first -> 1\n",
      "middle -> [2, 3, 4, 5]\n",
      "last -> 6\n"
     ]
    }
   ],
   "source": [
    "first, *middle, last = [1, 2, 3, 4, 5, 6]\n",
    "\n",
    "print('{} -> {}'.format('first',first))\n",
    "print('{} -> {}'.format('middle',middle))\n",
    "print('{} -> {}'.format('last',last))"
   ]
  },
  {
   "cell_type": "markdown",
   "metadata": {},
   "source": [
    "##### 4. Write a function that calculates the factorial of a number recursively.\n",
    "*Examples:*  \n",
    "`factorial(5) ➞ 120`  \n",
    "`factorial(3) ➞ 6`  \n",
    "`factorial(1) ➞ 1`  \n",
    "`factorial(0) ➞ 1`   "
   ]
  },
  {
   "cell_type": "code",
   "execution_count": 13,
   "metadata": {},
   "outputs": [],
   "source": [
    "def factorial(number):\n",
    "    if number == 0:\n",
    "        return 1\n",
    "    \n",
    "    return number * factorial(number - 1)"
   ]
  },
  {
   "cell_type": "code",
   "execution_count": 14,
   "metadata": {},
   "outputs": [
    {
     "name": "stdout",
     "output_type": "stream",
     "text": [
      "factorial(5) -> 120\n",
      "factorial(3) -> 6\n",
      "factorial(1) -> 1\n",
      "factorial(0) -> 1\n"
     ]
    }
   ],
   "source": [
    "print('{} -> {}'.format('factorial(5)',factorial(5)))\n",
    "print('{} -> {}'.format('factorial(3)',factorial(3)))\n",
    "print('{} -> {}'.format('factorial(1)',factorial(1)))\n",
    "print('{} -> {}'.format('factorial(0)',factorial(0)))"
   ]
  },
  {
   "cell_type": "markdown",
   "metadata": {},
   "source": [
    "##### 5.Write a function that moves all elements of one type to the end of the list.\n",
    "*Examples:*    \n",
    "`move_to_end([1, 3, 2, 4, 4, 1], 1) ➞ [3, 2, 4, 4, 1, 1] # Move all the 1s to the end of the array.`     \n",
    "`move_to_end([7, 8, 9, 1, 2, 3, 4], 9) ➞ [7, 8, 1, 2, 3, 4, 9]`  \n",
    "`move_to_end([\"a\", \"a\", \"a\", \"b\"], \"a\") ➞ [\"b\", \"a\", \"a\", \"a\"]`  "
   ]
  },
  {
   "cell_type": "code",
   "execution_count": 28,
   "metadata": {},
   "outputs": [],
   "source": [
    "def move_to_end(lst, ele):\n",
    "    \n",
    "    start_list = []\n",
    "    end_list = []\n",
    "    for item in lst:\n",
    "        if item == ele:\n",
    "            end_list.append(item)\n",
    "        else:\n",
    "            start_list.append(item)\n",
    "\n",
    "    start_list.extend(end_list)\n",
    "    \n",
    "    return start_list"
   ]
  },
  {
   "cell_type": "code",
   "execution_count": 29,
   "metadata": {},
   "outputs": [
    {
     "name": "stdout",
     "output_type": "stream",
     "text": [
      "move_to_end([1, 3, 2, 4, 4, 1], 1) -> [3, 2, 4, 4, 1, 1]\n",
      "move_to_end([7, 8, 9, 1, 2, 3, 4], 9) -> [7, 8, 1, 2, 3, 4, 9]\n",
      "move_to_end([\"a\", \"a\", \"a\", \"b\"], \"a\") -> ['b', 'a', 'a', 'a']\n"
     ]
    }
   ],
   "source": [
    "print('{} -> {}'.format('move_to_end([1, 3, 2, 4, 4, 1], 1)',move_to_end([1, 3, 2, 4, 4, 1], 1)))\n",
    "print('{} -> {}'.format('move_to_end([7, 8, 9, 1, 2, 3, 4], 9)',move_to_end([7, 8, 9, 1, 2, 3, 4], 9)))\n",
    "print('{} -> {}'.format('move_to_end([\"a\", \"a\", \"a\", \"b\"], \"a\")',move_to_end([\"a\", \"a\", \"a\", \"b\"], \"a\")))"
   ]
  }
 ],
 "metadata": {
  "interpreter": {
   "hash": "b3ba2566441a7c06988d0923437866b63cedc61552a5af99d1f4fb67d367b25f"
  },
  "kernelspec": {
   "display_name": "Python 3.9.7 ('base')",
   "language": "python",
   "name": "python3"
  },
  "language_info": {
   "codemirror_mode": {
    "name": "ipython",
    "version": 3
   },
   "file_extension": ".py",
   "mimetype": "text/x-python",
   "name": "python",
   "nbconvert_exporter": "python",
   "pygments_lexer": "ipython3",
   "version": "3.9.7"
  },
  "orig_nbformat": 4
 },
 "nbformat": 4,
 "nbformat_minor": 2
}
