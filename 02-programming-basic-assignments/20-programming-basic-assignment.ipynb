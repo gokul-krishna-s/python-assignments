{
 "cells": [
  {
   "cell_type": "markdown",
   "metadata": {},
   "source": [
    "##### 1. Create a function that takes a list of strings and integers, and filters out the list so that it returns a list of integers only.\n",
    "*Examples:*  \n",
    "`filter_list([1, 2, 3, \"a\", \"b\", 4]) ➞ [1, 2, 3, 4]`  \n",
    "`filter_list([\"A\", 0, \"Edabit\", 1729, \"Python\", \"1729\"]) ➞ [0, 1729]`  \n",
    "`filter_list([\"Nothing\", \"here\"]) ➞ []`  "
   ]
  },
  {
   "cell_type": "code",
   "execution_count": 13,
   "metadata": {},
   "outputs": [],
   "source": [
    "def filter_list(list_in):\n",
    "    new_list = []\n",
    "    for i in list_in:\n",
    "        if type(i) == int:\n",
    "            new_list.append(i)\n",
    "            \n",
    "    return new_list\n"
   ]
  },
  {
   "cell_type": "code",
   "execution_count": 14,
   "metadata": {},
   "outputs": [
    {
     "name": "stdout",
     "output_type": "stream",
     "text": [
      "filter_list([1, 2, 3, \"a\", \"b\", 4]) -> [1, 2, 3, 4]\n",
      "filter_list([\"A\", 0, \"Edabit\", 1729, \"Python\", \"1729\"]) -> [0, 1729]\n",
      "filter_list([\"Nothing\", \"here\"]) -> []\n"
     ]
    }
   ],
   "source": [
    "print('{} -> {}'.format('filter_list([1, 2, 3, \"a\", \"b\", 4])',filter_list([1, 2, 3, \"a\", \"b\", 4])))\n",
    "print('{} -> {}'.format('filter_list([\"A\", 0, \"Edabit\", 1729, \"Python\", \"1729\"])',filter_list([\"A\", 0, \"Edabit\", 1729, \"Python\", \"1729\"])))\n",
    "print('{} -> {}'.format('filter_list([\"Nothing\", \"here\"])',filter_list([\"Nothing\", \"here\"])))"
   ]
  },
  {
   "cell_type": "markdown",
   "metadata": {},
   "source": [
    "##### 2. Given a list of numbers, create a function which returns the list but with each element's index in the list added to itself. This means you add 0 to the number at index 0, add 1 to the number at index 1, etc...\n",
    "*Examples:*  \n",
    "`add_indexes([0, 0, 0, 0, 0]) ➞ [0, 1, 2, 3, 4]`  \n",
    "`add_indexes([1, 2, 3, 4, 5]) ➞ [1, 3, 5, 7, 9]`  \n",
    "`add_indexes([5, 4, 3, 2, 1]) ➞ [5, 5, 5, 5, 5]`  "
   ]
  },
  {
   "cell_type": "code",
   "execution_count": 43,
   "metadata": {},
   "outputs": [],
   "source": [
    "def add_indexes(list_in): \n",
    "    new_list = []\n",
    "    index = 0\n",
    "    for ele in list_in:\n",
    "        new_list.append(ele + index)\n",
    "        index += 1\n",
    "\n",
    "    return new_list"
   ]
  },
  {
   "cell_type": "code",
   "execution_count": 45,
   "metadata": {},
   "outputs": [
    {
     "name": "stdout",
     "output_type": "stream",
     "text": [
      "add_indexes([0, 0, 0, 0, 0]) -> [0, 1, 2, 3, 4]\n",
      "add_indexes([1, 2, 3, 4, 5]) -> [1, 3, 5, 7, 9]\n",
      "add_indexes([5, 4, 3, 2, 1]) -> [5, 5, 5, 5, 5]\n"
     ]
    }
   ],
   "source": [
    "print('{} -> {}'.format('add_indexes([0, 0, 0, 0, 0])',add_indexes([0, 0, 0, 0, 0])))\n",
    "print('{} -> {}'.format('add_indexes([1, 2, 3, 4, 5])',add_indexes([1, 2, 3, 4, 5])))\n",
    "print('{} -> {}'.format('add_indexes([5, 4, 3, 2, 1])',add_indexes([5, 4, 3, 2, 1])))"
   ]
  },
  {
   "cell_type": "markdown",
   "metadata": {},
   "source": [
    "##### 3. Create a function that takes the height and radius of a cone as arguments and returns the volume of the cone rounded to the nearest hundredth.\n",
    "*Examples:*  \n",
    "`cone_volume(3, 2) ➞ 12.57`  \n",
    "`cone_volume(15, 6) ➞ 565.49`  \n",
    "`cone_volume(18, 0) ➞ 0`  "
   ]
  },
  {
   "cell_type": "code",
   "execution_count": 3,
   "metadata": {},
   "outputs": [],
   "source": [
    "import math\n",
    "\n",
    "def cone_volume(height, radius):\n",
    "    volume = (math.pi * radius ** 2 * height) / 3\n",
    "\n",
    "    return float(\"{0:.2f}\".format(volume))"
   ]
  },
  {
   "cell_type": "code",
   "execution_count": 5,
   "metadata": {},
   "outputs": [
    {
     "name": "stdout",
     "output_type": "stream",
     "text": [
      "cone_volume(3, 2) -> 12.57\n",
      "cone_volume(15, 6) -> 565.49\n",
      "cone_volume(18, 0) -> 0.0\n"
     ]
    }
   ],
   "source": [
    "print('{} -> {}'.format('cone_volume(3, 2)',cone_volume(3, 2)))\n",
    "print('{} -> {}'.format('cone_volume(15, 6)',cone_volume(15, 6)))\n",
    "print('{} -> {}'.format('cone_volume(18, 0)',cone_volume(18, 0)))"
   ]
  },
  {
   "cell_type": "markdown",
   "metadata": {},
   "source": [
    "##### 4. This Triangular Number Sequence is generated from a pattern of dots that form a triangle.\n",
    "The first 5 numbers of the sequence, or dots, are: `1, 3, 6, 10, 15`  \n",
    "This means that the first triangle has just one dot, the second one has three dots, the third one has 6 dots and so on.\n",
    "Write a function that gives the number of dots with its corresponding triangle number of the sequence.    \n",
    "\n",
    "*Examples:*  \n",
    "`triangle(1) ➞ 1`  \n",
    "`triangle(6) ➞ 21`  \n",
    "`triangle(215) ➞ 23220`  "
   ]
  },
  {
   "cell_type": "code",
   "execution_count": 8,
   "metadata": {},
   "outputs": [],
   "source": [
    "def triangle(num):\n",
    "    if num == 0:\n",
    "        return 0\n",
    "    elif num == 1:\n",
    "        return 1\n",
    "    return num + triangle(num-1)"
   ]
  },
  {
   "cell_type": "code",
   "execution_count": 9,
   "metadata": {},
   "outputs": [
    {
     "name": "stdout",
     "output_type": "stream",
     "text": [
      "triangle(1) -> 1\n",
      "triangle(6) -> 21\n",
      "triangle(215) -> 23220\n"
     ]
    }
   ],
   "source": [
    "print('{} -> {}'.format('triangle(1)',triangle(1)))\n",
    "print('{} -> {}'.format('triangle(6)',triangle(6)))\n",
    "print('{} -> {}'.format('triangle(215)',triangle(215)))"
   ]
  },
  {
   "cell_type": "markdown",
   "metadata": {},
   "source": [
    "##### 5. Create a function that takes a list of numbers between 1 and 10 (excluding one number) and returns the missing number.\n",
    "*Examples:*  \n",
    "`missing_num([1, 2, 3, 4, 6, 7, 8, 9, 10]) ➞ 5`  \n",
    "`missing_num([7, 2, 3, 6, 5, 9, 1, 4, 8]) ➞ 10`  \n",
    "`missing_num([10, 5, 1, 2, 4, 6, 8, 3, 9]) ➞ 7`  "
   ]
  },
  {
   "cell_type": "code",
   "execution_count": 17,
   "metadata": {},
   "outputs": [],
   "source": [
    "def missing_num(list_in):\n",
    "\n",
    "    result = [x for x in range(1,11) if x not in list_in]\n",
    "    return result[0]"
   ]
  },
  {
   "cell_type": "code",
   "execution_count": 18,
   "metadata": {},
   "outputs": [
    {
     "name": "stdout",
     "output_type": "stream",
     "text": [
      "missing_num([1, 2, 3, 4, 6, 7, 8, 9, 10]) -> 5\n",
      "missing_num([7, 2, 3, 6, 5, 9, 1, 4, 8]) -> 10\n",
      "missing_num([10, 5, 1, 2, 4, 6, 8, 3, 9]) -> 7\n"
     ]
    }
   ],
   "source": [
    "print('{} -> {}'.format('missing_num([1, 2, 3, 4, 6, 7, 8, 9, 10])',missing_num([1, 2, 3, 4, 6, 7, 8, 9, 10])))\n",
    "print('{} -> {}'.format('missing_num([7, 2, 3, 6, 5, 9, 1, 4, 8])',missing_num([7, 2, 3, 6, 5, 9, 1, 4, 8])))\n",
    "print('{} -> {}'.format('missing_num([10, 5, 1, 2, 4, 6, 8, 3, 9])',missing_num([10, 5, 1, 2, 4, 6, 8, 3, 9])))"
   ]
  }
 ],
 "metadata": {
  "interpreter": {
   "hash": "b3ba2566441a7c06988d0923437866b63cedc61552a5af99d1f4fb67d367b25f"
  },
  "kernelspec": {
   "display_name": "Python 3.8.8 64-bit ('base': conda)",
   "language": "python",
   "name": "python3"
  },
  "language_info": {
   "codemirror_mode": {
    "name": "ipython",
    "version": 3
   },
   "file_extension": ".py",
   "mimetype": "text/x-python",
   "name": "python",
   "nbconvert_exporter": "python",
   "pygments_lexer": "ipython3",
   "version": "3.9.7"
  },
  "orig_nbformat": 4
 },
 "nbformat": 4,
 "nbformat_minor": 2
}
