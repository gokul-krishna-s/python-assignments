{
 "cells": [
  {
   "cell_type": "markdown",
   "metadata": {},
   "source": [
    "##### 1. Create a function that takes three parameters where:\n",
    "`x is the start of the range (inclusive).`    \n",
    "`y is the end of the range (inclusive).`    \n",
    "`n is the divisor to be checked against.`    \n",
    "\n",
    "Return an ordered list with numbers in the range that are divisible by the third parameter n.\n",
    "Return an empty list if there are no numbers that are divisible by n.\n",
    "*Examples:*  \n",
    "`list_operation(1, 10, 3) ➞ [3, 6, 9]`  \n",
    "`list_operation(7, 9, 2) ➞ [8]`  \n",
    "`list_operation(15, 20, 7) ➞ []`  "
   ]
  },
  {
   "cell_type": "code",
   "execution_count": 1,
   "metadata": {},
   "outputs": [],
   "source": [
    "def list_operation(start, end, divisor):\n",
    "    return [num for num in range(start, end+1) if num % divisor == 0]"
   ]
  },
  {
   "cell_type": "code",
   "execution_count": 2,
   "metadata": {},
   "outputs": [
    {
     "name": "stdout",
     "output_type": "stream",
     "text": [
      "list_operation(1, 10, 3) -> [3, 6, 9]\n",
      "list_operation(7, 9, 2) -> [8]\n",
      "list_operation(15, 20, 7) -> []\n"
     ]
    }
   ],
   "source": [
    "print('{} -> {}'.format('list_operation(1, 10, 3)',list_operation(1, 10, 3)))\n",
    "print('{} -> {}'.format('list_operation(7, 9, 2)',list_operation(7, 9, 2)))\n",
    "print('{} -> {}'.format('list_operation(15, 20, 7)',list_operation(15, 20, 7)))"
   ]
  },
  {
   "cell_type": "markdown",
   "metadata": {},
   "source": [
    "##### 2. Create a function that takes in two lists and returns True if the second list follows the first list by one element, and False otherwise. In other words, determine if the second list is the first list shifted to the right by 1.\n",
    "*Examples:*   \n",
    "`simon_says([1, 2], [5, 1]) ➞ True`  \n",
    "`simon_says([1, 2], [5, 5]) ➞ False`  \n",
    "`simon_says([1, 2, 3, 4, 5], [0, 1, 2, 3, 4]) ➞ True`  \n",
    "`simon_says([1, 2, 3, 4, 5], [5, 5, 1, 2, 3]) ➞ False`  \n",
    "\n",
    "*Notes:*  \n",
    "    1. Both input lists will be of the same length, and will have a minimum length of 2.  \n",
    "    2. The values of the 0-indexed element in the second list and the n-1th indexed element in the first list do not matter."
   ]
  },
  {
   "cell_type": "code",
   "execution_count": 3,
   "metadata": {},
   "outputs": [],
   "source": [
    "def simon_says(list1, list2):\n",
    "    if len(list1) == len(list2) and len(list1) >= 2:\n",
    "        if list1[:-1] == list2[1:]:\n",
    "            return True\n",
    "    \n",
    "    return False"
   ]
  },
  {
   "cell_type": "code",
   "execution_count": 4,
   "metadata": {},
   "outputs": [
    {
     "name": "stdout",
     "output_type": "stream",
     "text": [
      "simon_says([1, 2], [5, 1]) -> True\n",
      "simon_says([1, 2], [5, 5]) -> False\n",
      "simon_says([1, 2, 3, 4, 5], [0, 1, 2, 3, 4]) -> True\n",
      "simon_says([1, 2, 3, 4, 5], [5, 5, 1, 2, 3]) -> False\n"
     ]
    }
   ],
   "source": [
    "print('{} -> {}'.format('simon_says([1, 2], [5, 1])',simon_says([1, 2], [5, 1])))\n",
    "print('{} -> {}'.format('simon_says([1, 2], [5, 5])',simon_says([1, 2], [5, 5])))\n",
    "print('{} -> {}'.format('simon_says([1, 2, 3, 4, 5], [0, 1, 2, 3, 4])',simon_says([1, 2, 3, 4, 5], [0, 1, 2, 3, 4])))\n",
    "print('{} -> {}'.format('simon_says([1, 2, 3, 4, 5], [5, 5, 1, 2, 3])',simon_says([1, 2, 3, 4, 5], [5, 5, 1, 2, 3])))"
   ]
  },
  {
   "cell_type": "markdown",
   "metadata": {},
   "source": [
    "##### 3. A group of friends have decided to start a secret society. The name will be the first letter of each of their names, sorted in a alphabetical order ?  Create a function that takes in a list of names and returns the name of the secret society ?\n",
    "*Examples:* \n",
    "`society_name([\"Adam\", \"Sarah\", \"Malcolm\"]) ➞ \"AMS\"`  \n",
    "`society_name([\"Harry\", \"Newt\", \"Luna\", \"Cho\"]) ➞ \"CHLN\"`  \n",
    "`society_name([\"Phoebe\", \"Chandler\", \"Rachel\", \"Ross\", \"Monica\", \"Joey\"])`"
   ]
  },
  {
   "cell_type": "code",
   "execution_count": 25,
   "metadata": {},
   "outputs": [],
   "source": [
    "def society_name(listin):\n",
    "    listin.sort()\n",
    "    society_name = ''\n",
    "    for name in listin:\n",
    "        society_name += name[0]\n",
    "    return society_name"
   ]
  },
  {
   "cell_type": "code",
   "execution_count": 27,
   "metadata": {},
   "outputs": [
    {
     "name": "stdout",
     "output_type": "stream",
     "text": [
      "society_name([\"Adam\", \"Sarah\", \"Malcolm\"]) -> AMS\n",
      "society_name([\"Harry\", \"Newt\", \"Luna\", \"Cho\"]) -> CHLN\n",
      "society_name([\"Phoebe\", \"Chandler\", \"Rachel\", \"Ross\", \"Monica\", \"Joey\"]) -> CJMPRR\n"
     ]
    }
   ],
   "source": [
    "print('{} -> {}'.format('society_name([\"Adam\", \"Sarah\", \"Malcolm\"])',society_name([\"Adam\", \"Sarah\", \"Malcolm\"])))\n",
    "print('{} -> {}'.format('society_name([\"Harry\", \"Newt\", \"Luna\", \"Cho\"])',society_name([\"Harry\", \"Newt\", \"Luna\", \"Cho\"])))\n",
    "print('{} -> {}'.format('society_name([\"Phoebe\", \"Chandler\", \"Rachel\", \"Ross\", \"Monica\", \"Joey\"])',society_name([\"Phoebe\", \"Chandler\", \"Rachel\", \"Ross\", \"Monica\", \"Joey\"])))"
   ]
  },
  {
   "cell_type": "markdown",
   "metadata": {},
   "source": [
    "##### 4. An isogram is a word that has no duplicate letters. Create a function that takes a string and returns either True or False depending on whether or not it's an \"isogram\".\n",
    "*Examples:*   \n",
    "`is_isogram(\"Algorism\") ➞ True`  \n",
    "`is_isogram(\"PasSword\") ➞ False`  \n",
    "    # Not case sensitive.   \n",
    "`is_isogram(\"Consecutive\") ➞ False`  \n",
    "\n",
    "*Notes:*  \n",
    "Ignore letter case (should not be case sensitive).  \n",
    "All test cases contain valid one word strings.  "
   ]
  },
  {
   "cell_type": "code",
   "execution_count": 28,
   "metadata": {},
   "outputs": [],
   "source": [
    "def is_isogram(str_in):\n",
    "    \n",
    "    lower_str = str_in.lower()\n",
    "    \n",
    "    return len(lower_str) == len(set(lower_str)) "
   ]
  },
  {
   "cell_type": "code",
   "execution_count": 30,
   "metadata": {},
   "outputs": [
    {
     "name": "stdout",
     "output_type": "stream",
     "text": [
      "is_isogram(\"Algorism\") -> True\n",
      "is_isogram(\"PasSword\") -> False\n",
      "is_isogram(\"Consecutive\") -> False\n"
     ]
    }
   ],
   "source": [
    "print('{} -> {}'.format('is_isogram(\"Algorism\")',is_isogram(\"Algorism\")))\n",
    "print('{} -> {}'.format('is_isogram(\"PasSword\")',is_isogram(\"PasSword\")))\n",
    "print('{} -> {}'.format('is_isogram(\"Consecutive\")',is_isogram(\"Consecutive\")))"
   ]
  },
  {
   "cell_type": "markdown",
   "metadata": {},
   "source": [
    "##### 5. Create a function that takes a string and returns True or False, depending on whether the characters are in order or not ?\n",
    "*Examples:*  \n",
    "`is_in_order(\"abc\") ➞ True`  \n",
    "`is_in_order(\"edabit\") ➞ False`  \n",
    "`is_in_order(\"123\") ➞ True`  \n",
    "`is_in_order(\"xyzz\") ➞ True`  \n",
    "\n",
    "*Notes:*  \n",
    "You don't have to handle empty strings."
   ]
  },
  {
   "cell_type": "code",
   "execution_count": 38,
   "metadata": {},
   "outputs": [],
   "source": [
    "def is_in_order(str_in):\n",
    "    \n",
    "    str_sorted = ''.join(sorted(str_in))\n",
    "\n",
    "    return str_in == str_sorted"
   ]
  },
  {
   "cell_type": "code",
   "execution_count": 39,
   "metadata": {},
   "outputs": [
    {
     "name": "stdout",
     "output_type": "stream",
     "text": [
      "is_in_order(\"abc\") -> True\n",
      "is_in_order(\"edabit\") -> False\n",
      "is_in_order(\"123\") -> True\n",
      "is_in_order(\"xyzz\") -> True\n"
     ]
    }
   ],
   "source": [
    "print('{} -> {}'.format('is_in_order(\"abc\")', is_in_order(\"abc\")))\n",
    "print('{} -> {}'.format('is_in_order(\"edabit\")', is_in_order(\"edabit\")))\n",
    "print('{} -> {}'.format('is_in_order(\"123\")', is_in_order(\"123\")))\n",
    "print('{} -> {}'.format('is_in_order(\"xyzz\")', is_in_order(\"xyzz\")))"
   ]
  }
 ],
 "metadata": {
  "interpreter": {
   "hash": "b3ba2566441a7c06988d0923437866b63cedc61552a5af99d1f4fb67d367b25f"
  },
  "kernelspec": {
   "display_name": "Python 3.9.7 ('base')",
   "language": "python",
   "name": "python3"
  },
  "language_info": {
   "codemirror_mode": {
    "name": "ipython",
    "version": 3
   },
   "file_extension": ".py",
   "mimetype": "text/x-python",
   "name": "python",
   "nbconvert_exporter": "python",
   "pygments_lexer": "ipython3",
   "version": "3.9.7"
  },
  "orig_nbformat": 4
 },
 "nbformat": 4,
 "nbformat_minor": 2
}
