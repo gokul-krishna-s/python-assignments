{
 "cells": [
  {
   "cell_type": "markdown",
   "metadata": {},
   "source": [
    "##### 1. Write a function that takes a list and a number as arguments. Add the number to the end of the list, then remove the first element of the list. The function should then return the updated list.\n",
    "*Examples:*  \n",
    "`next_in_line([5, 6, 7, 8, 9], 1) ➞ [6, 7, 8, 9, 1]`  \n",
    "`next_in_line([7, 6, 3, 23, 17], 10) ➞ [6, 3, 23, 17, 10]`  \n",
    "`next_in_line([1, 10, 20, 42 ], 6) ➞ [10, 20, 42, 6]`  \n",
    "`next_in_line([], 6) ➞ \"No list has been selected\"` "
   ]
  },
  {
   "cell_type": "code",
   "execution_count": 5,
   "metadata": {},
   "outputs": [],
   "source": [
    "def next_in_line(lst, num):\n",
    "    if(len(lst) < 1):\n",
    "        return \"No list has been selected\"\n",
    "    lst.append(num)\n",
    "    lst.remove(lst[0])\n",
    "    return lst"
   ]
  },
  {
   "cell_type": "code",
   "execution_count": 6,
   "metadata": {},
   "outputs": [
    {
     "name": "stdout",
     "output_type": "stream",
     "text": [
      "next_in_line([5, 6, 7, 8, 9], 1) -> [6, 7, 8, 9, 1]\n",
      "next_in_line([7, 6, 3, 23, 17], 10) -> [6, 3, 23, 17, 10]\n",
      "next_in_line([1, 10, 20, 42 ], 6) -> [10, 20, 42, 6]\n",
      "next_in_line([], 6) -> No list has been selected\n"
     ]
    }
   ],
   "source": [
    "print('{} -> {}'.format('next_in_line([5, 6, 7, 8, 9], 1)',next_in_line([5, 6, 7, 8, 9], 1)))\n",
    "print('{} -> {}'.format('next_in_line([7, 6, 3, 23, 17], 10)',next_in_line([7, 6, 3, 23, 17], 10)))\n",
    "print('{} -> {}'.format('next_in_line([1, 10, 20, 42 ], 6)',next_in_line([1, 10, 20, 42 ], 6)))\n",
    "print('{} -> {}'.format('next_in_line([], 6)',next_in_line([], 6)))"
   ]
  },
  {
   "cell_type": "markdown",
   "metadata": {},
   "source": [
    "##### 2.Create the function that takes a list of dictionaries and returns the sum of people's budgets.\n",
    "*Examples:*  \n",
    "`get_budgets([\n",
    "{ \"name\": \"John\", \"age\": 21, \"budget\": 23000 },\n",
    "{ \"name\": \"Steve\", \"age\": 32, \"budget\": 40000 },\n",
    "{ \"name\": \"Martin\", \"age\": 16, \"budget\": 2700 }\n",
    "]) ➞ 65700`\n",
    "\n",
    "`get_budgets([\n",
    "{ \"name\": \"John\", \"age\": 21, \"budget\": 29000 },\n",
    "{ \"name\": \"Steve\", \"age\": 32, \"budget\": 32000 },\n",
    "{ \"name\": \"Martin\", \"age\": 16, \"budget\": 1600 }\n",
    "]) ➞ 62600`"
   ]
  },
  {
   "cell_type": "code",
   "execution_count": 7,
   "metadata": {},
   "outputs": [],
   "source": [
    "def get_budgets(dict_list):\n",
    "\n",
    "    sum = 0\n",
    "    for i in dict_list:\n",
    "        sum += i['budget']\n",
    "    return sum"
   ]
  },
  {
   "cell_type": "code",
   "execution_count": 10,
   "metadata": {},
   "outputs": [
    {
     "name": "stdout",
     "output_type": "stream",
     "text": [
      "get_budgets([{ \"name\": \"John\", \"age\": 21, \"budget\": 23000 },{ \"name\": \"Steve\", \"age\": 32, \"budget\": 40000 },{ \"name\": \"Martin\", \"age\": 16, \"budget\": 2700 }]) -> 65700\n",
      "get_budgets([{ \"name\": \"John\", \"age\": 21, \"budget\": 29000 },{ \"name\": \"Steve\", \"age\": 32, \"budget\": 32000 },{ \"name\": \"Martin\", \"age\": 16, \"budget\": 1600 }]) -> 62600\n"
     ]
    }
   ],
   "source": [
    "print('{} -> {}'.format('get_budgets([{ \"name\": \"John\", \"age\": 21, \"budget\": 23000 },{ \"name\": \"Steve\", \"age\": 32, \"budget\": 40000 },{ \"name\": \"Martin\", \"age\": 16, \"budget\": 2700 }])',get_budgets([\n",
    "{ \"name\": \"John\", \"age\": 21, \"budget\": 23000 },\n",
    "{ \"name\": \"Steve\", \"age\": 32, \"budget\": 40000 },\n",
    "{ \"name\": \"Martin\", \"age\": 16, \"budget\": 2700 }\n",
    "])))\n",
    "\n",
    "print('{} -> {}'.format('get_budgets([{ \"name\": \"John\", \"age\": 21, \"budget\": 29000 },{ \"name\": \"Steve\", \"age\": 32, \"budget\": 32000 },{ \"name\": \"Martin\", \"age\": 16, \"budget\": 1600 }])',get_budgets([\n",
    "{ \"name\": \"John\", \"age\": 21, \"budget\": 29000 },\n",
    "{ \"name\": \"Steve\", \"age\": 32, \"budget\": 32000 },\n",
    "{ \"name\": \"Martin\", \"age\": 16, \"budget\": 1600 }\n",
    "])))"
   ]
  },
  {
   "cell_type": "markdown",
   "metadata": {},
   "source": [
    "##### 3. Create a function that takes a string and returns a string with its letters in alphabetical order.\n",
    "*Examples:*   \n",
    "`alphabet_soup(\"hello\") ➞ \"ehllo\"`  \n",
    "`alphabet_soup(\"edabit\") ➞ \"abdeit\"`  \n",
    "`alphabet_soup(\"hacker\") ➞ \"acehkr\"`  \n",
    "`alphabet_soup(\"geek\") ➞ \"eegk\"`  \n",
    "`alphabet_soup(\"javascript\") ➞ \"aacijprstv\"`  "
   ]
  },
  {
   "cell_type": "code",
   "execution_count": 15,
   "metadata": {},
   "outputs": [],
   "source": [
    "def alphabet_soup(str_in):\n",
    "    return ''.join(sorted(str_in))"
   ]
  },
  {
   "cell_type": "code",
   "execution_count": 19,
   "metadata": {},
   "outputs": [
    {
     "name": "stdout",
     "output_type": "stream",
     "text": [
      "alphabet_soup(\"hello\") -> \"ehllo\"\n",
      "alphabet_soup(\"edabit\") -> \"abdeit\"\n",
      "alphabet_soup(\"hacker\") -> \"acehkr\"\n",
      "alphabet_soup(\"geek\") -> \"eegk\"\n",
      "alphabet_soup(\"javascript\") -> \"aacijprstv\"\n"
     ]
    }
   ],
   "source": [
    "print('{} -> \"{}\"'.format('alphabet_soup(\"hello\")',alphabet_soup(\"hello\")))\n",
    "print('{} -> \"{}\"'.format('alphabet_soup(\"edabit\")',alphabet_soup(\"edabit\")))\n",
    "print('{} -> \"{}\"'.format('alphabet_soup(\"hacker\")',alphabet_soup(\"hacker\")))\n",
    "print('{} -> \"{}\"'.format('alphabet_soup(\"geek\")',alphabet_soup(\"geek\")))\n",
    "print('{} -> \"{}\"'.format('alphabet_soup(\"javascript\")',alphabet_soup(\"javascript\")))"
   ]
  },
  {
   "cell_type": "markdown",
   "metadata": {},
   "source": [
    "##### 4.What will be the value of your investment at the end of the 10 year period?\n",
    "Create a function that accepts the principal p, the term in years t, the interest rate r, and the\n",
    "number of compounding periods per year n. The function returns the value at the end of term\n",
    "rounded to the nearest cent.\n",
    "\n",
    "\n",
    "*For the example above:*  \n",
    "`compound_interest(10000, 10, 0.06, 12) ➞ 18193.97`  \n",
    "Note that the interest rate is given as a decimal and n=12 because with monthly compounding\n",
    "there are 12 periods per year. Compounding can also be done annually, quarterly, weekly, or\n",
    "daily.  \n",
    "\n",
    "*Examples:*\n",
    "`compound_interest(100, 1, 0.05, 1) ➞ 105.0`  \n",
    "`compound_interest(3500, 15, 0.1, 4) ➞ 15399.26`  \n",
    "`compound_interest(100000, 20, 0.15, 365) ➞ 2007316.26`  "
   ]
  },
  {
   "cell_type": "code",
   "execution_count": 3,
   "metadata": {},
   "outputs": [],
   "source": [
    "def compound_interest(principal,years,roi,cp):\n",
    "     return round(principal*(1+(roi/cp))**(cp*years), 2)"
   ]
  },
  {
   "cell_type": "code",
   "execution_count": 8,
   "metadata": {},
   "outputs": [
    {
     "name": "stdout",
     "output_type": "stream",
     "text": [
      "compound_interest(100, 1, 0.05, 1) -> 105.0\n",
      "compound_interest(3500, 15, 0.1, 4) -> 15399.26\n",
      "compound_interest(100000, 20, 0.15, 365) -> 2007316.26\n"
     ]
    }
   ],
   "source": [
    "print('{} -> {}'.format('compound_interest(100, 1, 0.05, 1)',compound_interest(100, 1, 0.05, 1)))\n",
    "print('{} -> {}'.format('compound_interest(3500, 15, 0.1, 4)',compound_interest(3500, 15, 0.1, 4)))\n",
    "print('{} -> {}'.format('compound_interest(100000, 20, 0.15, 365)',compound_interest(100000, 20, 0.15, 365)))"
   ]
  },
  {
   "cell_type": "markdown",
   "metadata": {},
   "source": [
    "##### 5.Write a function that takes a list of elements and returns only the integers.\n",
    "*Examples:*  \n",
    "`return_only_integer([9, 2, \"space\", \"car\", \"lion\", 16]) ➞ [9, 2, 16]`  \n",
    "`return_only_integer([\"hello\", 81, \"basketball\", 123, \"fox\"]) ➞ [81, 123]`   \n",
    "`return_only_integer([10, \"121\", 56, 20, \"car\", 3, \"lion\"]) ➞ [10, 56, 20,3]`    \n",
    "`return_only_integer([\"String\", True, 3.3, 1]) ➞ [1]`"
   ]
  },
  {
   "cell_type": "code",
   "execution_count": 5,
   "metadata": {},
   "outputs": [],
   "source": [
    "def return_only_integer(list_in):\n",
    "    return [ele for ele in list_in if type(ele) == int]"
   ]
  },
  {
   "cell_type": "code",
   "execution_count": 9,
   "metadata": {},
   "outputs": [
    {
     "name": "stdout",
     "output_type": "stream",
     "text": [
      "return_only_integer([9, 2, \"space\", \"car\", \"lion\", 16]) -> [9, 2, 16]\n",
      "return_only_integer([\"hello\", 81, \"basketball\", 123, \"fox\"]) -> [81, 123]\n",
      "return_only_integer([10, \"121\", 56, 20, \"car\", 3, \"lion\"]) -> [10, 56, 20, 3]\n",
      "return_only_integer([\"String\", True, 3.3, 1]) -> [1]\n"
     ]
    }
   ],
   "source": [
    "print('{} -> {}'.format('return_only_integer([9, 2, \"space\", \"car\", \"lion\", 16])',return_only_integer([9, 2, \"space\", \"car\", \"lion\", 16])))\n",
    "print('{} -> {}'.format('return_only_integer([\"hello\", 81, \"basketball\", 123, \"fox\"])',return_only_integer([\"hello\", 81, \"basketball\", 123, \"fox\"])))\n",
    "print('{} -> {}'.format('return_only_integer([10, \"121\", 56, 20, \"car\", 3, \"lion\"])',return_only_integer([10, \"121\", 56, 20, \"car\", 3, \"lion\"])))\n",
    "print('{} -> {}'.format('return_only_integer([\"String\", True, 3.3, 1])',return_only_integer([\"String\", True, 3.3, 1])))"
   ]
  }
 ],
 "metadata": {
  "interpreter": {
   "hash": "b3ba2566441a7c06988d0923437866b63cedc61552a5af99d1f4fb67d367b25f"
  },
  "kernelspec": {
   "display_name": "Python 3.9.7 ('base')",
   "language": "python",
   "name": "python3"
  },
  "language_info": {
   "codemirror_mode": {
    "name": "ipython",
    "version": 3
   },
   "file_extension": ".py",
   "mimetype": "text/x-python",
   "name": "python",
   "nbconvert_exporter": "python",
   "pygments_lexer": "ipython3",
   "version": "3.9.7"
  },
  "orig_nbformat": 4
 },
 "nbformat": 4,
 "nbformat_minor": 2
}
