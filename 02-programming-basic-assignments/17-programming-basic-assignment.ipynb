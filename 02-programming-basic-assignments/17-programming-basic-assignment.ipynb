{
 "cells": [
  {
   "cell_type": "markdown",
   "metadata": {},
   "source": [
    "#### 1. Create a function that takes three arguments a, b, c and returns the sum of the numbers that are evenly divided by c from the range a, b inclusive ?\n",
    "*Examples:*  \n",
    "`evenly_divisible(1, 10, 20) ➞ 0`\n",
    "    `# No number between 1 and 10 can be evenly divided by 20.` \\\n",
    "`evenly_divisible(1, 10, 2) ➞ 30`\n",
    "    `# 2 + 4 + 6 + 8 + 10 = 30` \\\n",
    "`evenly_divisible(1, 10, 3) ➞ 18`\n",
    "    `# 3 + 6 + 9 = 18` \n",
    "\n"
   ]
  },
  {
   "cell_type": "code",
   "execution_count": 5,
   "metadata": {},
   "outputs": [],
   "source": [
    "def evenly_divisible(a, b, c):\n",
    "\n",
    "    result = [x for x in range(a,b+1) if x%c == 0]\n",
    "\n",
    "    return sum(result)\n"
   ]
  },
  {
   "cell_type": "code",
   "execution_count": 14,
   "metadata": {},
   "outputs": [
    {
     "name": "stdout",
     "output_type": "stream",
     "text": [
      "evenly_divisible(1, 10, 20) -> 0\n",
      "evenly_divisible(1, 10, 2) -> 30\n",
      "evenly_divisible(1, 10, 3) -> 18\n"
     ]
    }
   ],
   "source": [
    "print('{} -> {}'.format('evenly_divisible(1, 10, 20)',evenly_divisible(1, 10, 20)))\n",
    "print('{} -> {}'.format('evenly_divisible(1, 10, 2)',evenly_divisible(1, 10, 2)))\n",
    "print('{} -> {}'.format('evenly_divisible(1, 10, 3)',evenly_divisible(1, 10, 3)))"
   ]
  },
  {
   "cell_type": "markdown",
   "metadata": {},
   "source": [
    "##### 2. Create a function that returns True if a given inequality expression is correct and False otherwise ?\n",
    "*Examples:*  \n",
    "`correct_signs(\"3 < 7 < 11\") ➞ True`  \n",
    "`correct_signs(\"13 > 44 > 33 > 1\") ➞ False`  \n",
    "`correct_signs(\"1 < 2 < 6 < 9 > 3\") ➞ True` \n",
    "\n"
   ]
  },
  {
   "cell_type": "code",
   "execution_count": 8,
   "metadata": {},
   "outputs": [],
   "source": [
    "def correct_signs(inequality_expr):\n",
    "    return eval(inequality_expr)"
   ]
  },
  {
   "cell_type": "code",
   "execution_count": 11,
   "metadata": {},
   "outputs": [
    {
     "name": "stdout",
     "output_type": "stream",
     "text": [
      "3 < 7 < 11 -> True\n",
      "13 > 44 > 33 > 1 -> False\n",
      "1 < 2 < 6 < 9 < 3 -> False\n"
     ]
    }
   ],
   "source": [
    "expr1 = '3 < 7 < 11'\n",
    "expr2 = '13 > 44 > 33 > 1'\n",
    "expr3 = '1 < 2 < 6 < 9 < 3'\n",
    "\n",
    "print('{} -> {}'.format(expr1,correct_signs(expr1)))\n",
    "print('{} -> {}'.format(expr2,correct_signs(expr2)))\n",
    "print('{} -> {}'.format(expr3,correct_signs(expr3)))"
   ]
  },
  {
   "cell_type": "markdown",
   "metadata": {},
   "source": [
    "##### 3. Create a function that replaces all the vowels in a string with a specified character ?\n",
    "*Examples:*  \n",
    "`replace_vowels(\"the aardvark\", \"#\") ➞ \"th# ##rdv#rk\"`  \n",
    "`replace_vowels(\"minnie mouse\", \"?\") ➞ \"m?nn?? m??s?\"`  \n",
    "`replace_vowels(\"shakespeare\", \"*\") ➞ \"shksp**r\"`  \n"
   ]
  },
  {
   "cell_type": "code",
   "execution_count": 15,
   "metadata": {},
   "outputs": [],
   "source": [
    "def replace_vowels(str_in, replacement_char):\n",
    "    vowels = ['a','e','i','o','u','A','E','I','O','U']\n",
    "    str_out = ''\n",
    "    for character in str_in:\n",
    "        if character in vowels:\n",
    "            str_out = str_out + replacement_char\n",
    "        else:\n",
    "            str_out = str_out + character\n",
    "    return str_out"
   ]
  },
  {
   "cell_type": "code",
   "execution_count": 18,
   "metadata": {},
   "outputs": [
    {
     "name": "stdout",
     "output_type": "stream",
     "text": [
      "replace_vowels(\"the aardvark\",\"#\") -> th# ##rdv#rk\n",
      "replace_vowels(\"minnie mouse\",\"?\") -> m?nn?? m??s?\n",
      "replace_vowels(\"shakespeare\",\"*\") -> sh*k*sp**r*\n"
     ]
    }
   ],
   "source": [
    "print('{} -> {}'.format('replace_vowels(\"the aardvark\",\"#\")',replace_vowels(\"the aardvark\",\"#\")))\n",
    "print('{} -> {}'.format('replace_vowels(\"minnie mouse\",\"?\")',replace_vowels(\"minnie mouse\",\"?\")))\n",
    "print('{} -> {}'.format('replace_vowels(\"shakespeare\",\"*\")',replace_vowels(\"shakespeare\",\"*\")))"
   ]
  },
  {
   "cell_type": "markdown",
   "metadata": {},
   "source": [
    "##### 4. Write a function that calculates the factorial of a number recursively.\n",
    "*Examples* \\\n",
    "`factorial(5) ➞ 120` \\\n",
    "`factorial(3) ➞ 6` \\\n",
    "`factorial(1) ➞ 1` \\\n",
    "`factorial(0) ➞ 1` \n",
    "\n"
   ]
  },
  {
   "cell_type": "code",
   "execution_count": 19,
   "metadata": {},
   "outputs": [],
   "source": [
    "def factorial(number):\n",
    "    if number == 0:\n",
    "        return 1\n",
    "    \n",
    "    return number * factorial(number - 1)"
   ]
  },
  {
   "cell_type": "code",
   "execution_count": 21,
   "metadata": {},
   "outputs": [
    {
     "name": "stdout",
     "output_type": "stream",
     "text": [
      "factorial(5) -> 120\n",
      "factorial(3) -> 6\n",
      "factorial(1) -> 1\n",
      "factorial(0) -> 1\n"
     ]
    }
   ],
   "source": [
    "print('{} -> {}'.format('factorial(5)',factorial(5)))\n",
    "print('{} -> {}'.format('factorial(3)',factorial(3)))\n",
    "print('{} -> {}'.format('factorial(1)',factorial(1)))\n",
    "print('{} -> {}'.format('factorial(0)',factorial(0)))"
   ]
  },
  {
   "cell_type": "markdown",
   "metadata": {},
   "source": [
    "##### 5. Hamming distance is the number of characters that differ between two strings ?\n",
    "To illustrate:  \n",
    "    `String1: \"abcbba\"`  \n",
    "    `String2: \"abcbda\"`  \n",
    "Hamming Distance: 1 - \"b\" vs. \"d\" is the only difference.  \n",
    "Create a function that computes the hamming distance between two strings.  \n",
    "*Examples:*  \n",
    "`hamming_distance(\"abcde\", \"bcdef\") ➞ 5`  \n",
    "`hamming_distance(\"abcde\", \"abcde\") ➞ 0`  \n",
    "`hamming_distance(\"strong\", \"strung\") ➞ 1`  "
   ]
  },
  {
   "cell_type": "code",
   "execution_count": 23,
   "metadata": {},
   "outputs": [],
   "source": [
    "def hamming_distance(str1, str2):\n",
    "\n",
    "    distance = 0\n",
    "    if (len(str1) == len(str2)):\n",
    "        for i in range(len(str1)):\n",
    "            if str1[i] != str2[i]:\n",
    "                distance += 1\n",
    "    else:\n",
    "        distance = -1\n",
    "    \n",
    "    return distance"
   ]
  },
  {
   "cell_type": "code",
   "execution_count": 24,
   "metadata": {},
   "outputs": [
    {
     "name": "stdout",
     "output_type": "stream",
     "text": [
      "hamming_distance(\"abcde\", \"bcdef\") -> 5\n",
      "hamming_distance(\"abcde\", \"abcde\") -> 0\n",
      "hamming_distance(\"strong\", \"strung\") -> 1\n"
     ]
    }
   ],
   "source": [
    "print('{} -> {}'.format('hamming_distance(\"abcde\", \"bcdef\")', hamming_distance(\"abcde\", \"bcdef\")))\n",
    "print('{} -> {}'.format('hamming_distance(\"abcde\", \"abcde\")', hamming_distance(\"abcde\", \"abcde\")))\n",
    "print('{} -> {}'.format('hamming_distance(\"strong\", \"strung\")', hamming_distance(\"strong\", \"strung\")))"
   ]
  },
  {
   "cell_type": "code",
   "execution_count": null,
   "metadata": {},
   "outputs": [],
   "source": []
  }
 ],
 "metadata": {
  "interpreter": {
   "hash": "b3ba2566441a7c06988d0923437866b63cedc61552a5af99d1f4fb67d367b25f"
  },
  "kernelspec": {
   "display_name": "Python 3.9.7 ('base')",
   "language": "python",
   "name": "python3"
  },
  "language_info": {
   "codemirror_mode": {
    "name": "ipython",
    "version": 3
   },
   "file_extension": ".py",
   "mimetype": "text/x-python",
   "name": "python",
   "nbconvert_exporter": "python",
   "pygments_lexer": "ipython3",
   "version": "3.9.7"
  },
  "orig_nbformat": 4
 },
 "nbformat": 4,
 "nbformat_minor": 2
}
