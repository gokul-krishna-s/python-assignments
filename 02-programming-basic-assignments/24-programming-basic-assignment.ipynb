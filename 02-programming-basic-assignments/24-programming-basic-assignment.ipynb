{
 "cells": [
  {
   "cell_type": "markdown",
   "metadata": {},
   "source": [
    "##### 1. Create a function that takes an integer and returns a list from 1 to the given number, where:\n",
    "1.If the number can be divided evenly by 4, amplify it by 10 (i.e. return 10 times the number).  \n",
    "2.If the number cannot be divided evenly by 4, simply return the number. \n",
    "\n",
    "*Examples:*  \n",
    "`amplify(4) ➞ [1, 2, 3, 40]`  \n",
    "`amplify(3) ➞ [1, 2, 3]`  \n",
    "`amplify(25) ➞ [1, 2, 3, 40, 5, 6, 7, 80, 9, 10, 11, 120, 13, 14, 15, 160, 17, 18, 19, 200, 21, 22, 23, 240, 25]`\n",
    "\n",
    "*Notes:*  \n",
    "    1.The given integer will always be equal to or greater than 1.  \n",
    "    2.Include the number (see example above).  \n",
    "    3.To perform this problem with its intended purpose, try doing it with list"
   ]
  },
  {
   "cell_type": "code",
   "execution_count": 23,
   "metadata": {},
   "outputs": [],
   "source": [
    "def amplify(num_in):\n",
    "\n",
    "    return [x*10 if x % 4 == 0 else x for x in range(1,num_in+1)]"
   ]
  },
  {
   "cell_type": "code",
   "execution_count": 24,
   "metadata": {},
   "outputs": [
    {
     "name": "stdout",
     "output_type": "stream",
     "text": [
      "amplify(4) -> [1, 2, 3, 40]\n",
      "amplify(3) -> [1, 2, 3]\n",
      "amplify(25) -> [1, 2, 3, 40, 5, 6, 7, 80, 9, 10, 11, 120, 13, 14, 15, 160, 17, 18, 19, 200, 21, 22, 23, 240, 25]\n"
     ]
    }
   ],
   "source": [
    "print('{} -> {}'.format('amplify(4)', amplify(4)))\n",
    "print('{} -> {}'.format('amplify(3)', amplify(3)))\n",
    "print('{} -> {}'.format('amplify(25)', amplify(25)))"
   ]
  },
  {
   "cell_type": "markdown",
   "metadata": {},
   "source": [
    "##### 2. Create a function that takes a list of numbers and return the number that's unique.\n",
    "*Examples:*  \n",
    "`unique([3, 3, 3, 7, 3, 3]) ➞ 7`  \n",
    "`unique([0, 0, 0.77, 0, 0]) ➞ 0.77`  \n",
    "`unique([0, 1, 1, 1, 1, 1, 1, 1]) ➞ 0`  \n",
    "\n",
    "*Notes:*  \n",
    "Test cases will always have exactly one unique number while all others are the same."
   ]
  },
  {
   "cell_type": "code",
   "execution_count": 25,
   "metadata": {},
   "outputs": [],
   "source": [
    "def unique(list_in):\n",
    "    unique_elements = set(list_in)\n",
    "    for i in unique_elements:\n",
    "        if list_in.count(i) == 1:\n",
    "            return i\n"
   ]
  },
  {
   "cell_type": "code",
   "execution_count": 26,
   "metadata": {},
   "outputs": [
    {
     "name": "stdout",
     "output_type": "stream",
     "text": [
      "unique([3, 3, 3, 7, 3, 3]) -> 7\n",
      "unique([0, 0, 0.77, 0, 0]) -> 0.77\n",
      "unique([0, 1, 1, 1, 1, 1, 1, 1]) -> 0\n"
     ]
    }
   ],
   "source": [
    "print('{} -> {}'.format('unique([3, 3, 3, 7, 3, 3])', unique([3, 3, 3, 7, 3, 3])))\n",
    "print('{} -> {}'.format('unique([0, 0, 0.77, 0, 0])', unique([0, 0, 0.77, 0, 0])))\n",
    "print('{} -> {}'.format('unique([0, 1, 1, 1, 1, 1, 1, 1])', unique([0, 1, 1, 1, 1, 1, 1, 1])))"
   ]
  },
  {
   "cell_type": "markdown",
   "metadata": {},
   "source": [
    "##### 3. Your task is to create a Circle constructor that creates a circle with a radius provided by an argument. The circles constructed must have two getters `getArea() (PIr^2)` and `getPerimeter() (2PI*r)` which give both respective areas and perimeter (circumference). For help with this class, I have provided you with a Rectangle constructor which you can use as a base example ?\n",
    "*Examples:*  \n",
    "`circy = Circle(11)`   \n",
    "`circy.getArea()`  \n",
    "    # Should return 380.132711084365\n",
    "`circy = Circle(4.44)`  \n",
    "`circy.getPerimeter()`  \n",
    "    # Should return 27.897342763877365\n",
    "\n",
    "*Notes:*  \n",
    "Round results up to the nearest integer."
   ]
  },
  {
   "cell_type": "code",
   "execution_count": 27,
   "metadata": {},
   "outputs": [],
   "source": [
    "from math import pi\n",
    "class Circle():\n",
    "    def __init__(self, radius):\n",
    "        self.radius = radius\n",
    "\n",
    "    def getArea(self):\n",
    "        return pi * (self.radius**2)\n",
    "\n",
    "    def getPerimeter(self):\n",
    "        return 2 * pi * self.radius\n",
    "    "
   ]
  },
  {
   "cell_type": "code",
   "execution_count": 28,
   "metadata": {},
   "outputs": [
    {
     "data": {
      "text/plain": [
       "380.132711084365"
      ]
     },
     "execution_count": 28,
     "metadata": {},
     "output_type": "execute_result"
    }
   ],
   "source": [
    "circy = Circle(11)\n",
    "circy.getArea()"
   ]
  },
  {
   "cell_type": "code",
   "execution_count": 29,
   "metadata": {},
   "outputs": [
    {
     "data": {
      "text/plain": [
       "27.897342763877365"
      ]
     },
     "execution_count": 29,
     "metadata": {},
     "output_type": "execute_result"
    }
   ],
   "source": [
    "circy = Circle(4.44)\n",
    "circy.getPerimeter()"
   ]
  },
  {
   "cell_type": "markdown",
   "metadata": {},
   "source": [
    "##### 4. Create a function that takes a list of strings and return a list, sorted from shortest to longest.\n",
    "*Examples:*  \n",
    "`sort_by_length([\"Google\", \"Apple\", \"Microsoft\"])`  \n",
    "`➞ [\"Apple\", \"Google\", \"Microsoft\"]`  \n",
    "`sort_by_length([\"Leonardo\", \"Michelangelo\", \"Raphael\", \"Donatello\"])`  \n",
    "`➞ [\"Raphael\", \"Leonardo\", \"Donatello\", \"Michelangelo\"]`  \n",
    "`sort_by_length([\"Turing\", \"Einstein\", \"Jung\"])`  \n",
    "`➞ [\"Jung\", \"Turing\", \"Einstein\"]`  \n",
    "\n",
    "*Notes:*  \n",
    "All test cases contain lists with strings of different lengths, so you won't have to deal with\n",
    "multiple strings of the same length."
   ]
  },
  {
   "cell_type": "code",
   "execution_count": 30,
   "metadata": {},
   "outputs": [],
   "source": [
    "def sort_by_length(list_in):\n",
    "    return sorted(list_in, key=len)"
   ]
  },
  {
   "cell_type": "code",
   "execution_count": 31,
   "metadata": {},
   "outputs": [
    {
     "name": "stdout",
     "output_type": "stream",
     "text": [
      "sort_by_length([\"Google\", \"Apple\", \"Microsoft\"]) -> ['Apple', 'Google', 'Microsoft']\n",
      "sort_by_length([\"Leonardo\", \"Michelangelo\", \"Raphael\", \"Donatello\"]) -> ['Raphael', 'Leonardo', 'Donatello', 'Michelangelo']\n",
      "sort_by_length([\"Turing\", \"Einstein\", \"Jung\"]) -> ['Jung', 'Turing', 'Einstein']\n"
     ]
    }
   ],
   "source": [
    "print('{} -> {}'.format('sort_by_length([\"Google\", \"Apple\", \"Microsoft\"])', sort_by_length([\"Google\", \"Apple\", \"Microsoft\"])))\n",
    "print('{} -> {}'.format('sort_by_length([\"Leonardo\", \"Michelangelo\", \"Raphael\", \"Donatello\"])', sort_by_length([\"Leonardo\", \"Michelangelo\", \"Raphael\", \"Donatello\"])))\n",
    "print('{} -> {}'.format('sort_by_length([\"Turing\", \"Einstein\", \"Jung\"])', sort_by_length([\"Turing\", \"Einstein\", \"Jung\"])))"
   ]
  },
  {
   "cell_type": "markdown",
   "metadata": {},
   "source": [
    "##### 5. Create a function that validates whether three given integers form a Pythagorean triplet. The sum of the squares of the two smallest integers must equal the square of the largest number to be validated.\n",
    "*Examples:*  \n",
    "`is_triplet(3, 4, 5) ➞ True`\n",
    "- 3² + 4² = 25\n",
    "- 5² = 25\n",
    "\n",
    "`is_triplet(13, 5, 12) ➞ True`\n",
    "- 5² + 12² = 169\n",
    "- 13² = 169\n",
    "\n",
    "`is_triplet(1, 2, 3) ➞ False`\n",
    "- 1² + 2² = 5\n",
    "- 3² = 9\n",
    "    \n",
    "*Notes:*\n",
    "Numbers may not be given in a sorted order."
   ]
  },
  {
   "cell_type": "code",
   "execution_count": 32,
   "metadata": {},
   "outputs": [],
   "source": [
    "def is_triplet(num1, num2, num3):\n",
    "    list_num = [num1, num2, num3]\n",
    "    list_sorted = sorted(list_num)\n",
    "    return (list_sorted[0]**2) + (list_sorted[1]**2) == (list_sorted[2]**2)"
   ]
  },
  {
   "cell_type": "code",
   "execution_count": 33,
   "metadata": {},
   "outputs": [
    {
     "name": "stdout",
     "output_type": "stream",
     "text": [
      "is_triplet(3, 4, 5) -> True\n",
      "is_triplet(13, 5, 12) -> True\n",
      "is_triplet(1, 2, 3) -> False\n"
     ]
    }
   ],
   "source": [
    "print('{} -> {}'.format('is_triplet(3, 4, 5)', is_triplet(3, 4, 5)))\n",
    "print('{} -> {}'.format('is_triplet(13, 5, 12)', is_triplet(13, 5, 12)))\n",
    "print('{} -> {}'.format('is_triplet(1, 2, 3)', is_triplet(1, 2, 3)))"
   ]
  }
 ],
 "metadata": {
  "interpreter": {
   "hash": "ad2bdc8ecc057115af97d19610ffacc2b4e99fae6737bb82f5d7fb13d2f2c186"
  },
  "kernelspec": {
   "display_name": "Python 3.9.7 ('base')",
   "language": "python",
   "name": "python3"
  },
  "language_info": {
   "codemirror_mode": {
    "name": "ipython",
    "version": 3
   },
   "file_extension": ".py",
   "mimetype": "text/x-python",
   "name": "python",
   "nbconvert_exporter": "python",
   "pygments_lexer": "ipython3",
   "version": "3.9.7"
  },
  "orig_nbformat": 4
 },
 "nbformat": 4,
 "nbformat_minor": 2
}
