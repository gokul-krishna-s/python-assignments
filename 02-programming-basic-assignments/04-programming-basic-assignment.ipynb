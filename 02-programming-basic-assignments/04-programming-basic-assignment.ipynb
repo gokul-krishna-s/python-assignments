{
 "cells": [
  {
   "cell_type": "markdown",
   "metadata": {},
   "source": [
    "##### 1.\tWrite a Python Program to Find the Factorial of a Number?"
   ]
  },
  {
   "cell_type": "code",
   "execution_count": 3,
   "metadata": {},
   "outputs": [
    {
     "name": "stdout",
     "output_type": "stream",
     "text": [
      "The factorial of 15 is 1307674368000\n"
     ]
    }
   ],
   "source": [
    "num = int(input(\"Enter a positive integer\"))\n",
    "\n",
    "if(num<0):\n",
    "    print(\"Invalid Input\")\n",
    "    \n",
    "else:\n",
    "    factorial = 1\n",
    "    for i in range(num,1,-1):\n",
    "        factorial = factorial*i\n",
    "\n",
    "    print(\"The factorial of {} is {}\".format(num,factorial))"
   ]
  },
  {
   "cell_type": "markdown",
   "metadata": {},
   "source": [
    "##### 2.\tWrite a Python Program to Display the multiplication Table?"
   ]
  },
  {
   "cell_type": "code",
   "execution_count": 7,
   "metadata": {},
   "outputs": [
    {
     "name": "stdout",
     "output_type": "stream",
     "text": [
      "5 x 1 = 5\n",
      "5 x 2 = 10\n",
      "5 x 3 = 15\n",
      "5 x 4 = 20\n",
      "5 x 5 = 25\n",
      "5 x 6 = 30\n",
      "5 x 7 = 35\n",
      "5 x 8 = 40\n",
      "5 x 9 = 45\n",
      "5 x 10 = 50\n"
     ]
    }
   ],
   "source": [
    "num = int(input(\"Enter the number for which you want to see the multiplication table\"))\n",
    "\n",
    "for i in range(1,11):\n",
    "    product = num*i\n",
    "    print(\"{} x {} = {}\".format(num,i,product))"
   ]
  },
  {
   "cell_type": "markdown",
   "metadata": {},
   "source": [
    "##### 3.\tWrite a Python Program to Print the Fibonacci sequence?"
   ]
  },
  {
   "cell_type": "code",
   "execution_count": 14,
   "metadata": {},
   "outputs": [
    {
     "name": "stdout",
     "output_type": "stream",
     "text": [
      "Fibinocci Sequence: 0 1 1 2 3 5 8 13 21 34 55 89 144 233 377 610 987 1597 2584 4181 6765 10946 17711 28657 46368 75025 121393 196418 317811 514229 "
     ]
    }
   ],
   "source": [
    "numofterms = int(input())\n",
    "\n",
    "term1 = 0\n",
    "term2 = 1\n",
    "count = 0\n",
    "\n",
    "if numofterms<=0:\n",
    "    print(\"invalid Input\")\n",
    "\n",
    "elif numofterms==1:\n",
    "    print(\"Fibinocci Sequence: {}\".format(term1))\n",
    "\n",
    "else:\n",
    "    print(\"Fibinocci Sequence:\",end=\" \")\n",
    "    while count<numofterms:\n",
    "        print(term1,end=\" \")\n",
    "        tn = term1 + term2\n",
    "        term1 = term2\n",
    "        term2 = tn\n",
    "        count+=1\n",
    "\n"
   ]
  },
  {
   "cell_type": "markdown",
   "metadata": {},
   "source": [
    "##### 4.\tWrite a Python Program to Check Armstrong Number?"
   ]
  },
  {
   "cell_type": "code",
   "execution_count": 13,
   "metadata": {},
   "outputs": [
    {
     "name": "stdout",
     "output_type": "stream",
     "text": [
      "370 is an armstrong number\n"
     ]
    }
   ],
   "source": [
    "number = int(input(\"Enter a number: \"))\n",
    "order = len(str(number))\n",
    "\n",
    "sum = 0\n",
    "temp = number\n",
    "\n",
    "while temp>0:\n",
    "    digit = temp%10\n",
    "    sum = sum + digit ** order\n",
    "    temp = temp//10\n",
    "\n",
    "if sum == number:\n",
    "    print(\"{} is an armstrong number\".format(number))\n",
    "else:\n",
    "    print(\"{} is not an armstrong number\".format(number))"
   ]
  },
  {
   "cell_type": "markdown",
   "metadata": {},
   "source": [
    "##### 5.\tWrite a Python Program to Find Armstrong Number in an Interval?"
   ]
  },
  {
   "cell_type": "code",
   "execution_count": 11,
   "metadata": {},
   "outputs": [
    {
     "name": "stdout",
     "output_type": "stream",
     "text": [
      "0 1 2 3 4 5 6 7 8 9 153 370 371 407 1634 "
     ]
    }
   ],
   "source": [
    "lower_interval = int(input(\"Enter Lower Interval: \"))\n",
    "upper_interval = int(input(\"Enter Upper Interval: \"))\n",
    "\n",
    "for number in range(lower_interval,upper_interval+1):\n",
    "    order = len(str(number))\n",
    "    sum = 0\n",
    "    temp = number\n",
    "\n",
    "    while temp>0:\n",
    "        digit = temp%10\n",
    "        sum = sum + digit ** order\n",
    "        temp = temp//10\n",
    "\n",
    "    if sum == number:\n",
    "        print(number,end=\" \")"
   ]
  },
  {
   "cell_type": "markdown",
   "metadata": {},
   "source": [
    "##### 6.\tWrite a Python Program to Find the Sum of Natural Numbers?"
   ]
  },
  {
   "cell_type": "code",
   "execution_count": 15,
   "metadata": {},
   "outputs": [
    {
     "name": "stdout",
     "output_type": "stream",
     "text": [
      "Sum = 10\n"
     ]
    }
   ],
   "source": [
    "n = int(input(\"Enter the natural number upto which you want to calculate the sum: \"))\n",
    "\n",
    "sum = 0\n",
    "for i in range(1,n+1):\n",
    "    sum = sum+i\n",
    "\n",
    "print(\"Sum = {}\".format(sum))"
   ]
  }
 ],
 "metadata": {
  "interpreter": {
   "hash": "b3ba2566441a7c06988d0923437866b63cedc61552a5af99d1f4fb67d367b25f"
  },
  "kernelspec": {
   "display_name": "Python 3.8.8 64-bit ('base': conda)",
   "language": "python",
   "name": "python3"
  },
  "language_info": {
   "codemirror_mode": {
    "name": "ipython",
    "version": 3
   },
   "file_extension": ".py",
   "mimetype": "text/x-python",
   "name": "python",
   "nbconvert_exporter": "python",
   "pygments_lexer": "ipython3",
   "version": "3.8.8"
  },
  "orig_nbformat": 4
 },
 "nbformat": 4,
 "nbformat_minor": 2
}
