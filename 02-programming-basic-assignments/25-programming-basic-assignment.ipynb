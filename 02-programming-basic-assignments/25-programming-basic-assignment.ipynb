{
 "cells": [
  {
   "cell_type": "markdown",
   "metadata": {},
   "source": [
    "##### 1. Create a function that takes three integer arguments (a, b, c) and returns the amount of integers which are of equal value.\n",
    "*Examples:* \n",
    "`equal(3, 4, 3) ➞ 2`  \n",
    "`equal(1, 1, 1) ➞ 3`  \n",
    "`equal(3, 4, 1) ➞ 0`  \n",
    "\n",
    "*Notes:*  \n",
    "Your function must return 0, 2 or 3."
   ]
  },
  {
   "cell_type": "code",
   "execution_count": 103,
   "metadata": {},
   "outputs": [],
   "source": [
    "def equal(num1, num2, num3):\n",
    "    if num1 == num2 or num2 == num3 or num3 == num1:\n",
    "        return 2\n",
    "    elif num1 == num2 == num3:\n",
    "        return 3\n",
    "        \n",
    "    return 0"
   ]
  },
  {
   "cell_type": "code",
   "execution_count": 104,
   "metadata": {},
   "outputs": [
    {
     "name": "stdout",
     "output_type": "stream",
     "text": [
      "equal(3, 4, 3) -> 2\n",
      "equal(1, 1, 1) -> 2\n",
      "equal(3, 4, 1) -> 0\n"
     ]
    }
   ],
   "source": [
    "print('{} -> {}'.format('equal(3, 4, 3)', equal(3, 4, 3)))\n",
    "print('{} -> {}'.format('equal(1, 1, 1)', equal(1, 1, 1)))\n",
    "print('{} -> {}'.format('equal(3, 4, 1)', equal(3, 4, 1)))"
   ]
  },
  {
   "cell_type": "markdown",
   "metadata": {},
   "source": [
    "##### 2. Write a function that converts a dictionary into a list of keys-values tuples.\n",
    "*Examples:* \n",
    " \n",
    "`dict_to_list({\n",
    "    \"D\": 1,\n",
    "    \"B\": 2,\n",
    "    \"C\": 3\n",
    "    }) ➞ [(\"B\", 2), (\"C\", 3), (\"D\", 1)] \n",
    "     \n",
    "dict_to_list({\n",
    "    \"likes\": 2,\n",
    "    \"dislikes\": 3,\n",
    "    \"followers\": 10\n",
    "    }) ➞ [(\"dislikes\", 3), (\"followers\", 10), (\"likes\", 2)]`\n",
    "\n",
    "*Notes:*  \n",
    "Return the elements in the list in alphabetical order."
   ]
  },
  {
   "cell_type": "code",
   "execution_count": 105,
   "metadata": {},
   "outputs": [],
   "source": [
    "def dict_to_list(dict_in):\n",
    "\n",
    "    list_out = []\n",
    "    for key, value in dict_in.items():\n",
    "        list_out.append((key, value))\n",
    "    \n",
    "    return sorted(list_out, key= lambda x:x[0])"
   ]
  },
  {
   "cell_type": "code",
   "execution_count": 106,
   "metadata": {},
   "outputs": [
    {
     "name": "stdout",
     "output_type": "stream",
     "text": [
      "dict_to_list({\"D\": 1,\"B\": 2,\"C\": 3}) -> [('B', 2), ('C', 3), ('D', 1)]\n",
      "dict_to_list({\"likes\": 2,\"dislikes\": 3,\"followers\": 10}) -> [('dislikes', 3), ('followers', 10), ('likes', 2)]\n"
     ]
    }
   ],
   "source": [
    "print('{} -> {}'.format('dict_to_list({\"D\": 1,\"B\": 2,\"C\": 3})', dict_to_list({\"D\": 1,\"B\": 2,\"C\": 3})))\n",
    "print('{} -> {}'.format('dict_to_list({\"likes\": 2,\"dislikes\": 3,\"followers\": 10})', dict_to_list({\"likes\": 2,\"dislikes\": 3,\"followers\": 10})))"
   ]
  },
  {
   "cell_type": "markdown",
   "metadata": {},
   "source": [
    "##### 3. Write a function that creates a dictionary with each (key, value) pair being the (lower case, upper case) versions of a letter, respectively.\n",
    "*Examples:*  \n",
    "`mapping([\"p\", \"s\"]) ➞ { \"p\": \"P\", \"s\": \"S\" }`  \n",
    "`mapping([\"a\", \"b\", \"c\"]) ➞ { \"a\": \"A\", \"b\": \"B\", \"c\": \"C\" }`  \n",
    "`mapping([\"a\", \"v\", \"y\", \"z\"]) ➞ { \"a\": \"A\", \"v\": \"V\", \"y\": \"Y\", \"z\": \"Z\" }`  \n",
    "\n",
    "*Notes:* \n",
    "All of the letters in the input list will always be lowercase."
   ]
  },
  {
   "cell_type": "code",
   "execution_count": 107,
   "metadata": {},
   "outputs": [],
   "source": [
    "def mapping(list_in):\n",
    "    list_of_key_value = [(x, chr(ord(x)-32) ) for x in list_in]\n",
    "\n",
    "    return dict(list_of_key_value)"
   ]
  },
  {
   "cell_type": "code",
   "execution_count": 108,
   "metadata": {},
   "outputs": [
    {
     "name": "stdout",
     "output_type": "stream",
     "text": [
      "mapping([\"p\", \"s\"]) -> {'p': 'P', 's': 'S'}\n",
      "mapping([\"a\", \"b\", \"c\"]) -> {'a': 'A', 'b': 'B', 'c': 'C'}\n",
      "mapping([\"a\", \"v\", \"y\", \"z\"]) -> {'a': 'A', 'v': 'V', 'y': 'Y', 'z': 'Z'}\n"
     ]
    }
   ],
   "source": [
    "print('{} -> {}'.format('mapping([\"p\", \"s\"])', mapping([\"p\", \"s\"])))\n",
    "print('{} -> {}'.format('mapping([\"a\", \"b\", \"c\"])', mapping([\"a\", \"b\", \"c\"])))\n",
    "print('{} -> {}'.format('mapping([\"a\", \"v\", \"y\", \"z\"])', mapping([\"a\", \"v\", \"y\", \"z\"])))"
   ]
  },
  {
   "cell_type": "markdown",
   "metadata": {},
   "source": [
    "##### 4. Write a function, that replaces all vowels in a string with a specified vowel.\n",
    "\n",
    "*Examples:*  \n",
    "`vow_replace(\"apples and bananas\", \"u\") ➞ \"upplus und bununus\"`  \n",
    "`vow_replace(\"cheese casserole\", \"o\") ➞ \"chooso cossorolo\"`  \n",
    "`vow_replace(\"stuffed jalapeno poppers\", \"e\") ➞ \"steffed jelepene peppers\"`  \n",
    "\n",
    "*Notes:*   \n",
    "All words will be lowercase. Y is not considered a vowel."
   ]
  },
  {
   "cell_type": "code",
   "execution_count": 109,
   "metadata": {},
   "outputs": [],
   "source": [
    "def vow_replace(string_in, replacement):\n",
    "\n",
    "    vowels = ['a', 'e', 'i', 'o', 'u']\n",
    "    for i in range(len(string_in)):\n",
    "        if string_in[i] in vowels:\n",
    "            string_in =  string_in.replace(string_in[i], replacement)\n",
    "    \n",
    "    return string_in\n"
   ]
  },
  {
   "cell_type": "code",
   "execution_count": 110,
   "metadata": {},
   "outputs": [
    {
     "name": "stdout",
     "output_type": "stream",
     "text": [
      "vow_replace(\"apples and bananas\", \"u\") -> upplus und bununus\n",
      "vow_replace(\"cheese casserole\", \"o\") -> chooso cossorolo\n",
      "vow_replace(\"stuffed jalapeno poppers\", \"e\") -> steffed jelepene peppers\n"
     ]
    }
   ],
   "source": [
    "print('{} -> {}'.format('vow_replace(\"apples and bananas\", \"u\")', vow_replace(\"apples and bananas\", \"u\")))\n",
    "print('{} -> {}'.format('vow_replace(\"cheese casserole\", \"o\")', vow_replace(\"cheese casserole\", \"o\")))\n",
    "print('{} -> {}'.format('vow_replace(\"stuffed jalapeno poppers\", \"e\")', vow_replace(\"stuffed jalapeno poppers\", \"e\")))"
   ]
  },
  {
   "cell_type": "markdown",
   "metadata": {},
   "source": [
    "##### 5. Create a function that takes a string as input and capitalizes a letter if its ASCII code is even and returns its lower case version if its ASCII code is odd.\n",
    "\n",
    "*Examples:*  \n",
    "`ascii_capitalize(\"to be or not to be!\") ➞ \"To Be oR NoT To Be!\"`  \n",
    "`ascii_capitalize(\"THE LITTLE MERMAID\") ➞ \"THe LiTTLe meRmaiD\"`  \n",
    "`ascii_capitalize(\"Oh what a beautiful morning.\") ➞ \"oH wHaT a BeauTiFuL moRNiNg.\"`  "
   ]
  },
  {
   "cell_type": "code",
   "execution_count": 111,
   "metadata": {},
   "outputs": [],
   "source": [
    "def ascii_capitalize(string_in):\n",
    "    for i in range(len(string_in)):\n",
    "        if (ord(string_in[i]) % 2) == 0:\n",
    "            string_in = string_in.replace(string_in[i], string_in[i].upper())\n",
    "        else:\n",
    "             string_in = string_in.replace(string_in[i], string_in[i].lower())  \n",
    "    \n",
    "    return string_in"
   ]
  },
  {
   "cell_type": "code",
   "execution_count": 112,
   "metadata": {},
   "outputs": [
    {
     "name": "stdout",
     "output_type": "stream",
     "text": [
      "ascii_capitalize(\"to be or not to be!\") -> To Be oR NoT To Be!\n",
      "ascii_capitalize(\"THE LITTLE MERMAID\") -> THe LiTTLe meRmaiD\n",
      "ascii_capitalize(\"Oh what a beautiful morning.\") -> oH wHaT a BeauTiFuL moRNiNg.\n"
     ]
    }
   ],
   "source": [
    "print('{} -> {}'.format('ascii_capitalize(\"to be or not to be!\")', ascii_capitalize(\"to be or not to be!\")))\n",
    "print('{} -> {}'.format('ascii_capitalize(\"THE LITTLE MERMAID\")', ascii_capitalize(\"THE LITTLE MERMAID\")))\n",
    "print('{} -> {}'.format('ascii_capitalize(\"Oh what a beautiful morning.\")', ascii_capitalize(\"Oh what a beautiful morning.\")))"
   ]
  }
 ],
 "metadata": {
  "interpreter": {
   "hash": "ad2bdc8ecc057115af97d19610ffacc2b4e99fae6737bb82f5d7fb13d2f2c186"
  },
  "kernelspec": {
   "display_name": "Python 3.9.7 ('base')",
   "language": "python",
   "name": "python3"
  },
  "language_info": {
   "codemirror_mode": {
    "name": "ipython",
    "version": 3
   },
   "file_extension": ".py",
   "mimetype": "text/x-python",
   "name": "python",
   "nbconvert_exporter": "python",
   "pygments_lexer": "ipython3",
   "version": "3.9.7"
  },
  "orig_nbformat": 4
 },
 "nbformat": 4,
 "nbformat_minor": 2
}
