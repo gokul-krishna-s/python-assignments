{
 "cells": [
  {
   "cell_type": "markdown",
   "metadata": {},
   "source": [
    "Q1.\tWrite a Python Program to find sum of array?"
   ]
  },
  {
   "cell_type": "code",
   "execution_count": 2,
   "metadata": {},
   "outputs": [
    {
     "name": "stdout",
     "output_type": "stream",
     "text": [
      "22\n"
     ]
    }
   ],
   "source": [
    "def sumOfArray(array):\n",
    "    sum = 0\n",
    "    for i in array:\n",
    "        sum+=i\n",
    "    return sum\n",
    "\n",
    "array = [2,4,7,9]\n",
    "sum = sumOfArray(array)\n",
    "print(sum)"
   ]
  },
  {
   "cell_type": "markdown",
   "metadata": {},
   "source": [
    "Q2.\tWrite a Python Program to find largest element in an array?"
   ]
  },
  {
   "cell_type": "code",
   "execution_count": 6,
   "metadata": {},
   "outputs": [
    {
     "name": "stdout",
     "output_type": "stream",
     "text": [
      "9\n"
     ]
    }
   ],
   "source": [
    "def getLargestElement(array):\n",
    "    max = array[0]\n",
    "\n",
    "    for i in range(1,len(array)):\n",
    "        if(array[i]>max):\n",
    "            max = array[i]\n",
    "        \n",
    "    return max\n",
    "\n",
    "array = [2,4,7,9]\n",
    "maxElement = getLargestElement(array)\n",
    "print(maxElement)"
   ]
  },
  {
   "cell_type": "markdown",
   "metadata": {},
   "source": [
    "Q3.\tWrite a Python Program for array rotation?"
   ]
  },
  {
   "cell_type": "code",
   "execution_count": 18,
   "metadata": {},
   "outputs": [
    {
     "name": "stdout",
     "output_type": "stream",
     "text": [
      "[11, 12, 2, 4, 7, 9, 10]\n"
     ]
    }
   ],
   "source": [
    "def rotateArray(array,n):\n",
    "    \n",
    "    temp = []\n",
    "    l = len(array)\n",
    "    for i in range(l-n,len(array)):\n",
    "        temp.append(array[i])\n",
    "    for i in range(0,l-n):\n",
    "        temp.append(array[i])\n",
    "\n",
    "\n",
    "    return temp\n",
    "\n",
    "array = [2,4,7,9,10,11,12]\n",
    "rotatedarray = rotateArray(array,2)\n",
    "print(rotatedarray)"
   ]
  },
  {
   "cell_type": "markdown",
   "metadata": {},
   "source": [
    "Q4.\tWrite a Python Program to Split the array and add the first part to the end?"
   ]
  },
  {
   "cell_type": "code",
   "execution_count": 1,
   "metadata": {},
   "outputs": [
    {
     "name": "stdout",
     "output_type": "stream",
     "text": [
      "[7, 9, 10, 11, 12, 2, 4]\n"
     ]
    }
   ],
   "source": [
    "def splitAndReposition(array,n):\n",
    "    \n",
    "    temp = []\n",
    "    l = len(array)\n",
    "    for i in range(n,len(array)):\n",
    "        temp.append(array[i])\n",
    "    for i in range(0,n):\n",
    "        temp.append(array[i])\n",
    "\n",
    "\n",
    "    return temp\n",
    "\n",
    "array = [2,4,7,9,10,11,12]\n",
    "repositionedarray = splitAndReposition(array,2)\n",
    "print(repositionedarray)"
   ]
  },
  {
   "cell_type": "markdown",
   "metadata": {},
   "source": [
    "Q5.\tWrite a Python Program to check if given array is Monotonic?"
   ]
  },
  {
   "cell_type": "code",
   "execution_count": 4,
   "metadata": {},
   "outputs": [
    {
     "name": "stdout",
     "output_type": "stream",
     "text": [
      "False\n"
     ]
    }
   ],
   "source": [
    "def isMonotonic(array):\n",
    "    result = False\n",
    "    if all(array[i]>=array[i+1] for i in range(len(array)-1)) or all(array[i]<=array[i+1] for i in range(len(array)-1)):\n",
    "        result = True\n",
    "\n",
    "    return result\n",
    "\n",
    "array = [2,1,7,9,10,11,12]\n",
    "print(isMonotonic(array))"
   ]
  }
 ],
 "metadata": {
  "interpreter": {
   "hash": "b3ba2566441a7c06988d0923437866b63cedc61552a5af99d1f4fb67d367b25f"
  },
  "kernelspec": {
   "display_name": "Python 3.8.8 ('base')",
   "language": "python",
   "name": "python3"
  },
  "language_info": {
   "codemirror_mode": {
    "name": "ipython",
    "version": 3
   },
   "file_extension": ".py",
   "mimetype": "text/x-python",
   "name": "python",
   "nbconvert_exporter": "python",
   "pygments_lexer": "ipython3",
   "version": "3.8.8"
  },
  "orig_nbformat": 4
 },
 "nbformat": 4,
 "nbformat_minor": 2
}
