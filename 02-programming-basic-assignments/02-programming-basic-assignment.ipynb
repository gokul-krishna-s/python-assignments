{
 "cells": [
  {
   "cell_type": "markdown",
   "metadata": {},
   "source": [
    "##### 1.\tWrite a Python program to convert kilometers to miles?"
   ]
  },
  {
   "cell_type": "code",
   "execution_count": 1,
   "metadata": {},
   "outputs": [
    {
     "name": "stdout",
     "output_type": "stream",
     "text": [
      "23.0 km is equal to 14.291533 miles\n"
     ]
    }
   ],
   "source": [
    "km = float(input(\"Enter distance in KM: \"))\n",
    "miles = 0.621371 * km\n",
    "print(\"{} km is equal to {} miles\".format(km,miles))"
   ]
  },
  {
   "cell_type": "markdown",
   "metadata": {},
   "source": [
    "##### 2.\tWrite a Python program to convert Celsius to Fahrenheit?"
   ]
  },
  {
   "cell_type": "code",
   "execution_count": 2,
   "metadata": {},
   "outputs": [
    {
     "name": "stdout",
     "output_type": "stream",
     "text": [
      "37.0 degree celsius is equal to 98.60000000000001 degree fahrenheit\n"
     ]
    }
   ],
   "source": [
    "celsius = float(input(\"Enter degree in celsius: \"))\n",
    "fahrenheit = (celsius*(9/5))+32\n",
    "print(\"{} degree celsius is equal to {} degree fahrenheit\".format(celsius,fahrenheit))"
   ]
  },
  {
   "cell_type": "markdown",
   "metadata": {},
   "source": [
    "##### 3.\tWrite a Python program to display calendar?"
   ]
  },
  {
   "cell_type": "code",
   "execution_count": 8,
   "metadata": {},
   "outputs": [
    {
     "name": "stdout",
     "output_type": "stream",
     "text": [
      "    January 2022\n",
      "Mo Tu We Th Fr Sa Su\n",
      "                1  2\n",
      " 3  4  5  6  7  8  9\n",
      "10 11 12 13 14 15 16\n",
      "17 18 19 20 21 22 23\n",
      "24 25 26 27 28 29 30\n",
      "31\n",
      "\n"
     ]
    }
   ],
   "source": [
    "import calendar\n",
    "\n",
    "year = int(input(\"Enter Year: \"))\n",
    "month = int(input(\"Enter Month: \"))\n",
    "\n",
    "print(calendar.month(year,month))"
   ]
  },
  {
   "cell_type": "markdown",
   "metadata": {},
   "source": [
    "##### 4.\tWrite a Python program to solve quadratic equation?"
   ]
  },
  {
   "cell_type": "code",
   "execution_count": 4,
   "metadata": {},
   "outputs": [
    {
     "name": "stdout",
     "output_type": "stream",
     "text": [
      "The solutions for the quadratic equation 2.0x^2 + 1.0x + 10.0 are (-1-8.888194417315589j) and (-1+8.888194417315589j)\n"
     ]
    }
   ],
   "source": [
    "import cmath  \n",
    "\n",
    "a = float(input(\"Enter a: \"))  \n",
    "b = float(input(\"Enter b: \"))  \n",
    "c = float(input(\"Enter c: \"))  \n",
    "    \n",
    "d = (b**2) - (4*a*c)    \n",
    "  \n",
    "solution1 = (-b - cmath.sqrt(d)) / 2*a  \n",
    "solution2 = (-b + cmath.sqrt(d)) / 2*a  \n",
    "print(\"The solutions for the quadratic equation {}x^2 + {}x + {} are {} and {}\".format(a,b,c,solution1,solution2)) "
   ]
  },
  {
   "cell_type": "markdown",
   "metadata": {},
   "source": [
    "##### 5.\tWrite a Python program to swap two variables without temp variable?"
   ]
  },
  {
   "cell_type": "code",
   "execution_count": 10,
   "metadata": {},
   "outputs": [
    {
     "name": "stdout",
     "output_type": "stream",
     "text": [
      "Orginal Values are a = 10 and b = 20\n",
      "Swapped Values are a = 20 and b = 10\n"
     ]
    }
   ],
   "source": [
    "a = 10\n",
    "b = 20\n",
    "\n",
    "print(\"Orginal Values are a = {} and b = {}\".format(a,b))\n",
    "\n",
    "a = a + b\n",
    "b = a - b\n",
    "a = a - b\n",
    "\n",
    "print(\"Swapped Values are a = {} and b = {}\".format(a,b))"
   ]
  }
 ],
 "metadata": {
  "interpreter": {
   "hash": "b3ba2566441a7c06988d0923437866b63cedc61552a5af99d1f4fb67d367b25f"
  },
  "kernelspec": {
   "display_name": "Python 3.8.8 64-bit ('base': conda)",
   "language": "python",
   "name": "python3"
  },
  "language_info": {
   "codemirror_mode": {
    "name": "ipython",
    "version": 3
   },
   "file_extension": ".py",
   "mimetype": "text/x-python",
   "name": "python",
   "nbconvert_exporter": "python",
   "pygments_lexer": "ipython3",
   "version": "3.8.8"
  },
  "orig_nbformat": 4
 },
 "nbformat": 4,
 "nbformat_minor": 2
}
