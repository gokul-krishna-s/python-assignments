{
 "cells": [
  {
   "cell_type": "markdown",
   "metadata": {},
   "source": [
    "Q1. Write a Python Program to Add Two Matrices?"
   ]
  },
  {
   "cell_type": "code",
   "execution_count": 7,
   "metadata": {},
   "outputs": [
    {
     "name": "stdout",
     "output_type": "stream",
     "text": [
      "[16, 15, 4]\n",
      "[9, 9, 8]\n",
      "[14, 11, 19]\n"
     ]
    }
   ],
   "source": [
    "def addTwoMatrix(m1,m2):\n",
    "\n",
    "    result = m1\n",
    "    \n",
    "    for i in range(len(m1)):\n",
    "        for j in range(len(m1[0])):\n",
    "            result[i][j] = m1[i][j] + m2[i][j]\n",
    "\n",
    "    return result\n",
    "\n",
    "m1 = [[5,7,3],\n",
    "    [3 ,5,6],\n",
    "    [10 ,6,9]]\n",
    "\n",
    "m2 = [[11,8,1],\n",
    "    [6,4,2],\n",
    "    [4,5,10]]\n",
    "\n",
    "\n",
    "\n",
    "result = addTwoMatrix(m1,m2)\n",
    "for i in result:\n",
    "    print(i)"
   ]
  },
  {
   "cell_type": "markdown",
   "metadata": {},
   "source": [
    "Q2. Write a Python Program to Multiply Two Matrices?"
   ]
  },
  {
   "cell_type": "code",
   "execution_count": 40,
   "metadata": {},
   "outputs": [
    {
     "name": "stdout",
     "output_type": "stream",
     "text": [
      "[127, 86, 46, 59]\n",
      "[123, 80, 67, 68]\n",
      "[236, 158, 103, 107]\n"
     ]
    }
   ],
   "source": [
    "def multiplyTwoMatrix(m1,m2):\n",
    "\n",
    "    r1 = len(m1)\n",
    "    c1 = len(m1[0])\n",
    "\n",
    "    r2 = len(m2)\n",
    "    c2 = len(m2[0])\n",
    "\n",
    "        \n",
    "    if c1!=r2:\n",
    "        print(\"The matrix cannot be multiplied\")    \n",
    "        return \n",
    "\n",
    "    result = []\n",
    "\n",
    "    for r in range(r1):\n",
    "        row = []\n",
    "        for c in range(c2):\n",
    "            row.append(0)\n",
    "        result.append(row)\n",
    "        \n",
    "    \n",
    "    for i in range(r1):\n",
    "        for j in range(c2):\n",
    "            sum = 0\n",
    "            for k in range(r1):\n",
    "                sum += m1[i][k] * m2[k][j]\n",
    "            result[i][j] = sum\n",
    "\n",
    "    return result\n",
    "\n",
    "\n",
    "\n",
    "\n",
    "m1 = [[5,7,3],\n",
    "    [3 ,5,6],\n",
    "    [10 ,6,9]]\n",
    "\n",
    "m2 = [[11,8,1,2],\n",
    "    [6,4,2,4],\n",
    "    [10 ,6,9,7]]\n",
    "\n",
    "result = multiplyTwoMatrix(m1,m2)\n",
    "for i in result:\n",
    "    print(i)\n"
   ]
  },
  {
   "cell_type": "markdown",
   "metadata": {},
   "source": [
    "Q3. Write a Python Program to Transpose a Matrix?"
   ]
  },
  {
   "cell_type": "code",
   "execution_count": 39,
   "metadata": {},
   "outputs": [
    {
     "name": "stdout",
     "output_type": "stream",
     "text": [
      "[5, 3, 10]\n",
      "[7, 5, 6]\n",
      "[3, 6, 9]\n"
     ]
    }
   ],
   "source": [
    "def transposeMatrix(m1):\n",
    "\n",
    "    r1 = len(m1)\n",
    "    c1 = len(m1[0])\n",
    "\n",
    "\n",
    "\n",
    "    result = []\n",
    "\n",
    "    for r in range(r1):\n",
    "        row = []\n",
    "        for c in range(c1):\n",
    "            row.append(0)\n",
    "        result.append(row)\n",
    "        \n",
    "    \n",
    "    for i in range(r1):\n",
    "        for j in range(c1):\n",
    "            result[j][i] = m1[i][j]\n",
    "\n",
    "    return result\n",
    "\n",
    "\n",
    "\n",
    "\n",
    "m1 = [[5,7,3],\n",
    "    [3 ,5,6],\n",
    "    [10 ,6,9]]\n",
    "\n",
    "\n",
    "result = transposeMatrix(m1)\n",
    "for i in result:\n",
    "    print(i)"
   ]
  },
  {
   "cell_type": "markdown",
   "metadata": {},
   "source": [
    "Q4. Write a Python Program to Sort Words in Alphabetic Order?"
   ]
  },
  {
   "cell_type": "code",
   "execution_count": 41,
   "metadata": {},
   "outputs": [
    {
     "data": {
      "text/plain": [
       "['Gokul', 'Hello', 'is', 'this']"
      ]
     },
     "execution_count": 41,
     "metadata": {},
     "output_type": "execute_result"
    }
   ],
   "source": [
    "def sortInAlphabeticOrder(str):\n",
    "    words = [word for word in str.split()]\n",
    "    words.sort()\n",
    "\n",
    "    return words\n",
    "\n",
    "str = 'Hello this is Gokul'\n",
    "sortedWords = sortInAlphabeticOrder(str)\n",
    "sortedWords\n",
    "\n"
   ]
  },
  {
   "cell_type": "markdown",
   "metadata": {},
   "source": [
    "Q5. Write a Python Program to Remove Punctuation From a String?"
   ]
  },
  {
   "cell_type": "code",
   "execution_count": 44,
   "metadata": {},
   "outputs": [
    {
     "data": {
      "text/plain": [
       "'Hello this is Gokul'"
      ]
     },
     "execution_count": 44,
     "metadata": {},
     "output_type": "execute_result"
    }
   ],
   "source": [
    "def removePunctuation(str):\n",
    "    \n",
    "    punctuations = '''!()-[]{};:'\"\\,<>./?@#$%^&*_~'''\n",
    "\n",
    "    result = \"\"\n",
    "    for i in str:\n",
    "        if i not in punctuations:\n",
    "            result+=i\n",
    "\n",
    "    return result\n",
    "\n",
    "str = 'Hello!! this is #Gokul'\n",
    "result = removePunctuation(str)\n",
    "result"
   ]
  }
 ],
 "metadata": {
  "interpreter": {
   "hash": "b3ba2566441a7c06988d0923437866b63cedc61552a5af99d1f4fb67d367b25f"
  },
  "kernelspec": {
   "display_name": "Python 3.8.8 ('base')",
   "language": "python",
   "name": "python3"
  },
  "language_info": {
   "codemirror_mode": {
    "name": "ipython",
    "version": 3
   },
   "file_extension": ".py",
   "mimetype": "text/x-python",
   "name": "python",
   "nbconvert_exporter": "python",
   "pygments_lexer": "ipython3",
   "version": "3.8.8"
  },
  "orig_nbformat": 4
 },
 "nbformat": 4,
 "nbformat_minor": 2
}
