{
 "cells": [
  {
   "cell_type": "markdown",
   "metadata": {},
   "source": [
    "##### 1. Write a function that stutters a word as if someone is struggling to read it. Thefirst two letters are repeated twice with an ellipsis ... and space after each, and then the word is pronounced with a question mark ?.\n",
    "\n",
    "**Examples**\n",
    "- stutter(\"incredible\") ➞ \"in... in... incredible?\"\n",
    "- stutter(\"enthusiastic\") ➞ \"en... en... enthusiastic?\"\n",
    "- stutter(\"outstanding\") ➞ \"ou... ou... outstanding?\" \n",
    "\n",
    "**Hint :- Assume all input is in lower case and at least two characters long.**\n"
   ]
  },
  {
   "cell_type": "code",
   "execution_count": 3,
   "metadata": {},
   "outputs": [
    {
     "name": "stdout",
     "output_type": "stream",
     "text": [
      "en... en... enthusiastic?\n"
     ]
    }
   ],
   "source": [
    "def shutter(word):\n",
    "\n",
    "    result = word[:2]\n",
    "    result = result +'... '\n",
    "    result = result + result\n",
    "    result = result + word\n",
    "    result = result + '?'\n",
    "    \n",
    "    return result\n",
    "    \n",
    "\n",
    "print(shutter('enthusiastic'))\n"
   ]
  },
  {
   "cell_type": "markdown",
   "metadata": {},
   "source": [
    "##### 2.Create a function that takes an angle in radians and returns the corresponding angle in degrees rounded to one decimal place.\n",
    "**Examples**\n",
    "- radians_to_degrees(1) ➞ 57.3\n",
    "- radians_to_degrees(20) ➞ 1145.9\n",
    "- radians_to_degrees(50) ➞ 2864.8\n",
    "\n"
   ]
  },
  {
   "cell_type": "code",
   "execution_count": 6,
   "metadata": {},
   "outputs": [
    {
     "name": "stdout",
     "output_type": "stream",
     "text": [
      "1145.9\n"
     ]
    }
   ],
   "source": [
    "import math\n",
    "def radians_to_degrees(angle_in_radians):\n",
    "    return round(angle_in_radians * (180/math.pi), 1)\n",
    "\n",
    "print(radians_to_degrees(20))"
   ]
  },
  {
   "cell_type": "markdown",
   "metadata": {},
   "source": [
    "##### 3. In this challenge, establish if a given integer num is a Curzon number. If 1 plus 2 elevated to num is exactly divisible by 1 plus 2 multiplied by num, then num is a Curzon number. Given a non-negative integer num, implement a function that returns True if num is a Curzon number, or False otherwise.\n",
    "\n",
    "**Examples**\n",
    "- is_curzon(5) ➞ True\n",
    "   - 2 ** 5 + 1 = 33\n",
    "   - 2 * 5 + 1 = 11\n",
    "   - 33 is a multiple of 11\n",
    "- is_curzon(10) ➞ False\n",
    "   - 2 ** 10 + 1 = 1025\n",
    "   - 2 * 10 + 1 = 21\n",
    "   - 1025 is not a multiple of 21\n",
    "- is_curzon(14) ➞ True\n",
    "   - 2 ** 14 + 1 = 16385\n",
    "   - 2 * 14 + 1 = 29\n",
    "   - 16385 is a multiple of 29\n",
    "\n"
   ]
  },
  {
   "cell_type": "code",
   "execution_count": 8,
   "metadata": {},
   "outputs": [
    {
     "name": "stdout",
     "output_type": "stream",
     "text": [
      "True\n"
     ]
    }
   ],
   "source": [
    "def is_curzon(num):\n",
    "    a = 1 + (2**num)\n",
    "    b = 1 + (2*num)\n",
    "\n",
    "    return a%b == 0\n",
    "\n",
    "print(is_curzon(14))"
   ]
  },
  {
   "cell_type": "markdown",
   "metadata": {},
   "source": [
    "##### 4. Given the side length x find the area of a hexagon.\n",
    "\n",
    "**Examples**\n",
    "- area_of_hexagon(1) ➞ 2.6\n",
    "- area_of_hexagon(2) ➞ 10.4\n",
    "- area_of_hexagon(3) ➞ 23.4\n",
    "\n"
   ]
  },
  {
   "cell_type": "code",
   "execution_count": 14,
   "metadata": {},
   "outputs": [
    {
     "name": "stdout",
     "output_type": "stream",
     "text": [
      "10.4\n"
     ]
    }
   ],
   "source": [
    "import math\n",
    "def area_of_hexagon(side):\n",
    "    return round(((3 * math.sqrt(3) * side**2) / 2), 1)\n",
    "\n",
    "print(area_of_hexagon(2))"
   ]
  },
  {
   "cell_type": "markdown",
   "metadata": {},
   "source": [
    "##### 5. Create a function that returns a base-2 (binary) representation of a base-10(decimal) string number. To convert is simple: ((2) means base-2 and (10) means base-10) 010101001(2) = 1 + 8 + 32 + 128. Going from right to left, the value of the most right bit is 1, now from that every bit to the left will be x2 the value, value of an 8 bit binary numbers are (256, 128, 64, 32, 16, 8, 4, 2, 1).\n",
    "\n",
    "**Examples:**\n",
    "- binary(1) ➞ \"1\"\n",
    "  -  1*1 = 1\n",
    "- binary(5) ➞ \"101\"\n",
    "  -  1*1 + 1*4 = 5\n",
    "- binary(10) ➞ \"1010\"\n",
    "  -  1*2 + 1*8 = 10**"
   ]
  },
  {
   "cell_type": "code",
   "execution_count": 12,
   "metadata": {},
   "outputs": [
    {
     "name": "stdout",
     "output_type": "stream",
     "text": [
      "101\n"
     ]
    }
   ],
   "source": [
    "def binary(decimal_value):\n",
    "    \n",
    "\n",
    "    temp = int(decimal_value)\n",
    "    binary = 0\n",
    "    counter = 0\n",
    "    while temp > 0:\n",
    "        binary = (temp%2)*(10**counter) + binary\n",
    "        temp = temp//2\n",
    "        counter += 1\n",
    "    return binary\n",
    "\n",
    "print(binary(5))"
   ]
  }
 ],
 "metadata": {
  "interpreter": {
   "hash": "b3ba2566441a7c06988d0923437866b63cedc61552a5af99d1f4fb67d367b25f"
  },
  "kernelspec": {
   "display_name": "Python 3.8.8 ('base')",
   "language": "python",
   "name": "python3"
  },
  "language_info": {
   "codemirror_mode": {
    "name": "ipython",
    "version": 3
   },
   "file_extension": ".py",
   "mimetype": "text/x-python",
   "name": "python",
   "nbconvert_exporter": "python",
   "pygments_lexer": "ipython3",
   "version": "3.8.8"
  },
  "orig_nbformat": 4
 },
 "nbformat": 4,
 "nbformat_minor": 2
}
