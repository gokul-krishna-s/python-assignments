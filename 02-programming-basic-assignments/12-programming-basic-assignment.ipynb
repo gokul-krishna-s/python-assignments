{
 "cells": [
  {
   "cell_type": "markdown",
   "metadata": {},
   "source": [
    "1. Write a Python program to Extract Unique values dictionary values?\n"
   ]
  },
  {
   "cell_type": "code",
   "execution_count": 1,
   "metadata": {},
   "outputs": [
    {
     "data": {
      "text/plain": [
       "{2, 4, 7, 11, 17, 25, 32, 33, 41, 43, 45, 56, 57, 66, 89}"
      ]
     },
     "execution_count": 1,
     "metadata": {},
     "output_type": "execute_result"
    }
   ],
   "source": [
    "def extractUniqueValues(dictn):\n",
    "\n",
    "   result = {elem for val in dictn.values() for elem in val}\n",
    "\n",
    "   return result\n",
    "\n",
    "\n",
    "\n",
    "dictn = {\n",
    "   'a' : [33,41,7, 4],\n",
    "   'b' : [32, 25, 41, 43],\n",
    "   'c' : [4, 2, 66],\n",
    "   'd' : [17, 11, 45],\n",
    "   'e' : [56, 57, 89, 33]}\n",
    "\n",
    "result = extractUniqueValues(dictn)\n",
    "result"
   ]
  },
  {
   "cell_type": "markdown",
   "metadata": {},
   "source": [
    "2. Write a Python program to find the sum of all items in a dictionary?\n"
   ]
  },
  {
   "cell_type": "code",
   "execution_count": 7,
   "metadata": {},
   "outputs": [
    {
     "name": "stdout",
     "output_type": "stream",
     "text": [
      "Sum : 600\n"
     ]
    }
   ],
   "source": [
    "def getSum(dictn):\n",
    "     \n",
    "    list = [val for val in dictn.values()]\n",
    "\n",
    "    return sum(list)\n",
    " \n",
    "dict1 = {'a': 100, 'b':200, 'c':300}\n",
    "print(\"Sum :\", getSum(dict1))"
   ]
  },
  {
   "cell_type": "markdown",
   "metadata": {},
   "source": [
    "3. Write a Python program to Merging two Dictionaries?\n"
   ]
  },
  {
   "cell_type": "code",
   "execution_count": 7,
   "metadata": {},
   "outputs": [
    {
     "name": "stdout",
     "output_type": "stream",
     "text": [
      "{'a': 100, 'b': 50, 'd': 40, 'c': 6}\n"
     ]
    }
   ],
   "source": [
    "def MergeDict(dict1, dict2):\n",
    "\n",
    "    return(dict1.update(dict2))\n",
    "     \n",
    "dict1 = {'a': 100, 'b': 50}\n",
    "dict2 = {'d': 40, 'c': 6}\n",
    "MergeDict(dict1, dict2) \n",
    " \n",
    "print(dict1)"
   ]
  },
  {
   "cell_type": "markdown",
   "metadata": {},
   "source": [
    "4. Write a Python program to convert key-values list to flat dictionary?\n"
   ]
  },
  {
   "cell_type": "code",
   "execution_count": 46,
   "metadata": {},
   "outputs": [
    {
     "name": "stdout",
     "output_type": "stream",
     "text": [
      "{'day': [1, 2, 3], 'name': ['Mon', 'Tue', 'Wed']}\n",
      "day [1, 2, 3]\n",
      "name ['Mon', 'Tue', 'Wed']\n"
     ]
    }
   ],
   "source": [
    "d= { \"day\": [1, 2, 3], \"name\": ['Mon', 'Tue', 'Wed' ] }\n",
    "print(d)\n",
    "\n",
    "for key,value in d.items():\n",
    "    print(key,value)"
   ]
  },
  {
   "cell_type": "markdown",
   "metadata": {},
   "source": [
    "5. Write a Python program to insertion at the beginning in OrderedDict?\n"
   ]
  },
  {
   "cell_type": "code",
   "execution_count": 25,
   "metadata": {},
   "outputs": [
    {
     "data": {
      "text/plain": [
       "OrderedDict([('C', '3'), ('A', '1'), ('B', '2')])"
      ]
     },
     "execution_count": 25,
     "metadata": {},
     "output_type": "execute_result"
    }
   ],
   "source": [
    "from collections import OrderedDict\n",
    " \n",
    "\n",
    "dict1 = OrderedDict([('A', '1'), ('B', '2')])\n",
    " \n",
    "\n",
    "dict1.update({'C':'3'})\n",
    "dict1.move_to_end('C', last = False)\n",
    " \n",
    "dict1"
   ]
  },
  {
   "cell_type": "markdown",
   "metadata": {},
   "source": [
    "6. Write a Python program to check order of character in string using OrderedDict()?\n"
   ]
  },
  {
   "cell_type": "code",
   "execution_count": 39,
   "metadata": {},
   "outputs": [
    {
     "name": "stdout",
     "output_type": "stream",
     "text": [
      "True\n",
      "False\n"
     ]
    }
   ],
   "source": [
    "from collections import OrderedDict \n",
    "def checkOrder(strn, pattern): \n",
    "    dic = OrderedDict.fromkeys(strn) \n",
    "    i = 0\n",
    "    for key,value in dic.items(): \n",
    "\n",
    "        if (key == pattern[i]): \n",
    "            i += 1\n",
    "        if (i == (len(pattern))): \n",
    "            return True\n",
    "    return False\n",
    "\n",
    "str1 = 'Hello'\n",
    "pattern = 'eo'\n",
    "print (checkOrder(str1,pattern))\n",
    "\n",
    "str2= 'Good Morning'\n",
    "pattern2= 'in'\n",
    "print (checkOrder(str2,pattern2)) "
   ]
  },
  {
   "cell_type": "markdown",
   "metadata": {},
   "source": [
    "7. Write a Python program to sort Python Dictionaries by Key or Value?"
   ]
  },
  {
   "cell_type": "code",
   "execution_count": 38,
   "metadata": {},
   "outputs": [
    {
     "name": "stdout",
     "output_type": "stream",
     "text": [
      "dict_items([('A', 1), ('B', 3), ('C', 2)])\n",
      "[('A', 1), ('C', 2), ('B', 3)]\n"
     ]
    }
   ],
   "source": [
    "def sortByValue(dictn):\n",
    "    return sorted(dictn.items(), key=lambda dictn: (dictn[1], dictn[0]))\n",
    "\n",
    "dict1 = {'A':1,'B':3,'C':2}\n",
    "print(dict1.items())\n",
    "print(sortByValue(dict1))\n"
   ]
  }
 ],
 "metadata": {
  "interpreter": {
   "hash": "b3ba2566441a7c06988d0923437866b63cedc61552a5af99d1f4fb67d367b25f"
  },
  "kernelspec": {
   "display_name": "Python 3.8.8 ('base')",
   "language": "python",
   "name": "python3"
  },
  "language_info": {
   "codemirror_mode": {
    "name": "ipython",
    "version": 3
   },
   "file_extension": ".py",
   "mimetype": "text/x-python",
   "name": "python",
   "nbconvert_exporter": "python",
   "pygments_lexer": "ipython3",
   "version": "3.8.8"
  },
  "orig_nbformat": 4
 },
 "nbformat": 4,
 "nbformat_minor": 2
}
