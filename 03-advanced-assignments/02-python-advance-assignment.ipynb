{
 "cells": [
  {
   "cell_type": "markdown",
   "metadata": {},
   "source": [
    "Q1. What is the relationship between classes and modules?\n",
    "\n",
    "    Both classes and modules are used for code reusability. A class is a blueprint for an object. A module is python file file containing definitions of different methods and classes which can imported by another python program."
   ]
  },
  {
   "cell_type": "markdown",
   "metadata": {},
   "source": [
    "Q2. How do you make instances and classes?\n",
    "\n",
    "    A class can be defined by using using the keyword 'class' followed by the class name. And properties and methods inside the class body. Whereas an instance can be created by calling the class name as if it were a method. "
   ]
  },
  {
   "cell_type": "markdown",
   "metadata": {},
   "source": [
    "Q3. Where and how should be class attributes created?\n",
    "\n",
    "    Class attributes are usually created in the top of class definition outside all methods. It belongs to the class itself and is shared accross all the instances of the class."
   ]
  },
  {
   "cell_type": "markdown",
   "metadata": {},
   "source": [
    "Q4. Where and how are instance attributes created?\n",
    "\n",
    "    Instance attributes are created inside the constructor function of a class. Unlike class attributes, these attributes have different values for different instances."
   ]
  },
  {
   "cell_type": "code",
   "execution_count": null,
   "metadata": {},
   "outputs": [],
   "source": [
    "class X:\n",
    "    a = 4; # this is a class attribute\n",
    "    def __init__(self,attr1,attr2,attr3):\n",
    "        self.attr1 = attr1 # these are instance attributes\n",
    "        self.attr2 = attr2\n",
    "        self.attr3 = attr3"
   ]
  },
  {
   "cell_type": "markdown",
   "metadata": {},
   "source": [
    "Q5. What does the term \"self\" in a Python class mean?\n",
    "\n",
    "    \"self' refers to the instance of the class. Using self keyword we can access the attributes and methods of the class with in the class"
   ]
  },
  {
   "cell_type": "markdown",
   "metadata": {},
   "source": [
    "Q6. How does a Python class handle operator overloading?\n",
    "\n",
    "    Python Classes handle operator overloading by using special methods called Magic methods. These special methods usually begin and end with `__` (double underscore)\n",
    "      \n",
    "    Magic methods for basic arithmetic operators are:\n",
    "    + -> __add__()\n",
    "    - -> __sub__()\n",
    "    * -> __mul__()\n",
    "    / -> __div__()"
   ]
  },
  {
   "cell_type": "markdown",
   "metadata": {},
   "source": [
    "Q7. When do you consider allowing operator overloading of your classes?\n",
    "\n",
    "    Operator overloading is considered when we want to have different meaning for the same operator according to the context."
   ]
  },
  {
   "cell_type": "markdown",
   "metadata": {},
   "source": [
    "Q8. What is the most popular form of operator overloading?\n",
    "\n",
    "    Operator overloading is achieved in python by using special methods called as Magic Methods. These special methods usually begin and end with `__` (double underscore)"
   ]
  },
  {
   "cell_type": "markdown",
   "metadata": {},
   "source": [
    "Q9. What are the two most important concepts to grasp in order to comprehend Python OOP code?\n",
    "\n",
    "    Understanding of classes and objects is the most important in order to comprehend Python OOP code"
   ]
  }
 ],
 "metadata": {
  "kernelspec": {
   "display_name": "Python 3.9.7 ('base')",
   "language": "python",
   "name": "python3"
  },
  "language_info": {
   "codemirror_mode": {
    "name": "ipython",
    "version": 3
   },
   "file_extension": ".py",
   "mimetype": "text/x-python",
   "name": "python",
   "nbconvert_exporter": "python",
   "pygments_lexer": "ipython3",
   "version": "3.9.7"
  },
  "vscode": {
   "interpreter": {
    "hash": "ad2bdc8ecc057115af97d19610ffacc2b4e99fae6737bb82f5d7fb13d2f2c186"
   }
  }
 },
 "nbformat": 4,
 "nbformat_minor": 2
}
