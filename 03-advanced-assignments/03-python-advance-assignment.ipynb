{
 "cells": [
  {
   "cell_type": "markdown",
   "id": "6d38e68b",
   "metadata": {},
   "source": [
    "Q1. What is the concept of an abstract superclass?\n",
    "\n",
    "    An abstract superclass can be considered as a blueprint for the child class. It contains methods without definition. The classes inherits it should implement the methods declared in it. Python by default doesn't support abstract classes. For that we need to import ABC and abstractmethod. "
   ]
  },
  {
   "cell_type": "code",
   "execution_count": 1,
   "id": "00e14ca4",
   "metadata": {},
   "outputs": [],
   "source": [
    "from abc import ABC, abstractmethod\n",
    "class X(ABC): # Abstract Class\n",
    "\n",
    "    @abstractmethod\n",
    "    def func1(self): # Abstract Method\n",
    "        pass\n",
    "class Y(X):\n",
    "    def func1(self):  # overriding abstract method in child class\n",
    "        print(\"hello\")"
   ]
  },
  {
   "cell_type": "markdown",
   "id": "e4a49a25",
   "metadata": {},
   "source": [
    "Q2. What happens when a class statement's top level contains a basic assignment statement?\n",
    "\n",
    "    When a Class statement's top level contains a basic assignment statement, it is treated as a class attribute. This attribute, unlike instance attributes,  will be shared accross all the instances of the class. "
   ]
  },
  {
   "cell_type": "code",
   "execution_count": 2,
   "id": "c5d88b4d",
   "metadata": {},
   "outputs": [],
   "source": [
    "class X:\n",
    "    a = 4; # this is a class attribute\n",
    "    def __init__(self,attr1,attr2,attr3):\n",
    "        self.attr1 = attr1 # these are instance attributes\n",
    "        self.attr2 = attr2\n",
    "        self.attr3 = attr3"
   ]
  },
  {
   "cell_type": "markdown",
   "id": "beb231b3",
   "metadata": {},
   "source": [
    "Q3. Why does a class need to manually call a superclass's __init__ method?\n",
    "\n",
    "    The __init__() method of the child class overrides the __init__() method of the parent class. So if we want to assign a value to the attributes inherited from the paraent class we have to manually call a parent class's __init__() using super() method"
   ]
  },
  {
   "cell_type": "markdown",
   "id": "f7468111",
   "metadata": {},
   "source": [
    "Q4. How can you augment, instead of completely replacing, an inherited method?\n",
    "\n",
    "    To augment, instead of completely replacing, an inherited method, manually call the super class version of the method from subclass version of the method. For constructor methods we can also use super() method to call superclass constructor method."
   ]
  },
  {
   "cell_type": "code",
   "execution_count": 7,
   "id": "437bf527",
   "metadata": {},
   "outputs": [
    {
     "name": "stdout",
     "output_type": "stream",
     "text": [
      "{'a': 10, 'b': 20, 'c': 30}\n",
      "10 20 30 "
     ]
    }
   ],
   "source": [
    "class X:\n",
    "    def __init__(self,a,b):\n",
    "        self.a = a\n",
    "        self.b = b\n",
    "\n",
    "    def show(self):\n",
    "        print(self.a,self.b, end=' ')\n",
    "\n",
    "class Y(X):\n",
    "    def __init__(self,a,b,c):\n",
    "        super().__init__(a,b) # superclass constructor is called using super()\n",
    "        self.c = c\n",
    "    \n",
    "    def show(self):\n",
    "        X.show(self) # superclass method is called manually\n",
    "        print(self.c, end=' ')\n",
    "\n",
    "obj1 = Y(10, 20, 30)\n",
    "print(obj1.__dict__)\n",
    "obj1.show()       "
   ]
  },
  {
   "cell_type": "markdown",
   "id": "16559793",
   "metadata": {},
   "source": [
    "Q5. How is the local scope of a class different from that of a function?\n",
    "\n",
    "    A Variable which is defined inside a function can be accessed from the point at which it is defined until the end of the function, and exists for as long as the function is existing. This variable is local to that function and can only be accessed inside the function. Variable which is defined inside a class can be accessed outside of the class by using '.' operator."
   ]
  }
 ],
 "metadata": {
  "kernelspec": {
   "display_name": "Python 3.9.7 ('base')",
   "language": "python",
   "name": "python3"
  },
  "language_info": {
   "codemirror_mode": {
    "name": "ipython",
    "version": 3
   },
   "file_extension": ".py",
   "mimetype": "text/x-python",
   "name": "python",
   "nbconvert_exporter": "python",
   "pygments_lexer": "ipython3",
   "version": "3.9.7"
  },
  "vscode": {
   "interpreter": {
    "hash": "ad2bdc8ecc057115af97d19610ffacc2b4e99fae6737bb82f5d7fb13d2f2c186"
   }
  }
 },
 "nbformat": 4,
 "nbformat_minor": 5
}
